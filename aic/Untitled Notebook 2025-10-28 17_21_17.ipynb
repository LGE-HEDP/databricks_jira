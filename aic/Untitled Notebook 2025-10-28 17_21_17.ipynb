# Databricks notebook source
from databricks.sdk import WorkspaceClient
import subprocess
from datetime import datetime

w = WorkspaceClient()

# Notebook export
notebook_path = "/Workspace/Users/you@databricks.com/my_notebook"
export_path = "/tmp/my_notebook.ipynb"
content = w.workspace.export(notebook_path, format="JUPYTER")
with open(export_path, "wb") as f:
    f.write(content)

# Git push
GIT_REPO = "/databricks/driver/aic"
BRANCH = "main"

subprocess.run(["git", "-C", GIT_REPO, "add", "."], check=False)
diff = subprocess.run(["git", "-C", GIT_REPO, "diff", "--cached", "--quiet"])
if diff.returncode != 0:
    subprocess.run(["git", "-C", GIT_REPO, "commit", "-m", f"Auto backup {datetime.now():%Y-%m-%d %H:%M:%S}"])
    subprocess.run(["git", "-C", GIT_REPO, "push", "origin", BRANCH])
