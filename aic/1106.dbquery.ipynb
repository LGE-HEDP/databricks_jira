{
 "cells": [
  {
   "cell_type": "code",
   "execution_count": 0,
   "metadata": {
    "application/vnd.databricks.v1+cell": {
     "cellMetadata": {
      "byteLimit": 10485760,
      "rowLimit": 64000
     },
     "inputWidgets": {},
     "nuid": "b80034e5-6917-49e8-87b6-f0bb75c71904",
     "showTitle": false,
     "tableResultSettingsMap": {},
     "title": ""
    }
   },
   "outputs": [],
   "source": [
    "WITH exploded AS (\n",
    "    SELECT\n",
    "        mac_addr,\n",
    "        sales_model_code,\n",
    "        country_code,\n",
    "        platform_version,\n",
    "        hdmi_item.hdmi_label\n",
    "    FROM aic_data_mart.tv_usage.hdmi_usage\n",
    "    LATERAL VIEW explode(hdmi_info) t AS hdmi_item\n",
    "    WHERE date_ym = '2023-12'\n",
    "      AND platform_version = 'webOS23'\n",
    "      AND hdmi_item.hdmi_type = 'audio'\n",
    "),\n",
    "total_audio_mac AS (\n",
    "    SELECT COUNT(DISTINCT mac_addr) AS total_audio_unique_mac\n",
    "    FROM exploded\n",
    ")\n",
    "SELECT\n",
    "    platform_version,\n",
    "    country_code,\n",
    "    sales_model_code,\n",
    "    hdmi_label,\n",
    "    COUNT(DISTINCT mac_addr) AS unique_mac_count,\n",
    "    total_audio_mac.total_audio_unique_mac AS total_audio_mac_count,\n",
    "    ROUND(COUNT(DISTINCT mac_addr) / total_audio_mac.total_audio_unique_mac * 100, 2) AS percentage\n",
    "FROM exploded\n",
    "CROSS JOIN total_audio_mac\n",
    "GROUP BY platform_version, country_code, sales_model_code, hdmi_label, total_audio_mac.total_audio_unique_mac\n",
    "ORDER BY unique_mac_count DESC;"
   ]
  }
 ],
 "metadata": {
  "application/vnd.databricks.v1+notebook": {
   "computePreferences": null,
   "dashboards": [],
   "environmentMetadata": null,
   "inputWidgetPreferences": null,
   "language": "sql",
   "notebookMetadata": {
    "pythonIndentUnit": 4,
    "sqlQueryOptions": {
     "applyAutoLimit": false,
     "catalog": "public_aic",
     "schema": "default"
    }
   },
   "notebookName": "1106.dbquery.ipynb",
   "widgets": {}
  },
  "language_info": {
   "name": "sql"
  }
 },
 "nbformat": 4,
 "nbformat_minor": 0
}
