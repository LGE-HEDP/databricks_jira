{
 "cells": [
  {
   "cell_type": "markdown",
   "metadata": {
    "application/vnd.databricks.v1+cell": {
     "cellMetadata": {},
     "inputWidgets": {},
     "nuid": "1be16fad-99d5-49dd-b4b0-0112bc767112",
     "showTitle": false,
     "tableResultSettingsMap": {},
     "title": ""
    }
   },
   "source": [
    "http://jira.lge.com/issue/browse/HEDATAPLFM-1032?attachmentSortBy=dateTime&attachmentOrder=asc\n",
    "\n",
    "- webOS Platform : webOS 버전 ex) webOS22\n",
    "- TV device ID : TV를 구분할 수 있는 고유 ID\n",
    "- spec : NL_HC_DEVICELIST 을 통해 출력 되는 spec 정보\n",
    "- type : NL_HC_DEVICELIST 을 통해 출력 되는 type 정보\n"
   ]
  },
  {
   "cell_type": "code",
   "execution_count": 0,
   "metadata": {
    "application/vnd.databricks.v1+cell": {
     "cellMetadata": {
      "byteLimit": 2048000,
      "implicitDf": true,
      "rowLimit": 10000
     },
     "inputWidgets": {},
     "nuid": "2b142898-78e1-4405-98da-4eeb7c95ffda",
     "showTitle": true,
     "tableResultSettingsMap": {
      "0": {
       "dataGridStateBlob": "{\"version\":1,\"tableState\":{\"columnPinning\":{\"left\":[\"#row_number#\"],\"right\":[]},\"columnSizing\":{},\"columnVisibility\":{}},\"settings\":{\"columns\":{}},\"syncTimestamp\":1758168655857}",
       "filterBlob": null,
       "queryPlanFiltersBlob": null,
       "tableResultIndex": 0
      }
     },
     "title": "추출쿼리"
    }
   },
   "outputs": [],
   "source": [
    "%sql\n",
    "create table if not exists adhoc.heds.1032_cl0 as \n",
    "with base_tb as (\n",
    "  select \n",
    "  substr(X_Device_Platform, 1, 3) as webOS_platform\n",
    "  , mac_addr\n",
    "  , explode(from_json(normal_log:dvc_list, 'array<struct<name:string,type:string,spec:string,id:string,label:string>>')) AS dvc\n",
    "  , dvc.type as dvc_type\n",
    "  , dvc.spec as dvc_spec\n",
    "from aic_data_ods.tlamp.normal_log_webos25\n",
    "where 1=1\n",
    "  and date_ym between '2024-01' and '2025-08'\n",
    "  and context_name=\"com.webos.app.homeconnect\"\n",
    "  and message_id=\"NL_HC_DEVICELIST\"\n",
    "\n",
    "  union all \n",
    "\n",
    "  select \n",
    "  substr(X_Device_Platform, 1, 3) as webOS_platform\n",
    "  , mac_addr\n",
    "  , explode(from_json(normal_log:dvc_list, 'array<struct<name:string,type:string,spec:string,id:string,label:string>>')) AS dvc\n",
    "  , dvc.type as dvc_type\n",
    "  , dvc.spec as dvc_spec\n",
    "from aic_data_ods.tlamp.normal_log_webos24\n",
    "where 1=1\n",
    "  and date_ym between '2024-01' and '2025-08'\n",
    "  and context_name=\"com.webos.app.homeconnect\"\n",
    "  and message_id=\"NL_HC_DEVICELIST\"\n",
    "\n",
    "  union all \n",
    "\n",
    "  select \n",
    "  substr(X_Device_Platform, 1, 3) as webOS_platform\n",
    "  , mac_addr\n",
    "  , explode(from_json(normal_log:dvc_list, 'array<struct<name:string,type:string,spec:string,id:string,label:string>>')) AS dvc\n",
    "  , dvc.type as dvc_type\n",
    "  , dvc.spec as dvc_spec\n",
    "from aic_data_ods.tlamp.normal_log_webos23\n",
    "where 1=1\n",
    "  and date_ym between '2024-01' and '2025-08'\n",
    "  and context_name=\"com.webos.app.homeconnect\"\n",
    "  and message_id=\"NL_HC_DEVICELIST\"  \n",
    "\n",
    "  union all \n",
    "\n",
    "  select \n",
    "  substr(X_Device_Platform, 1, 3) as webOS_platform\n",
    "  , mac_addr\n",
    "  , explode(from_json(normal_log:dvc_list, 'array<struct<name:string,type:string,spec:string,id:string,label:string>>')) AS dvc\n",
    "  , dvc.type as dvc_type\n",
    "  , dvc.spec as dvc_spec\n",
    "from aic_data_ods.tlamp.normal_log_webos22\n",
    "where 1=1\n",
    "  and date_ym between '2024-01' and '2025-08'\n",
    "  and context_name=\"com.webos.app.homeconnect\"\n",
    "  and message_id=\"NL_HC_DEVICELIST\"  \n",
    ")\n",
    "select distinct\n",
    "  webos_platform, mac_addr, dvc_type, dvc_spec\n",
    "from base_tb"
   ]
  },
  {
   "cell_type": "code",
   "execution_count": 0,
   "metadata": {
    "application/vnd.databricks.v1+cell": {
     "cellMetadata": {
      "byteLimit": 2048000,
      "rowLimit": 10000
     },
     "inputWidgets": {},
     "nuid": "a9a3bcea-635c-47cf-bd37-b2b1129d6768",
     "showTitle": false,
     "tableResultSettingsMap": {},
     "title": ""
    }
   },
   "outputs": [],
   "source": [
    "%sql\n",
    "select *\n",
    "from adhoc.heds.1032_cl0"
   ]
  }
 ],
 "metadata": {
  "application/vnd.databricks.v1+notebook": {
   "computePreferences": null,
   "dashboards": [],
   "environmentMetadata": {
    "base_environment": "",
    "environment_version": "3"
   },
   "inputWidgetPreferences": null,
   "language": "python",
   "notebookMetadata": {
    "mostRecentlyExecutedCommandWithImplicitDF": {
     "commandId": -1,
     "dataframes": [
      "_sqldf"
     ]
    },
    "pythonIndentUnit": 4
   },
   "notebookName": "1032_aic",
   "widgets": {}
  },
  "language_info": {
   "name": "python"
  }
 },
 "nbformat": 4,
 "nbformat_minor": 0
}
