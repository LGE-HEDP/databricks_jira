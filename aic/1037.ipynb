{
 "cells": [
  {
   "cell_type": "code",
   "execution_count": 0,
   "metadata": {
    "application/vnd.databricks.v1+cell": {
     "cellMetadata": {
      "byteLimit": 2048000,
      "rowLimit": 10000
     },
     "inputWidgets": {},
     "nuid": "f2a17670-ed7c-4785-b38d-02196bdadee3",
     "showTitle": false,
     "tableResultSettingsMap": {},
     "title": ""
    }
   },
   "outputs": [],
   "source": [
    "df = spark.sql('''\n",
    "               -- select count(1) -- 7,513,673\n",
    "    SELECT\n",
    "        X_device_platform as `platform_code`,  -- 필수 열\n",
    "        X_device_product as `platform_version`,-- 필수 열\n",
    "        X_Device_Country as `country_code`,    -- 필수/조건 열\n",
    "        log_create_time,                       -- 필수/조건 열\n",
    "        -- X_Device_SDK_VERSION as `dpv`,\n",
    "        mac_addr,               -- 필수 열  \n",
    "        x_device_sales_model as `sales_model_code`, -- 필수 열\n",
    "        context_name,                          -- 필수/조건 열  \n",
    "        message_id,                            -- 필수/조건 열\n",
    "        normal_log:terrestrial_analog_tv,\n",
    "        normal_log:terrestrial_digital_tv,\n",
    "        normal_log:cable_analog_tv,\n",
    "        normal_log:cable_digital_tv,\n",
    "        normal_log:terrestrial_digital_tv_uhd,\n",
    "    normal_log:cable_digital_tv_uhd\n",
    "    FROM aic_data_ods.tlamp.normal_log_webos23\n",
    "    WHERE 1=1\n",
    "        AND X_device_country = 'US'\n",
    "        AND context_name = 'BROADCAST'\n",
    "        AND message_id = 'NL_BROADCAST_CHANNEL_COUNT'\n",
    "        AND date_ym >= '2024-08'\n",
    "        AND date_ym < '2025-06'\n",
    "               ''')"
   ]
  },
  {
   "cell_type": "code",
   "execution_count": 0,
   "metadata": {
    "application/vnd.databricks.v1+cell": {
     "cellMetadata": {
      "byteLimit": 2048000,
      "rowLimit": 10000
     },
     "inputWidgets": {},
     "nuid": "ec1a2fe0-21b8-45e5-a7a3-1bd1aa48c6d9",
     "showTitle": false,
     "tableResultSettingsMap": {},
     "title": ""
    }
   },
   "outputs": [],
   "source": [
    "df.coalesce(1).write.format(\"com.databricks.spark.csv\").option(\"header\", \"true\").save(\"s3://s3-lge-he-inbound-aic-dev/HEDS/HEDS-1037/NL_BROADCAST_CHANNEL_COUNT/\")"
   ]
  },
  {
   "cell_type": "code",
   "execution_count": 0,
   "metadata": {
    "application/vnd.databricks.v1+cell": {
     "cellMetadata": {
      "byteLimit": 2048000,
      "rowLimit": 10000
     },
     "inputWidgets": {},
     "nuid": "6c799e3b-b079-48ad-a82f-67675bb366b1",
     "showTitle": false,
     "tableResultSettingsMap": {},
     "title": ""
    }
   },
   "outputs": [],
   "source": [
    "df2 = spark.sql('''\n",
    "\n",
    "-- select count(1) -- 1,421,439\n",
    "SELECT\n",
    "    X_device_platform as `platform_code`,  -- 필수 열\n",
    "    X_device_product as `platform_version`,-- 필수 열\n",
    "    X_Device_Country as `country_code`,    -- 필수/조건 열\n",
    "    log_create_time,                       -- 필수/조건 열\n",
    "    -- X_Device_SDK_VERSION as `dpv`,\n",
    "    mac_addr,               -- 필수 열  \n",
    "    x_device_sales_model as `sales_model_code`, -- 필수 열\n",
    "    context_name,                          -- 필수/조건 열  \n",
    "    message_id,                            -- 필수/조건 열\n",
    "    normal_log:atv, normal_log:dtv, normal_log:catv, normal_log:cadtv, normal_log:dtv_uhd, normal_log:cadtv_uhd\n",
    "FROM aic_data_ods.tlamp.normal_log_webos23\n",
    "WHERE 1=1\n",
    "    AND X_device_country = 'US'\n",
    "    AND context_name = 'BROADCAST'\n",
    "    AND message_id = 'NL_BROADCAST_WATCH_CHANNELSOURCE'\n",
    "    AND date_ym >= '2024-08'\n",
    "    AND date_ym < '2025-06'\n",
    "''')"
   ]
  },
  {
   "cell_type": "code",
   "execution_count": 0,
   "metadata": {
    "application/vnd.databricks.v1+cell": {
     "cellMetadata": {
      "byteLimit": 2048000,
      "rowLimit": 10000
     },
     "inputWidgets": {},
     "nuid": "572d4f53-f3cb-4488-9040-4dc186147c3a",
     "showTitle": false,
     "tableResultSettingsMap": {},
     "title": ""
    }
   },
   "outputs": [],
   "source": [
    "df2.coalesce(1).write.format(\"com.databricks.spark.csv\").option(\"header\", \"true\").save(\"s3://s3-lge-he-inbound-aic-dev/HEDS/HEDS-1037/NL_BROADCAST_WATCH_CHANNELSOURCE/\")"
   ]
  },
  {
   "cell_type": "code",
   "execution_count": 0,
   "metadata": {
    "application/vnd.databricks.v1+cell": {
     "cellMetadata": {},
     "inputWidgets": {},
     "nuid": "f3df34de-70e5-4fd9-b9d0-4cd88f53df99",
     "showTitle": false,
     "tableResultSettingsMap": {},
     "title": ""
    }
   },
   "outputs": [],
   "source": []
  }
 ],
 "metadata": {
  "application/vnd.databricks.v1+notebook": {
   "computePreferences": null,
   "dashboards": [],
   "environmentMetadata": {
    "base_environment": "",
    "environment_version": "3"
   },
   "inputWidgetPreferences": null,
   "language": "python",
   "notebookMetadata": {
    "pythonIndentUnit": 4
   },
   "notebookName": "1037",
   "widgets": {}
  },
  "language_info": {
   "name": "python"
  }
 },
 "nbformat": 4,
 "nbformat_minor": 0
}
