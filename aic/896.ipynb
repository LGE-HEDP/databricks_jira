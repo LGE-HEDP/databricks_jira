{
 "cells": [
  {
   "cell_type": "markdown",
   "metadata": {
    "application/vnd.databricks.v1+cell": {
     "cellMetadata": {},
     "inputWidgets": {},
     "nuid": "f983cbc1-fb1e-4f1e-93d7-ae82dd27be02",
     "showTitle": false,
     "tableResultSettingsMap": {},
     "title": ""
    }
   },
   "source": [
    "[link](http://hlm.lge.com/issue/browse/HEDATAPLFM-896?attachmentSortBy=dateTime&attachmentOrder=asc)\n",
    "\n",
    "글로벌 데이터 추출\n"
   ]
  },
  {
   "cell_type": "markdown",
   "metadata": {
    "application/vnd.databricks.v1+cell": {
     "cellMetadata": {},
     "inputWidgets": {},
     "nuid": "b1d154dc-05cc-4435-bcfd-82b7d387559f",
     "showTitle": false,
     "tableResultSettingsMap": {},
     "title": ""
    }
   },
   "source": [
    "추출 국가 : Global\n",
    "\n",
    "플랫폼 :  webOS24\n",
    "\n",
    "추출 기간 : 23.01.01 ~ 25.06.30 (webOS 24 전체)\n",
    "\n",
    "추출 조건\n",
    "1) context_name :  com.webos.app.homeconnect,   message_id IN :  NL_HC_INPUTLIST    키 값 : dvc_list  (type: audio)   (LG 사운드바 연결 TV만 filtering)\n",
    "2) context_name :  com.palm.app.settings,   message_id IN :  NL_SETTING_CHANGE         키 값 : soundAlive  메뉴 이름 : TV Sound Mode Share   \n",
    "\n",
    "목적\n",
    "LG 사운드바 연결한 LG TV 사용자 한정, TV에 있는 TV Sound Mode Share 기능을 얼마나 사용하는지 사용률만 계산. (on/off 비율)\n",
    "on/off 비율이므로 각 기기별 최종 상태만 확인하는 것이 합리적일 것 같습니다.\n",
    "특성상 mac address 는 필요없습니다."
   ]
  },
  {
   "cell_type": "code",
   "execution_count": 0,
   "metadata": {
    "application/vnd.databricks.v1+cell": {
     "cellMetadata": {
      "byteLimit": 2048000,
      "rowLimit": 10000
     },
     "inputWidgets": {},
     "nuid": "f3644d5b-57b3-4e5c-bf4c-fcc60ae4e1f2",
     "showTitle": true,
     "tableResultSettingsMap": {},
     "title": "struct_type으로 변환"
    }
   },
   "outputs": [],
   "source": [
    "SELECT \n",
    "  1,\n",
    "  dvc_list_struct.type\n",
    "  dvc_list_struct\n",
    "FROM (\n",
    "  SELECT\n",
    "    from_json(normal_log:dvc_list, 'array<struct<name:string, type:string, spec:string, label:string, id:string>>') as dvc_list_struct\n",
    "  FROM aic_data_ods.tlamp.normal_log_webos24\n",
    "  WHERE \n",
    "    date_ym = '2025-06'\n",
    "    AND context_name = 'com.webos.app.homeconnect'\n",
    "    AND message_id = 'NL_HC_INPUTLIST'\n",
    "    AND normal_log:dvc_list != '[]'\n",
    ") t\n",
    "WHERE array_contains(t.dvc_list_struct.type, 'audio')\n",
    "LIMIT 500"
   ]
  },
  {
   "cell_type": "code",
   "execution_count": 0,
   "metadata": {
    "application/vnd.databricks.v1+cell": {
     "cellMetadata": {
      "byteLimit": 2048000,
      "rowLimit": 10000
     },
     "inputWidgets": {},
     "nuid": "689d4f6f-dac0-4611-8895-ece6b7655171",
     "showTitle": true,
     "tableResultSettingsMap": {},
     "title": "데이터 추출_TB0"
    }
   },
   "outputs": [],
   "source": [
    "\n",
    "CREATE TABLE IF NOT EXISTS adhoc.heds.896_cl0 AS\n",
    "WITH TB0 AS (\n",
    "  SELECT\n",
    "    explode(from_json(normal_log:dvc_list, 'array<struct<name:string, type:string, spec:string, label:string, id:string>>')) AS dvc,\n",
    "    *\n",
    "  FROM aic_data_ods.tlamp.normal_log_webos24\n",
    "  WHERE \n",
    "    date_ym BETWEEN '2024-03' AND '2025-06'\n",
    "    AND context_name = 'com.webos.app.homeconnect'\n",
    "    AND message_id = 'NL_HC_INPUTLIST'\n",
    "    AND normal_log:dvc_list != '[]'\n",
    "),\n",
    "TB1 AS (\n",
    "  SELECT\n",
    "    date_ym,\n",
    "    log_create_time,\n",
    "    X_Device_Sales_Model AS tv_model,\n",
    "    DEVICE_NAME AS soc,\n",
    "    mac_addr,\n",
    "    dvc.type,\n",
    "    dvc.label,\n",
    "    dvc.name,\n",
    "    ROW_NUMBER() OVER (PARTITION BY mac_addr ORDER BY log_create_time DESC) AS rn\n",
    "  FROM TB0\n",
    "  WHERE dvc.type = 'audio'\n",
    ")\n",
    "SELECT\n",
    "  date_ym,\n",
    "  mac_addr,\n",
    "  tv_model,\n",
    "  soc,\n",
    "  TB1.type as sb_type,\n",
    "  TB1.label as sb_label,\n",
    "  TB1.name as sb_name,\n",
    "  log_create_time as NH_HC_INPUTLIST_last_log_dt\n",
    "FROM TB1\n",
    "WHERE rn = 1\n",
    ";\n",
    "-- LIMIT 500"
   ]
  },
  {
   "cell_type": "code",
   "execution_count": 0,
   "metadata": {
    "application/vnd.databricks.v1+cell": {
     "cellMetadata": {
      "byteLimit": 2048000,
      "rowLimit": 10000
     },
     "inputWidgets": {},
     "nuid": "4024a6b8-e118-4f05-9eaf-7217d75ef904",
     "showTitle": false,
     "tableResultSettingsMap": {},
     "title": ""
    }
   },
   "outputs": [],
   "source": [
    "select count(1)\n",
    "from adhoc.heds.896_cl0"
   ]
  },
  {
   "cell_type": "code",
   "execution_count": 0,
   "metadata": {
    "application/vnd.databricks.v1+cell": {
     "cellMetadata": {
      "byteLimit": 2048000,
      "rowLimit": 10000
     },
     "inputWidgets": {},
     "nuid": "cd9f0e86-dce3-4bac-8450-482c9cc11fd2",
     "showTitle": false,
     "tableResultSettingsMap": {},
     "title": ""
    }
   },
   "outputs": [],
   "source": [
    "select *\n",
    "from adhoc.heds.896_cl0"
   ]
  },
  {
   "cell_type": "code",
   "execution_count": 0,
   "metadata": {
    "application/vnd.databricks.v1+cell": {
     "cellMetadata": {
      "byteLimit": 2048000,
      "rowLimit": 10000
     },
     "inputWidgets": {},
     "nuid": "50291289-c39c-47d3-95b7-7e436c3e9ac5",
     "showTitle": true,
     "tableResultSettingsMap": {},
     "title": "조회 2"
    }
   },
   "outputs": [],
   "source": [
    "%sql\n",
    "select \n",
    "  -- normal_log:soundAlive,\n",
    "  normal_log, mac_addr, X_User_Number, message_id\n",
    "  ,*\n",
    "from aic_data_ods.tlamp.normal_log_webos24\n",
    "where 1=1\n",
    "  and date_ym = '2025-06'\n",
    "  and context_name = 'com.palm.app.settings'\n",
    "  and message_id in ('NL_SETTING_CHANGE', 'INPUTLIST')\n",
    "  and normal_log:menu_name ='soundAlive'\n",
    "limit 500"
   ]
  },
  {
   "cell_type": "code",
   "execution_count": 0,
   "metadata": {
    "application/vnd.databricks.v1+cell": {
     "cellMetadata": {},
     "inputWidgets": {},
     "nuid": "4162201c-20c5-4569-81ef-52d39ad1c097",
     "showTitle": false,
     "tableResultSettingsMap": {},
     "title": ""
    }
   },
   "outputs": [],
   "source": []
  },
  {
   "cell_type": "code",
   "execution_count": 0,
   "metadata": {
    "application/vnd.databricks.v1+cell": {
     "cellMetadata": {
      "byteLimit": 2048000,
      "rowLimit": 10000
     },
     "inputWidgets": {},
     "nuid": "e44f9381-7ab3-4aca-a721-f367b51b43f7",
     "showTitle": true,
     "tableResultSettingsMap": {},
     "title": "데이터 추출 TB0"
    }
   },
   "outputs": [],
   "source": [
    "%sql\n",
    "create table if not exists adhoc.heds.896_cl0_2 as\n",
    "with tb0 as (\n",
    "  select \n",
    "    normal_log:changed_value as soundAlive_status,\n",
    "    mac_addr,\n",
    "    log_create_time,\n",
    "    row_number() over (partition by mac_addr order by log_create_time desc) as rn\n",
    "  from aic_data_ods.tlamp.normal_log_webos24\n",
    "  where 1=1\n",
    "    and date_ym BETWEEN '2024-03' AND '2025-06'\n",
    "    and context_name = 'com.palm.app.settings'\n",
    "    and message_id in ('NL_SETTING_CHANGE', 'INPUTLIST')\n",
    "    and normal_log:menu_name ='soundAlive'\n",
    ")\n",
    "select \n",
    "  mac_addr, \n",
    "  log_create_time as soundAlive_last_log_dt,\n",
    "  soundAlive_status as soundAlive_last_status\n",
    "from tb0\n",
    "where rn = 1"
   ]
  },
  {
   "cell_type": "code",
   "execution_count": 0,
   "metadata": {
    "application/vnd.databricks.v1+cell": {
     "cellMetadata": {
      "byteLimit": 2048000,
      "rowLimit": 10000
     },
     "inputWidgets": {},
     "nuid": "5f609565-7da3-44b9-8702-d0b9c60f67f8",
     "showTitle": false,
     "tableResultSettingsMap": {},
     "title": ""
    }
   },
   "outputs": [],
   "source": [
    "select \n",
    "  count(1)\n",
    "from adhoc.heds.896_cl0_2\n",
    "\n"
   ]
  },
  {
   "cell_type": "code",
   "execution_count": 0,
   "metadata": {
    "application/vnd.databricks.v1+cell": {
     "cellMetadata": {
      "byteLimit": 2048000,
      "rowLimit": 10000
     },
     "inputWidgets": {},
     "nuid": "4115cb5b-551d-4456-87e9-897bdf73f757",
     "showTitle": true,
     "tableResultSettingsMap": {},
     "title": "데이터결합"
    }
   },
   "outputs": [],
   "source": [
    "select \n",
    "  t1.* except (t1.mac_addr), t2.* except (t2.mac_addr)\n",
    "from adhoc.heds.896_cl0 t1\n",
    "left join adhoc.heds.896_cl0_2 t2 using (mac_addr)\n"
   ]
  }
 ],
 "metadata": {
  "application/vnd.databricks.v1+notebook": {
   "computePreferences": null,
   "dashboards": [],
   "environmentMetadata": {
    "base_environment": "",
    "environment_version": "2"
   },
   "inputWidgetPreferences": null,
   "language": "sql",
   "notebookMetadata": {
    "pythonIndentUnit": 4
   },
   "notebookName": "896",
   "widgets": {}
  },
  "language_info": {
   "name": "sql"
  }
 },
 "nbformat": 4,
 "nbformat_minor": 0
}
