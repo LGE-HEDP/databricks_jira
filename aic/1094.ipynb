{
 "cells": [
  {
   "cell_type": "code",
   "execution_count": 0,
   "metadata": {
    "application/vnd.databricks.v1+cell": {
     "cellMetadata": {},
     "inputWidgets": {},
     "nuid": "25556677-af14-4417-814c-76dfbdeca68b",
     "showTitle": false,
     "tableResultSettingsMap": {},
     "title": ""
    }
   },
   "outputs": [],
   "source": [
    "http://jira.lge.com/issue/browse/HEDATAPLFM-1094?attachmentSortBy=dateTime&attachmentOrder=asc"
   ]
  },
  {
   "cell_type": "code",
   "execution_count": 0,
   "metadata": {
    "application/vnd.databricks.v1+cell": {
     "cellMetadata": {
      "byteLimit": 2048000,
      "rowLimit": 10000
     },
     "inputWidgets": {},
     "nuid": "320c11fc-4ced-476e-aef4-657da468f694",
     "showTitle": false,
     "tableResultSettingsMap": {},
     "title": ""
    }
   },
   "outputs": [],
   "source": [
    "!pip install openpyxl"
   ]
  },
  {
   "cell_type": "code",
   "execution_count": 0,
   "metadata": {
    "application/vnd.databricks.v1+cell": {
     "cellMetadata": {
      "byteLimit": 2048000,
      "rowLimit": 10000
     },
     "inputWidgets": {},
     "nuid": "4b6b21b8-e36a-4341-9acc-439c5045d454",
     "showTitle": false,
     "tableResultSettingsMap": {},
     "title": ""
    }
   },
   "outputs": [],
   "source": [
    "import pandas as pd\n",
    "# Excel 파일 경로\n",
    "file_path = '/Volumes/sandbox/z_yeswook_kim/v_yeswook_kim/heds/MAC_98UT9_VRR_이슈.xlsx'\n",
    "\n",
    "# Pandas로 Excel 읽기\n",
    "pdf = pd.read_excel(file_path, engine='openpyxl')\n",
    "\n",
    "# Spark DataFrame으로 변환\n",
    "sdf = spark.createDataFrame(pdf)\n"
   ]
  },
  {
   "cell_type": "code",
   "execution_count": 0,
   "metadata": {
    "application/vnd.databricks.v1+cell": {
     "cellMetadata": {
      "byteLimit": 2048000,
      "rowLimit": 10000
     },
     "inputWidgets": {},
     "nuid": "b70132bf-5998-4f2a-af2a-d5d873c0e68a",
     "showTitle": false,
     "tableResultSettingsMap": {},
     "title": ""
    }
   },
   "outputs": [],
   "source": [
    "from pyspark.sql.functions import sha2, expr, current_timestamp, col, when, concat, lit, date_format, split, size, substring, to_timestamp\n",
    "\n",
    "tv_salt = dbutils.secrets.get(\"admin\", \"salt\")\n",
    "\n",
    "df_public = sdf.withColumn(\"mac_addr\", when(col(\"MAC Address\").isNull() | (col(\"MAC Address\") == ''), col(\"MAC Address\")).otherwise(sha2(concat(col(\"MAC Address\"), lit(tv_salt)), 256)))"
   ]
  },
  {
   "cell_type": "code",
   "execution_count": 0,
   "metadata": {
    "application/vnd.databricks.v1+cell": {
     "cellMetadata": {
      "byteLimit": 2048000,
      "rowLimit": 10000
     },
     "inputWidgets": {},
     "nuid": "6118bc62-4d04-4fb8-ac74-3af074445646",
     "showTitle": false,
     "tableResultSettingsMap": {},
     "title": ""
    }
   },
   "outputs": [],
   "source": [
    "display(df_public)"
   ]
  },
  {
   "cell_type": "code",
   "execution_count": 0,
   "metadata": {
    "application/vnd.databricks.v1+cell": {
     "cellMetadata": {
      "byteLimit": 2048000,
      "rowLimit": 10000
     },
     "inputWidgets": {},
     "nuid": "9f92fad3-b95b-4121-a4e8-2c7ef1e1b897",
     "showTitle": false,
     "tableResultSettingsMap": {},
     "title": ""
    }
   },
   "outputs": [],
   "source": [
    "\n",
    "# 필요한 컬럼 선택 및 저장\n",
    "df_public.select(\n",
    "    col('`No.`').alias(\"no\"),\n",
    "    col('`MAC Address`').alias(\"mac_origin\"),\n",
    "    col(\"mac_addr\")\n",
    ").write.format(\"delta\") \\\n",
    " .mode(\"overwrite\") \\\n",
    " .option(\"overwriteSchema\", \"true\") \\\n",
    " .saveAsTable(\"sandbox.z_yeswook_kim.heds1094\")\n"
   ]
  },
  {
   "cell_type": "code",
   "execution_count": 0,
   "metadata": {
    "application/vnd.databricks.v1+cell": {
     "cellMetadata": {
      "byteLimit": 2048000,
      "rowLimit": 10000
     },
     "inputWidgets": {},
     "nuid": "fe9ae8a3-6b25-48a5-8e37-37ecd9a0c243",
     "showTitle": false,
     "tableResultSettingsMap": {},
     "title": ""
    }
   },
   "outputs": [],
   "source": [
    "qr = f\"\"\"\n",
    "with tr_mac as (\n",
    "  select \n",
    "    heds1094.mac_addr as mac_addr, \n",
    "    mac_origin as real_mac\n",
    "  from sandbox.z_yeswook_kim.heds1094 heds1094\n",
    "), actv as (\n",
    "  select \n",
    "    mac_addr,\n",
    "    min(crt_date) as min_crt_date,\n",
    "    max(last_chg_date) as max_last_chg_date\n",
    "  from aic_data_ods.tlamp.activation_date\n",
    "  where 1=1\n",
    "  and mac_addr in (select mac_addr from tr_mac)\n",
    "  group by mac_addr\n",
    "), normal as (\n",
    "  select \n",
    "    mac_addr,\n",
    "    max(log_create_time) as max_log_create_time,\n",
    "    max(accum_run_time) as max_accum_run_time\n",
    "  from (\n",
    "    select \n",
    "      mac_addr,\n",
    "      log_create_time,\n",
    "      accum_run_time\n",
    "    from aic_data_ods.tlamp.normal_log_webos24\n",
    "    where 1=1\n",
    "    and mac_addr in (select mac_addr from tr_mac)\n",
    "    \n",
    "    union all\n",
    "\n",
    "    select \n",
    "      mac_addr,\n",
    "      log_create_time,\n",
    "      accum_run_time\n",
    "    from aic_data_ods.tlamp.normal_log_webos25\n",
    "    where 1=1\n",
    "    and mac_addr in (select mac_addr from tr_mac)\n",
    "\n",
    "    )\n",
    "  group by mac_addr\n",
    ")\n",
    "select \n",
    "  tr_mac.real_mac,\n",
    "  org.*,\n",
    "  actv.min_crt_date,\n",
    "  actv.max_last_chg_date,\n",
    "  normal.max_log_create_time,\n",
    "  normal.max_accum_run_time\n",
    "from sandbox.z_yeswook_kim.heds1094 org\n",
    "left outer join tr_mac\n",
    "on org.mac_addr=tr_mac.mac_addr\n",
    "left outer join actv\n",
    "on org.mac_addr=actv.mac_addr\n",
    "left outer join normal\n",
    "on org.mac_addr=normal.mac_addr\n",
    "\"\"\"\n",
    "\n",
    "df= spark.sql(qr)\n",
    "\n",
    "df.coalesce(1).write.format(\"com.databricks.spark.csv\").mode(\"overwrite\").option(\"header\", \"true\").save('s3://s3-lge-he-sandbox-aic/z_yeswook_kim/volume/v_yeswook_kim/heds/HEDS-1094-aic')\n"
   ]
  }
 ],
 "metadata": {
  "application/vnd.databricks.v1+notebook": {
   "computePreferences": null,
   "dashboards": [],
   "environmentMetadata": {
    "base_environment": "",
    "environment_version": "4"
   },
   "inputWidgetPreferences": null,
   "language": "python",
   "notebookMetadata": {
    "pythonIndentUnit": 4
   },
   "notebookName": "1094",
   "widgets": {}
  },
  "language_info": {
   "name": "python"
  }
 },
 "nbformat": 4,
 "nbformat_minor": 0
}
