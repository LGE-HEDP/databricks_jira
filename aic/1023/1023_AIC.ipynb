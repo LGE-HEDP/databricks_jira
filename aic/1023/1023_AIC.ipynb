# Databricks notebook source
# MAGIC %md
# MAGIC http://jira.lge.com/issue/browse/HEDATAPLFM-1023?attachmentSortBy=dateTime&attachmentOrder=asc

# COMMAND ----------

# MAGIC %sql
# MAGIC -- AIC 추출쿼리 (350행)
# MAGIC select 'AIC' as ric_nm, country_code, platform_code, login_complete, launch_type
# MAGIC         , UD_mac as UD, min_ym, max_ym, etl_dt
# MAGIC from sandbox.z_sam351_kim.a0909_deletion_impact_2_login_method_ud
# MAGIC where 1=1
# MAGIC     and substr(platform_code, 1, 1) IN ('W', 'C', 'N')
# MAGIC     and substr(platform_code, 2, 2) IN ('24')
# MAGIC order by country_code, platform_code, login_complete, launch_type
# MAGIC