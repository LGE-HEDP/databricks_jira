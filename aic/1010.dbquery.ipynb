{
 "cells": [
  {
   "cell_type": "code",
   "execution_count": 0,
   "metadata": {
    "application/vnd.databricks.v1+cell": {
     "cellMetadata": {},
     "inputWidgets": {},
     "nuid": "120b1f15-2dc7-42cc-998b-8b0b9505e548",
     "showTitle": false,
     "tableResultSettingsMap": {},
     "title": ""
    }
   },
   "outputs": [],
   "source": [
    "with raw_data as (\n",
    "  SELECT\n",
    "    -- COUNT(1)\n",
    "      X_device_platform as `platform_code`,  -- 필수 열\n",
    "      X_device_product as `platform_version`,-- 필수 열\n",
    "      X_Device_Country as `country_code`,    -- 필수/조건 열\n",
    "      -- X_Device_SDK_VERSION as `dpv`,\n",
    "      mac_addr,\n",
    "      x_device_sales_model as `sales_model_code`, -- 필수 열\n",
    "      normal_log:VID, \n",
    "      normal_log:PID,\n",
    "      normal_log:vendorName,\n",
    "      normal_log:productName,\n",
    "      cast(date_ym as string),\n",
    "      log_create_time                      -- 필수/조건 열\n",
    "  FROM aic_data_ods.tlamp_private.normal_log_webos24\n",
    "  WHERE 1=1\n",
    "      AND X_device_country = 'US'\n",
    "      AND context_name = 'physical-device-manager'\n",
    "      AND message_id = 'NL_VIDEO_CONNECT'\n",
    "      AND date_ym >= '2024-04'\n",
    "      AND date_ym < '2025-09'\n",
    "      AND x_device_sales_model LIKE 'OLED%'\n",
    "\n",
    "  union all \n",
    "  \n",
    "  SELECT\n",
    "    -- COUNT(1)\n",
    "      X_device_platform as `platform_code`,  -- 필수 열\n",
    "      X_device_product as `platform_version`,-- 필수 열\n",
    "      X_Device_Country as `country_code`,    -- 필수/조건 열\n",
    "      -- X_Device_SDK_VERSION as `dpv`,\n",
    "      mac_addr,\n",
    "      x_device_sales_model as `sales_model_code`, -- 필수 열\n",
    "      normal_log:VID, \n",
    "      normal_log:PID,\n",
    "      normal_log:vendorName,\n",
    "      normal_log:productName,\n",
    "      cast(date_ym as string),\n",
    "      log_create_time                      -- 필수/조건 열\n",
    "  FROM aic_data_ods.tlamp_private.normal_log_webos25\n",
    "  WHERE 1=1\n",
    "      AND X_device_country = 'US'\n",
    "      AND context_name = 'physical-device-manager'\n",
    "      AND message_id = 'NL_VIDEO_CONNECT'\n",
    "      AND date_ym >= '2025-04'\n",
    "      AND date_ym < '2025-09'\n",
    "      AND x_device_sales_model LIKE 'OLED%'\n",
    ")\n",
    "\n",
    "select  platform_version, VID, PID, vendorName, productName, count(1) as access_count, count(distinct mac_addr) as ud \n",
    "from    raw_data \n",
    "group by platform_version, VID, PID, vendorName, productName\n"
   ]
  }
 ],
 "metadata": {
  "application/vnd.databricks.v1+notebook": {
   "computePreferences": null,
   "dashboards": [],
   "environmentMetadata": null,
   "inputWidgetPreferences": null,
   "language": "sql",
   "notebookMetadata": {
    "sqlQueryOptions": {
     "applyAutoLimit": false,
     "catalog": "public_aic",
     "schema": "default"
    }
   },
   "notebookName": "1010.dbquery.ipynb",
   "widgets": {}
  },
  "language_info": {
   "name": "sql"
  }
 },
 "nbformat": 4,
 "nbformat_minor": 0
}
