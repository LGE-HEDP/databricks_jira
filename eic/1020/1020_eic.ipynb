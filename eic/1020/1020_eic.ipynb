{
 "cells": [
  {
   "cell_type": "markdown",
   "metadata": {
    "application/vnd.databricks.v1+cell": {
     "cellMetadata": {},
     "inputWidgets": {},
     "nuid": "e4f10aa0-c229-4e02-a896-875a9a4f0415",
     "showTitle": false,
     "tableResultSettingsMap": {},
     "title": ""
    }
   },
   "source": [
    "http://jira.lge.com/issue/browse/HEDATAPLFM-1020?attachmentSortBy=dateTime&attachmentOrder=asc"
   ]
  },
  {
   "cell_type": "code",
   "execution_count": 0,
   "metadata": {
    "application/vnd.databricks.v1+cell": {
     "cellMetadata": {
      "byteLimit": 2048000,
      "implicitDf": true,
      "rowLimit": 10000
     },
     "inputWidgets": {},
     "nuid": "7f16c795-d73a-49ef-89ac-6ba2e23f5a1e",
     "showTitle": false,
     "tableResultSettingsMap": {},
     "title": ""
    }
   },
   "outputs": [],
   "source": [
    "%sql\n",
    "CREATE OR REPLACE TABLE sandbox.t_weetv.po_activation_mart\n",
    "USING DELTA\n",
    "PARTITIONED BY (date_ym)\n",
    "AS\n",
    "WITH T101 AS (\n",
    "    /* KMS 관련 테이블 */\n",
    "    SELECT \n",
    "      date_ym,\n",
    "      mac,\n",
    "      try_cast(po_date AS DATE) AS po_date,\n",
    "      po_country_code,\n",
    "      po_type,\n",
    "      po_board_maker,\n",
    "      po_odm,\n",
    "      po_brand,\n",
    "      po_country,\n",
    "      po_year,\n",
    "      po_platform\n",
    "    FROM kic_data_ods.kms.kms_wee_tv\n",
    "),\n",
    "T102 AS (\n",
    "    /* ACTIVATION: MAC별 최초 */\n",
    "    SELECT\n",
    "        s.mac_addr,\n",
    "        s.activ_country_code,\n",
    "        s.activ_date,\n",
    "        s.activ_platform_code,\n",
    "        s.activ_product_code,\n",
    "        s.activ_sales_model\n",
    "    FROM (\n",
    "        SELECT\n",
    "            T102.mac_addr,\n",
    "            T102.Cntry_CODE   AS activ_country_code,\n",
    "            DATE(T102.crt_date) AS activ_date,\n",
    "            T102.Platform_code AS activ_platform_code,\n",
    "            T102.Product_CODE  AS activ_product_code,\n",
    "            T102.Sales_Model   AS activ_sales_model,\n",
    "            ROW_NUMBER() OVER (\n",
    "                PARTITION BY T102.mac_addr\n",
    "                ORDER BY T102.crt_date ASC, T102.last_chg_date ASC, T102.he_etl_dt ASC\n",
    "            ) AS rn\n",
    "        FROM eic_data_ods.tlamp.activation_date T102\n",
    "        WHERE EXISTS (\n",
    "            SELECT 1\n",
    "            FROM T101\n",
    "            WHERE T101.mac = T102.mac_addr\n",
    "        )\n",
    "    ) s\n",
    "    WHERE s.rn = 1\n",
    "),\n",
    "T103 AS (\n",
    "    /* 앱 브랜드: MAC별 최초 */\n",
    "    SELECT\n",
    "        s.mac_addr,\n",
    "        s.brand_name\n",
    "    FROM (\n",
    "        SELECT\n",
    "            T103.mac_addr,\n",
    "            T103.brand_name,\n",
    "            ROW_NUMBER() OVER (\n",
    "                PARTITION BY T103.mac_addr\n",
    "                ORDER BY T103.src_file_date ASC, T103.he_etl_dt ASC\n",
    "            ) AS rn\n",
    "        FROM eic_data_ods.tlamp.apps_device_brand T103\n",
    "        WHERE EXISTS (\n",
    "            SELECT 1\n",
    "            FROM T101\n",
    "            WHERE T101.mac = T103.mac_addr\n",
    "        )\n",
    "    ) s\n",
    "    WHERE s.rn = 1\n",
    ")\n",
    "SELECT\n",
    "    -- 파티션 키\n",
    "    T101.date_ym,\n",
    "\n",
    "    -- PO 측 주요 컬럼\n",
    "    T101.mac,\n",
    "    T101.po_date,\n",
    "    T101.po_country_code,\n",
    "    T101.po_type,\n",
    "    T101.po_board_maker,\n",
    "    T101.po_odm,\n",
    "    T101.po_brand,\n",
    "    T101.po_country,\n",
    "    T101.po_year,\n",
    "    T101.po_platform,\n",
    "\n",
    "    -- ACTIVATION 측\n",
    "    T102.activ_date,\n",
    "    T102.activ_country_code,\n",
    "    T102.activ_platform_code,\n",
    "    T102.activ_product_code,\n",
    "    T102.activ_sales_model,\n",
    "\n",
    "    -- BRAND 파싱\n",
    "    SPLIT_PART(T103.brand_name, '_', 1)   AS activ_board_maker,\n",
    "    SPLIT_PART(T103.brand_name, '_', 2)   AS activ_odm,\n",
    "    SPLIT_PART(T103.brand_name, '_', 3)   AS activ_brand,\n",
    "\n",
    "    -- 비교 지표\n",
    "    CASE\n",
    "        WHEN T101.po_country_code IS NULL THEN 'po_country_code_is_null'\n",
    "        WHEN T102.activ_country_code IS NULL THEN 'not_yep_activated'\n",
    "        WHEN T101.po_country_code <> T102.activ_country_code THEN 'N'\n",
    "        ELSE 'Y'\n",
    "    END                                      AS is_same_country,\n",
    "    DATE_DIFF(T102.activ_date, T101.po_date) AS day_diff,\n",
    "    \n",
    "    current_timestamp() as he_etl_dt\n",
    "FROM T101\n",
    "LEFT JOIN T102\n",
    "  ON T102.mac_addr = T101.mac\n",
    "LEFT JOIN T103\n",
    "  ON T103.mac_addr = T101.mac\n",
    ";\n"
   ]
  },
  {
   "cell_type": "code",
   "execution_count": 0,
   "metadata": {
    "application/vnd.databricks.v1+cell": {
     "cellMetadata": {
      "byteLimit": 2048000,
      "implicitDf": true,
      "rowLimit": 10000
     },
     "inputWidgets": {},
     "nuid": "cd03e949-1175-4dbf-8fd0-ab32270ebfd0",
     "showTitle": false,
     "tableResultSettingsMap": {},
     "title": ""
    }
   },
   "outputs": [],
   "source": [
    "%sql\n",
    "CREATE OR REPLACE VIEW sandbox.z_yeswook_kim.v_rbt_x_user_number AS\n",
    "WITH user_num_dimension AS (\n",
    "  SELECT X_User_Number AS origin_X_User_Number, X_User_Number_hashed AS X_User_Number\n",
    "  FROM eic_data_private.tlamp.rbt_x_user_number_webos22\n",
    "  UNION ALL\n",
    "  SELECT X_User_Number, X_User_Number_hashed\n",
    "  FROM eic_data_private.tlamp.rbt_x_user_number_webos23\n",
    "  UNION ALL\n",
    "  SELECT X_User_Number, X_User_Number_hashed\n",
    "  FROM eic_data_private.tlamp.rbt_x_user_number_webos24\n",
    "  UNION ALL\n",
    "  SELECT X_User_Number, X_User_Number_hashed\n",
    "  FROM eic_data_private.tlamp.rbt_x_user_number_webos25\n",
    "  UNION ALL\n",
    "  SELECT X_User_Number, X_User_Number_hashed\n",
    "  FROM eic_data_private.tlamp.rbt_x_user_number_webos60\n",
    "),\n",
    "distinct_user_num_dimension AS (\n",
    "  SELECT DISTINCT origin_X_User_Number, X_User_Number\n",
    "  FROM user_num_dimension\n",
    ")\n",
    "SELECT\n",
    "  *\n",
    "FROM distinct_user_num_dimension\n"
   ]
  },
  {
   "cell_type": "code",
   "execution_count": 0,
   "metadata": {
    "application/vnd.databricks.v1+cell": {
     "cellMetadata": {
      "byteLimit": 2048000,
      "implicitDf": true,
      "rowLimit": 10000
     },
     "inputWidgets": {},
     "nuid": "00214191-6aae-41ee-81d1-11c2cf056946",
     "showTitle": false,
     "tableResultSettingsMap": {},
     "title": ""
    }
   },
   "outputs": [],
   "source": [
    "%sql\n",
    "CREATE OR REPLACE VIEW sandbox.z_yeswook_kim.v_rbt_mac_addr AS\n",
    "WITH user_num_dimension AS (\n",
    "  SELECT mac_addr AS origin_mac_addr, mac_addr_hashed AS mac_addr\n",
    "  FROM eic_data_private.tlamp.rbt_mac_addr_webos22\n",
    "  UNION ALL\n",
    "  SELECT mac_addr, mac_addr_hashed\n",
    "  FROM eic_data_private.tlamp.rbt_mac_addr_webos23\n",
    "  UNION ALL\n",
    "  SELECT mac_addr, mac_addr_hashed\n",
    "  FROM eic_data_private.tlamp.rbt_mac_addr_webos24\n",
    "  UNION ALL\n",
    "  SELECT mac_addr, mac_addr_hashed\n",
    "  FROM eic_data_private.tlamp.rbt_mac_addr_webos25\n",
    "  UNION ALL\n",
    "  SELECT mac_addr, mac_addr_hashed\n",
    "  FROM eic_data_private.tlamp.rbt_mac_addr_webos60\n",
    "  /* activation에만 있는 mac도 확보*/\n",
    "  UNION ALL\n",
    "  SELECT mac_addr, mac_addr_hashed\n",
    "  FROM sandbox.z_yeswook_kim.rbt_mac_addr_activation_date\n",
    "),\n",
    "distinct_user_num_dimension AS (\n",
    "  SELECT DISTINCT origin_mac_addr, mac_addr\n",
    "  FROM user_num_dimension\n",
    ")\n",
    "SELECT\n",
    "  *\n",
    "FROM distinct_user_num_dimension\n"
   ]
  },
  {
   "cell_type": "code",
   "execution_count": 0,
   "metadata": {
    "application/vnd.databricks.v1+cell": {
     "cellMetadata": {
      "byteLimit": 2048000,
      "rowLimit": 10000
     },
     "inputWidgets": {},
     "nuid": "b4bea405-9ce3-45d8-8812-7014c48fe0c1",
     "showTitle": false,
     "tableResultSettingsMap": {},
     "title": ""
    }
   },
   "outputs": [],
   "source": [
    "%sql\n",
    "select *\n",
    "from eic_data_private.tlamp.activation_date"
   ]
  },
  {
   "cell_type": "code",
   "execution_count": 0,
   "metadata": {
    "application/vnd.databricks.v1+cell": {
     "cellMetadata": {
      "byteLimit": 2048000,
      "implicitDf": true,
      "rowLimit": 10000
     },
     "inputWidgets": {},
     "nuid": "6cb3ffa6-2267-4ae5-94dd-6283c5f8c11d",
     "showTitle": true,
     "tableResultSettingsMap": {
      "0": {
       "dataGridStateBlob": "{\"version\":1,\"tableState\":{\"columnPinning\":{\"left\":[\"#row_number#\"],\"right\":[]},\"columnSizing\":{},\"columnVisibility\":{}},\"settings\":{\"columns\":{}},\"syncTimestamp\":1758072056270}",
       "filterBlob": null,
       "queryPlanFiltersBlob": null,
       "tableResultIndex": 0
      }
     },
     "title": "1020_EIC"
    }
   },
   "outputs": [],
   "source": [
    "%sql\n",
    "select \n",
    "  -- b.origin_mac_addr\n",
    "  -- , a.*\n",
    "  count(1)\n",
    "from sandbox.t_weetv.po_activation_mart a\n",
    "left join sandbox.z_yeswook_kim.v_rbt_mac_addr b \n",
    "  on a.mac = b.mac_addr\n",
    "where 1=1\n",
    "  and po_type like 'WEE 2.0%'\n",
    "  and (po_board_maker != activ_board_maker\n",
    "    or po_odm != activ_odm)"
   ]
  },
  {
   "cell_type": "code",
   "execution_count": 0,
   "metadata": {
    "application/vnd.databricks.v1+cell": {
     "cellMetadata": {
      "byteLimit": 2048000,
      "rowLimit": 10000
     },
     "inputWidgets": {},
     "nuid": "e31d33d6-267e-4b38-b3ad-0d461bd0084c",
     "showTitle": false,
     "tableResultSettingsMap": {
      "0": {
       "dataGridStateBlob": "{\"version\":1,\"tableState\":{\"columnPinning\":{\"left\":[\"#row_number#\"],\"right\":[]},\"columnSizing\":{},\"columnVisibility\":{}},\"settings\":{\"columns\":{}},\"syncTimestamp\":1758082021544}",
       "filterBlob": null,
       "queryPlanFiltersBlob": null,
       "tableResultIndex": 0
      }
     },
     "title": ""
    }
   },
   "outputs": [],
   "source": [
    "%sql\n",
    "select \n",
    "    b.origin_mac_addr\n",
    "  , a.*\n",
    "from sandbox.t_weetv.po_activation_mart a\n",
    "left join sandbox.z_yeswook_kim.v_rbt_mac_addr b \n",
    "  on a.mac = b.mac_addr\n",
    "where 1=1\n",
    "  and po_type like 'WEE 2.0%'\n",
    "  and (po_board_maker != activ_board_maker\n",
    "    or po_odm != activ_odm)\n",
    "qualify row_number() over (order by a.mac) between 1 and 800000\n"
   ]
  },
  {
   "cell_type": "code",
   "execution_count": 0,
   "metadata": {
    "application/vnd.databricks.v1+cell": {
     "cellMetadata": {
      "byteLimit": 2048000,
      "rowLimit": 10000
     },
     "inputWidgets": {},
     "nuid": "d0965b7b-7d5e-4d29-b365-0fe0ecc48cff",
     "showTitle": false,
     "tableResultSettingsMap": {
      "0": {
       "dataGridStateBlob": "{\"version\":1,\"tableState\":{\"columnPinning\":{\"left\":[\"#row_number#\"],\"right\":[]},\"columnSizing\":{},\"columnVisibility\":{}},\"settings\":{\"columns\":{}},\"syncTimestamp\":1758082002727}",
       "filterBlob": null,
       "queryPlanFiltersBlob": null,
       "tableResultIndex": 0
      }
     },
     "title": ""
    }
   },
   "outputs": [],
   "source": [
    "%sql\n",
    "select \n",
    "  b.origin_mac_addr\n",
    "  , a.*\n",
    "from sandbox.t_weetv.po_activation_mart a\n",
    "left join sandbox.z_yeswook_kim.v_rbt_mac_addr b \n",
    "  on a.mac = b.mac_addr\n",
    "where 1=1\n",
    "  and po_type like 'WEE 2.0%'\n",
    "  and (po_board_maker != activ_board_maker\n",
    "    or po_odm != activ_odm)\n",
    "qualify row_number() over (order by a.mac) between 800001 and 1600000"
   ]
  },
  {
   "cell_type": "code",
   "execution_count": 0,
   "metadata": {
    "application/vnd.databricks.v1+cell": {
     "cellMetadata": {
      "byteLimit": 2048000,
      "rowLimit": 10000
     },
     "inputWidgets": {},
     "nuid": "708897b1-93e9-4fbe-93ba-9f90d806bc1a",
     "showTitle": false,
     "tableResultSettingsMap": {
      "0": {
       "dataGridStateBlob": "{\"version\":1,\"tableState\":{\"columnPinning\":{\"left\":[\"#row_number#\"],\"right\":[]},\"columnSizing\":{},\"columnVisibility\":{}},\"settings\":{\"columns\":{}},\"syncTimestamp\":1758082177793}",
       "filterBlob": null,
       "queryPlanFiltersBlob": null,
       "tableResultIndex": 0
      }
     },
     "title": ""
    }
   },
   "outputs": [],
   "source": [
    "%sql\n",
    "select \n",
    "    b.origin_mac_addr\n",
    "  , a.*\n",
    "from sandbox.t_weetv.po_activation_mart a\n",
    "left join sandbox.z_yeswook_kim.v_rbt_mac_addr b \n",
    "  on a.mac = b.mac_addr\n",
    "where 1=1\n",
    "  and po_type like 'WEE 2.0%'\n",
    "  and (po_board_maker != activ_board_maker\n",
    "    or po_odm != activ_odm)\n",
    "qualify row_number() over (order by a.mac) between 1600001 and 2400000"
   ]
  },
  {
   "cell_type": "code",
   "execution_count": 0,
   "metadata": {
    "application/vnd.databricks.v1+cell": {
     "cellMetadata": {},
     "inputWidgets": {},
     "nuid": "f0b42496-d946-4e58-95f9-0c04f2455ef8",
     "showTitle": false,
     "tableResultSettingsMap": {},
     "title": ""
    }
   },
   "outputs": [],
   "source": [
    "%sql\n"
   ]
  },
  {
   "cell_type": "code",
   "execution_count": 0,
   "metadata": {
    "application/vnd.databricks.v1+cell": {
     "cellMetadata": {},
     "inputWidgets": {},
     "nuid": "4f28c3a6-98d6-4937-be59-864ab292e305",
     "showTitle": false,
     "tableResultSettingsMap": {},
     "title": ""
    }
   },
   "outputs": [],
   "source": [
    "%sql\n"
   ]
  },
  {
   "cell_type": "code",
   "execution_count": 0,
   "metadata": {
    "application/vnd.databricks.v1+cell": {
     "cellMetadata": {
      "byteLimit": 2048000,
      "rowLimit": 10000
     },
     "inputWidgets": {},
     "nuid": "7838398d-712b-4eaf-9c01-fa765a0903c3",
     "showTitle": true,
     "tableResultSettingsMap": {},
     "title": "activtiaon rbt"
    }
   },
   "outputs": [],
   "source": [
    "%python\n",
    "\n",
    "salt = dbutils.secrets.get(\"admin\", \"salt\")\n",
    "\n",
    "sdf = spark.sql(f\"\"\"\n",
    "    CREATE OR REPLACE TABLE sandbox.z_yeswook_kim.rbt_mac_addr_activation_date AS\n",
    "    SELECT\n",
    "        distinct \n",
    "        CASE\n",
    "            WHEN mac_addr IS NULL OR mac_addr = '' THEN mac_addr\n",
    "            ELSE sha2(CONCAT(mac_addr, '{salt}'), 256)\n",
    "        END AS mac_addr_hashed,\n",
    "        mac_addr,\n",
    "        current_timestamp() AS he_etl_dt\n",
    "    FROM eic_data_private.tlamp.activation_date\n",
    "\"\"\")\n",
    "\n",
    "display(spark.table(\"sandbox.z_yeswook_kim.rbt_mac_addr_activation_date\"))"
   ]
  },
  {
   "cell_type": "code",
   "execution_count": 0,
   "metadata": {
    "application/vnd.databricks.v1+cell": {
     "cellMetadata": {
      "byteLimit": 2048000,
      "rowLimit": 10000
     },
     "inputWidgets": {},
     "nuid": "fda7cdad-aeaa-4c3f-aa2c-bc5a1f3d9af2",
     "showTitle": false,
     "tableResultSettingsMap": {
      "0": {
       "dataGridStateBlob": "{\"version\":1,\"tableState\":{\"columnPinning\":{\"left\":[\"#row_number#\"],\"right\":[]},\"columnSizing\":{},\"columnVisibility\":{}},\"settings\":{\"columns\":{}},\"syncTimestamp\":1758074469828}",
       "filterBlob": null,
       "queryPlanFiltersBlob": null,
       "tableResultIndex": 0
      }
     },
     "title": ""
    }
   },
   "outputs": [],
   "source": [
    "%sql\n",
    "select mac_addr\n",
    "from eic_data_private.tlamp.activation_date\n",
    "where 1=1"
   ]
  },
  {
   "cell_type": "code",
   "execution_count": 0,
   "metadata": {
    "application/vnd.databricks.v1+cell": {
     "cellMetadata": {},
     "inputWidgets": {},
     "nuid": "a18d05c7-7ea3-4fa1-ad2d-d8e87ccc1bdc",
     "showTitle": false,
     "tableResultSettingsMap": {},
     "title": ""
    }
   },
   "outputs": [],
   "source": [
    "%sql\n"
   ]
  },
  {
   "cell_type": "code",
   "execution_count": 0,
   "metadata": {
    "application/vnd.databricks.v1+cell": {
     "cellMetadata": {
      "byteLimit": 2048000,
      "rowLimit": 10000
     },
     "inputWidgets": {},
     "nuid": "8064b1e4-94b6-4de8-b60b-a35b0cca46f9",
     "showTitle": false,
     "tableResultSettingsMap": {},
     "title": ""
    }
   },
   "outputs": [],
   "source": [
    "%sql\n",
    "select \n",
    "  *\n",
    "from sandbox.t_weetv.po_activation_mart a\n",
    "left join sandbox.z_yeswook_kim.v_rbt_mac_addr b \n",
    "  on a.mac = b.mac_addr\n",
    "where 1=1\n",
    "  and po_type like 'WEE 2.0%'\n",
    "  and (po_board_maker != activ_board_maker\n",
    "    or po_odm != activ_odm)\n",
    "  and origin_mac_addr is null"
   ]
  }
 ],
 "metadata": {
  "application/vnd.databricks.v1+notebook": {
   "computePreferences": null,
   "dashboards": [],
   "environmentMetadata": {
    "base_environment": "",
    "environment_version": "3"
   },
   "inputWidgetPreferences": null,
   "language": "python",
   "notebookMetadata": {
    "mostRecentlyExecutedCommandWithImplicitDF": {
     "commandId": 5176559663576727,
     "dataframes": [
      "_sqldf"
     ]
    },
    "pythonIndentUnit": 4
   },
   "notebookName": "1020_eic",
   "widgets": {}
  },
  "language_info": {
   "name": "python"
  }
 },
 "nbformat": 4,
 "nbformat_minor": 0
}
