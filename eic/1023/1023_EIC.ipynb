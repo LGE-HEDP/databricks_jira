{
 "cells": [
  {
   "cell_type": "markdown",
   "metadata": {
    "application/vnd.databricks.v1+cell": {
     "cellMetadata": {},
     "inputWidgets": {},
     "nuid": "35ef7efb-937b-4a2a-88f6-17ea9570a0b2",
     "showTitle": false,
     "tableResultSettingsMap": {},
     "title": ""
    }
   },
   "source": [
    "http://jira.lge.com/issue/browse/HEDATAPLFM-1023?attachmentSortBy=dateTime&attachmentOrder=asc"
   ]
  },
  {
   "cell_type": "code",
   "execution_count": 0,
   "metadata": {
    "application/vnd.databricks.v1+cell": {
     "cellMetadata": {},
     "inputWidgets": {},
     "nuid": "e0487bc4-afd4-4241-9998-0cd7ad0da024",
     "showTitle": false,
     "tableResultSettingsMap": {},
     "title": ""
    }
   },
   "outputs": [],
   "source": []
  },
  {
   "cell_type": "code",
   "execution_count": 0,
   "metadata": {
    "application/vnd.databricks.v1+cell": {
     "cellMetadata": {
      "byteLimit": 2048000,
      "implicitDf": true,
      "rowLimit": 10000
     },
     "inputWidgets": {},
     "nuid": "c39c8ffc-e932-4bd6-ab05-220056eb0479",
     "showTitle": false,
     "tableResultSettingsMap": {},
     "title": ""
    }
   },
   "outputs": [],
   "source": [
    "%sql\n",
    "-- EIC 추출쿼리 (1,410행)\n",
    "select 'EIC' as ric_nm, country_code, platform_code, login_complete, launch_type\n",
    "        , UD_mac as UD, min_ym, max_ym, etl_dt\n",
    "from sandbox.z_sam351_kim.a0909_deletion_impact_2_login_method_ud\n",
    "where 1=1\n",
    "    and substr(platform_code, 1, 1) IN ('W', 'C', 'N')\n",
    "    and substr(platform_code, 2, 2) IN ('24')\n",
    "order by country_code, platform_code, login_complete, launch_type\n"
   ]
  }
 ],
 "metadata": {
  "application/vnd.databricks.v1+notebook": {
   "computePreferences": null,
   "dashboards": [],
   "environmentMetadata": {
    "base_environment": "",
    "environment_version": "3"
   },
   "inputWidgetPreferences": null,
   "language": "python",
   "notebookMetadata": {
    "mostRecentlyExecutedCommandWithImplicitDF": {
     "commandId": 4773766182387276,
     "dataframes": [
      "_sqldf"
     ]
    },
    "pythonIndentUnit": 4
   },
   "notebookName": "1023_EIC",
   "widgets": {}
  },
  "language_info": {
   "name": "python"
  }
 },
 "nbformat": 4,
 "nbformat_minor": 0
}
