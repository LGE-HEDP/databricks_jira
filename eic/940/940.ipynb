{
 "cells": [
  {
   "cell_type": "markdown",
   "metadata": {
    "application/vnd.databricks.v1+cell": {
     "cellMetadata": {},
     "inputWidgets": {},
     "nuid": "68d775dd-4423-4471-b1fc-9a08c2e94518",
     "showTitle": false,
     "tableResultSettingsMap": {},
     "title": ""
    }
   },
   "source": [
    "## Overview\n",
    "- 0. dim_date_ym                                        : dimension data (master) \n",
    "- 1. mac_addr  first_act_date                          : raw data\n",
    "- 2. joinA : dim_date_ym  mac_addr   first_act_date\n",
    "-                 2024.01     A           2024.01\n",
    "-                 2024.02     A           2024.01\n",
    "-                   ...\n",
    "-                 2025.03     A           2024.01\n",
    "- 3. mac_addr  date_ym  -> last(dpv)                   : pivot data\n",
    "-         A      2024.01      8.0\n",
    "-         A      2024.05      9.0\n",
    "- 4. joinB : joinA + pivot_data\n",
    "-     dim_date_ym  mac_addr  first_act_date  mac_addr  date_ym  last(dpv)   rn\n",
    "-        2024.01     A          2024.01         A        2024.01     8.0      \n",
    "-        2024.02     A          2024.01         A        2024.01     8.0       2 (조건2, orderBy mac_addr/dim_date/date_ym desc)\n",
    "-         ...        A          2024.01         A        2024.01     8.0\n",
    "-        2025.03     A          2024.01         A        2024.01     8.0\n",
    "- \n",
    "-        2024.01     A          2024.01         A        2024.02     9.0       - (조건1, dim_date_ym < date_ym)\n",
    "-        2024.02     A          2024.01         A        2024.02     9.0   \n",
    "-         ...        A          2024.01         A        2024.02     9.0\n",
    "-        2025.03     A          2024.01         A        2024.02     9.0\n",
    "- 5. joinB 필터 적용\n",
    "      - 조건1) dim_date_ym >= date_ym\n",
    "      - 조건2) rn = 1, (order by dim_date_ym, date_ym desc) as rn\n",
    "- 6. 중간 날짜 로그 없는 경우, 이전 날짜 값으로 치환 \n",
    "- 7. joinC : joinB(mac_addr) + 컬럼 추가\n",
    "      - 테이블1) use_mac_user_master : mac_addr, country_code, platform_code, sales_model_code \n",
    "      - 테이블2) 인치 정보\n",
    "      - 하드코딩) platform_version\n",
    "- 8. 검토 :\n",
    "      - 조건1) inch가 잘 조인되었는지 : sales_model_code별 inch가 1개 조회되는지 (where platform_version  not like 'WEE%')\n",
    "- 9. 집계 : count_ud\n",
    "-     dim_date_ym  country_code  platform_version  platform_code  sales_model_code  inch  dpv  count_ud\n",
    "\n",
    "\n",
    "\n",
    "\n"
   ]
  },
  {
   "cell_type": "markdown",
   "metadata": {
    "application/vnd.databricks.v1+cell": {
     "cellMetadata": {},
     "inputWidgets": {},
     "nuid": "bc297c51-905f-4d35-861f-b33c2f8af08c",
     "showTitle": false,
     "tableResultSettingsMap": {},
     "title": ""
    }
   },
   "source": [
    "## -1. 파라미터 입력"
   ]
  },
  {
   "cell_type": "code",
   "execution_count": 0,
   "metadata": {
    "application/vnd.databricks.v1+cell": {
     "cellMetadata": {},
     "inputWidgets": {},
     "nuid": "97493990-9d14-4866-af54-6c592841f34a",
     "showTitle": false,
     "tableResultSettingsMap": {},
     "title": ""
    }
   },
   "outputs": [],
   "source": [
    "p_cn = 'FR' # country code\n",
    "p_pv = str(dbutils.widgets.get(\"p_pv\")) # platform version\n",
    "print(p_pv, type(p_pv))\n",
    "\n",
    "if p_pv == 'webOSTV 22' :\n",
    "    p_normal_table = 'normal_log_webos22'\n",
    "elif p_pv == 'webOSTV 23' :\n",
    "    p_normal_table = 'normal_log_webos23'\n",
    "elif p_pv == 'webOSTV 24' :\n",
    "    p_normal_table = 'normal_log_webos24'"
   ]
  },
  {
   "cell_type": "markdown",
   "metadata": {
    "application/vnd.databricks.v1+cell": {
     "cellMetadata": {},
     "inputWidgets": {},
     "nuid": "3e24f756-40e1-4910-8ae3-d67accc0478c",
     "showTitle": false,
     "tableResultSettingsMap": {},
     "title": ""
    }
   },
   "source": [
    "## 0. 날짜범위 구하기 : date_ym dimension 만들기 "
   ]
  },
  {
   "cell_type": "code",
   "execution_count": 0,
   "metadata": {
    "application/vnd.databricks.v1+cell": {
     "cellMetadata": {
      "byteLimit": 2048000,
      "rowLimit": 10000
     },
     "inputWidgets": {},
     "nuid": "bf43c1e0-e8c3-4845-8296-f6fdcab2af8a",
     "showTitle": false,
     "tableResultSettingsMap": {},
     "title": ""
    }
   },
   "outputs": [],
   "source": [
    "%python\n",
    "from pyspark.sql.types import StructType, StructField, StringType\n",
    "\n",
    "# Set schema/data\n",
    "schema = StructType([\n",
    "    StructField('dim_date_ym', StringType(), True)\n",
    "])\n",
    "data = [('2024-10',), ('2024-11',), ('2024-12',), ('2025-01',), ('2025-02',), ('2025-03',)]\n",
    "\n",
    "# Create DataFrame\n",
    "df_dim = spark.createDataFrame(data, schema)\n",
    "df_dim.display()"
   ]
  },
  {
   "cell_type": "markdown",
   "metadata": {
    "application/vnd.databricks.v1+cell": {
     "cellMetadata": {},
     "inputWidgets": {},
     "nuid": "f979874c-68ac-49c2-bed0-dd4b6714945c",
     "showTitle": false,
     "tableResultSettingsMap": {},
     "title": ""
    }
   },
   "source": [
    "## 1. 타겟 mac 구하기 : KR mac_addr 별 min(activation_date) 구하기"
   ]
  },
  {
   "cell_type": "code",
   "execution_count": 0,
   "metadata": {
    "application/vnd.databricks.v1+cell": {
     "cellMetadata": {
      "byteLimit": 2048000,
      "rowLimit": 10000
     },
     "inputWidgets": {},
     "nuid": "5b88cd5c-e6cd-4dfe-9872-7df76d4e4f26",
     "showTitle": false,
     "tableResultSettingsMap": {},
     "title": ""
    }
   },
   "outputs": [],
   "source": [
    "# 1. 2,573,502\n",
    "df_raw = spark.sql(f'''\n",
    "    select   mac_addr, min(first_activation_date) as first_activation_date, date_format(min(first_activation_date), 'yyyy-MM') as first_act_date_ym\n",
    "    from     eic_data_mart.master_tables.use_mac_user_master\n",
    "    where    country_code = '{p_cn}'\n",
    "    group by mac_addr\n",
    "''')\n",
    "df_raw.limit(10).display()"
   ]
  },
  {
   "cell_type": "markdown",
   "metadata": {
    "application/vnd.databricks.v1+cell": {
     "cellMetadata": {},
     "inputWidgets": {},
     "nuid": "5ce5acad-5df6-493c-9a44-db6c4fa985eb",
     "showTitle": false,
     "tableResultSettingsMap": {},
     "title": ""
    }
   },
   "source": [
    "## 2. [joinA] 타겟 mac_addr별 조사할 date_ym 범위 구하기"
   ]
  },
  {
   "cell_type": "code",
   "execution_count": 0,
   "metadata": {
    "application/vnd.databricks.v1+cell": {
     "cellMetadata": {
      "byteLimit": 2048000,
      "rowLimit": 10000
     },
     "inputWidgets": {},
     "nuid": "1bd860a0-30ac-41de-aebc-c569c8bac701",
     "showTitle": false,
     "tableResultSettingsMap": {},
     "title": ""
    }
   },
   "outputs": [],
   "source": [
    "# 2. joinA : dim_date_ym  device_id   first_act_date\n",
    "from pyspark.sql.functions import col\n",
    "\n",
    "df_join_a = df_raw.crossJoin(df_dim) # cross join\n",
    "df_join_a = df_join_a.where(\"first_act_date_ym <= dim_date_ym\")"
   ]
  },
  {
   "cell_type": "markdown",
   "metadata": {
    "application/vnd.databricks.v1+cell": {
     "cellMetadata": {},
     "inputWidgets": {},
     "nuid": "1a2b7bc4-e363-4e1e-89bf-c5410fd974c5",
     "showTitle": false,
     "tableResultSettingsMap": {},
     "title": ""
    }
   },
   "source": [
    "#### 검증"
   ]
  },
  {
   "cell_type": "code",
   "execution_count": 0,
   "metadata": {
    "application/vnd.databricks.v1+cell": {
     "cellMetadata": {
      "byteLimit": 2048000,
      "rowLimit": 10000
     },
     "inputWidgets": {},
     "nuid": "23a91799-0ac3-4287-8da7-b800d651da3c",
     "showTitle": false,
     "tableResultSettingsMap": {
      "0": {
       "dataGridStateBlob": "{\"version\":1,\"tableState\":{\"columnPinning\":{\"left\":[\"#row_number#\"],\"right\":[]},\"columnSizing\":{},\"columnVisibility\":{}},\"settings\":{\"columns\":{}},\"syncTimestamp\":1753667239644}",
       "filterBlob": null,
       "queryPlanFiltersBlob": null,
       "tableResultIndex": 0
      }
     },
     "title": ""
    }
   },
   "outputs": [],
   "source": [
    "df_join_a.where(\"mac_addr = '001145c0f035011b10b1f6238b97193d88949f48b450d8923ec81f5302d25881'\").display()"
   ]
  },
  {
   "cell_type": "markdown",
   "metadata": {
    "application/vnd.databricks.v1+cell": {
     "cellMetadata": {},
     "inputWidgets": {},
     "nuid": "a0f22f36-d087-40ef-bf9e-d86e64cb7548",
     "showTitle": false,
     "tableResultSettingsMap": {},
     "title": ""
    }
   },
   "source": [
    "## 3. [mac_dpv_1m] 타겟 mac_addr에 대한 월 dpv 값 구하기 \n",
    "> device_id date_ym -> last(dpv) : pivot data"
   ]
  },
  {
   "cell_type": "code",
   "execution_count": 0,
   "metadata": {
    "application/vnd.databricks.v1+cell": {
     "cellMetadata": {
      "byteLimit": 2048000,
      "rowLimit": 10000
     },
     "inputWidgets": {},
     "nuid": "29393fd7-5f0c-47cb-befa-5668e1226289",
     "showTitle": false,
     "tableResultSettingsMap": {},
     "title": ""
    }
   },
   "outputs": [],
   "source": [
    "%python \n",
    "df_dpv = spark.sql(f'''\n",
    "    select mac_addr, date_ym, X_Device_SDK_VERSION as dpv\n",
    "    from   (\n",
    "        SELECT mac_addr, date_ym, row_number() over(partition by mac_addr, date_ym order by log_create_time desc) as rn, X_Device_SDK_VERSION\n",
    "        FROM   eic_data_ods.tlamp_private.{p_normal_table}\n",
    "        WHERE  1=1\n",
    "           AND X_device_country = '{p_cn}'\n",
    "           AND context_name = 'tvpowerd'\n",
    "           AND message_id = 'NL_POWER_STATE'\n",
    "           AND date_ym >= '2024-10'\n",
    "           AND date_ym <= '2025-03') t\n",
    "    WHERE 1=1\n",
    "      AND rn = 1\n",
    "''')"
   ]
  },
  {
   "cell_type": "markdown",
   "metadata": {
    "application/vnd.databricks.v1+cell": {
     "cellMetadata": {},
     "inputWidgets": {},
     "nuid": "3bbb9647-ac5c-418e-a514-46d4d685cf5f",
     "showTitle": false,
     "tableResultSettingsMap": {},
     "title": ""
    }
   },
   "source": [
    "#### 검증"
   ]
  },
  {
   "cell_type": "code",
   "execution_count": 0,
   "metadata": {
    "application/vnd.databricks.v1+cell": {
     "cellMetadata": {
      "byteLimit": 2048000,
      "rowLimit": 10000
     },
     "inputWidgets": {},
     "nuid": "a1b07692-576d-4801-b74a-f1bb49c481d3",
     "showTitle": false,
     "tableResultSettingsMap": {},
     "title": ""
    }
   },
   "outputs": [],
   "source": [
    "df_dpv.count()"
   ]
  },
  {
   "cell_type": "code",
   "execution_count": 0,
   "metadata": {
    "application/vnd.databricks.v1+cell": {
     "cellMetadata": {
      "byteLimit": 2048000,
      "rowLimit": 10000
     },
     "inputWidgets": {},
     "nuid": "6d333788-4660-4fc2-824e-840b83d66f50",
     "showTitle": false,
     "tableResultSettingsMap": {},
     "title": ""
    }
   },
   "outputs": [],
   "source": [
    "df_dpv.select('mac_addr', 'date_ym').distinct().count()"
   ]
  },
  {
   "cell_type": "markdown",
   "metadata": {
    "application/vnd.databricks.v1+cell": {
     "cellMetadata": {},
     "inputWidgets": {},
     "nuid": "95d55cca-a2d1-419c-8652-b522378e84ba",
     "showTitle": false,
     "tableResultSettingsMap": {},
     "title": ""
    }
   },
   "source": [
    "## 4. [joinB] joinA + mac_dpv_1m"
   ]
  },
  {
   "cell_type": "code",
   "execution_count": 0,
   "metadata": {
    "application/vnd.databricks.v1+cell": {
     "cellMetadata": {
      "byteLimit": 2048000,
      "rowLimit": 10000
     },
     "inputWidgets": {},
     "nuid": "b37dd303-0b68-4620-a43b-aebdc1ce94e3",
     "showTitle": false,
     "tableResultSettingsMap": {},
     "title": ""
    }
   },
   "outputs": [],
   "source": [
    "df_join_b = df_join_a.join(df_dpv, on='mac_addr', how='left_outer')"
   ]
  },
  {
   "cell_type": "code",
   "execution_count": 0,
   "metadata": {
    "application/vnd.databricks.v1+cell": {
     "cellMetadata": {
      "byteLimit": 2048000,
      "rowLimit": 10000
     },
     "inputWidgets": {},
     "nuid": "1a3efa76-0d38-4cab-b760-8301b95cb92f",
     "showTitle": false,
     "tableResultSettingsMap": {},
     "title": ""
    }
   },
   "outputs": [],
   "source": [
    "df_join_b.orderBy('mac_addr', 'dim_date_ym', 'date_ym').limit(100).display()"
   ]
  },
  {
   "cell_type": "markdown",
   "metadata": {
    "application/vnd.databricks.v1+cell": {
     "cellMetadata": {},
     "inputWidgets": {},
     "nuid": "1dc0d270-ae6a-4074-b9d7-1d90adfcf4c0",
     "showTitle": false,
     "tableResultSettingsMap": {},
     "title": ""
    }
   },
   "source": [
    "## 5. [joinB] 필터"
   ]
  },
  {
   "cell_type": "markdown",
   "metadata": {
    "application/vnd.databricks.v1+cell": {
     "cellMetadata": {},
     "inputWidgets": {},
     "nuid": "b871e25d-cb56-4da2-a93f-bd33684ddd14",
     "showTitle": false,
     "tableResultSettingsMap": {},
     "title": ""
    }
   },
   "source": [
    "#### 조건 1"
   ]
  },
  {
   "cell_type": "code",
   "execution_count": 0,
   "metadata": {
    "application/vnd.databricks.v1+cell": {
     "cellMetadata": {
      "byteLimit": 2048000,
      "rowLimit": 10000
     },
     "inputWidgets": {},
     "nuid": "06d4fe2a-1335-44b0-a54f-af7ebd81e501",
     "showTitle": false,
     "tableResultSettingsMap": {},
     "title": ""
    }
   },
   "outputs": [],
   "source": [
    "# 조건 1 \n",
    "df_join_b1 = df_join_b.where(\"(date_ym is not null and dim_date_ym >= date_ym) or (date_ym is null)\")"
   ]
  },
  {
   "cell_type": "markdown",
   "metadata": {
    "application/vnd.databricks.v1+cell": {
     "cellMetadata": {},
     "inputWidgets": {},
     "nuid": "82b81d41-bd3f-45d4-972d-79e8b4e4ea3f",
     "showTitle": false,
     "tableResultSettingsMap": {},
     "title": ""
    }
   },
   "source": [
    "#### 조건 2"
   ]
  },
  {
   "cell_type": "code",
   "execution_count": 0,
   "metadata": {
    "application/vnd.databricks.v1+cell": {
     "cellMetadata": {
      "byteLimit": 2048000,
      "rowLimit": 10000
     },
     "inputWidgets": {},
     "nuid": "ffe79d6c-b37d-4e99-a909-155d5b2f7c08",
     "showTitle": false,
     "tableResultSettingsMap": {},
     "title": ""
    }
   },
   "outputs": [],
   "source": [
    "# 조건 2\n",
    "from pyspark.sql.functions import row_number, when\n",
    "from pyspark.sql.window import Window \n",
    "\n",
    "# null 여부를 flag로 지정 (null이면 1, 아니면 0)\n",
    "df_join_b1 = df_join_b1.withColumn(\"null_flag\", when(col(\"dpv\").isNull(), 1).otherwise(0))\n",
    "\n",
    "# 윈도우 정의\n",
    "window_spec = Window.partitionBy(\"mac_addr\", \"dim_date_ym\")\\\n",
    "                    .orderBy(\"null_flag\", df_join_b1['date_ym'].desc())\n",
    "\n",
    "# row_number 추가\n",
    "df_join_b1 = df_join_b1.withColumn(\"rn\", row_number().over(window_spec))\n",
    "\n",
    "# rn = 1인 데이터만 필터링\n",
    "df_join_b2 = df_join_b1.filter(df_join_b1[\"rn\"] == 1)"
   ]
  },
  {
   "cell_type": "markdown",
   "metadata": {
    "application/vnd.databricks.v1+cell": {
     "cellMetadata": {},
     "inputWidgets": {},
     "nuid": "934777f1-a342-4b47-8f45-be40dc25b264",
     "showTitle": false,
     "tableResultSettingsMap": {},
     "title": ""
    }
   },
   "source": [
    "#### 검증"
   ]
  },
  {
   "cell_type": "code",
   "execution_count": 0,
   "metadata": {
    "application/vnd.databricks.v1+cell": {
     "cellMetadata": {
      "byteLimit": 2048000,
      "rowLimit": 10000
     },
     "inputWidgets": {},
     "nuid": "89972e1b-5dab-4c7a-9195-2a7aeb62392d",
     "showTitle": false,
     "tableResultSettingsMap": {},
     "title": ""
    }
   },
   "outputs": [],
   "source": [
    "# 검증\n",
    "df_join_b2.orderBy('mac_addr', 'dim_date_ym', 'date_ym').limit(100).display()"
   ]
  },
  {
   "cell_type": "code",
   "execution_count": 0,
   "metadata": {
    "application/vnd.databricks.v1+cell": {
     "cellMetadata": {
      "byteLimit": 2048000,
      "rowLimit": 10000
     },
     "inputWidgets": {},
     "nuid": "aa546e45-2051-46c7-a688-e6f0f8695886",
     "showTitle": false,
     "tableResultSettingsMap": {},
     "title": ""
    }
   },
   "outputs": [],
   "source": [
    "from pyspark.sql.functions import count, max, min\n",
    "\n",
    "# mac_addr별 count를 계산한 뒤, 그 중 최대값 추출\n",
    "df_counts = df_join_b2.groupBy(\"mac_addr\").agg(count(\"dim_date_ym\").alias(\"cnt\"))\n",
    "df_counts.agg(max(\"cnt\")).show()\n",
    "\n",
    "from pyspark.sql.functions import count, max\n",
    "\n",
    "# mac_addr별 count를 계산한 뒤, 그 중 최소값 추출\n",
    "df_counts = df_join_b2.groupBy(\"mac_addr\").agg(count(\"dim_date_ym\").alias(\"cnt\"))\n",
    "df_counts.agg(min(\"cnt\")).show()"
   ]
  },
  {
   "cell_type": "markdown",
   "metadata": {
    "application/vnd.databricks.v1+cell": {
     "cellMetadata": {},
     "inputWidgets": {},
     "nuid": "9a88f87c-7ab5-4e0e-8ede-3ab831cfa23f",
     "showTitle": false,
     "tableResultSettingsMap": {},
     "title": ""
    }
   },
   "source": [
    "## 6. 중간 날짜에 로그가 없어서 null인 경우, 이전 날짜의 값으로 채우기"
   ]
  },
  {
   "cell_type": "code",
   "execution_count": 0,
   "metadata": {
    "application/vnd.databricks.v1+cell": {
     "cellMetadata": {
      "byteLimit": 2048000,
      "rowLimit": 10000
     },
     "inputWidgets": {},
     "nuid": "eff29687-d020-44ac-8f90-be336be31acc",
     "showTitle": false,
     "tableResultSettingsMap": {},
     "title": ""
    }
   },
   "outputs": [],
   "source": [
    "from pyspark.sql.functions import to_date, last\n",
    "\n",
    "# Window 정의 (device별 날짜 정렬)\n",
    "w = Window.partitionBy(\"mac_addr\").orderBy(\"dim_date_ym\").rowsBetween(Window.unboundedPreceding, 0)\n",
    "\n",
    "# 누적된 value_str (앞에서부터 채우기 - forward fill)\n",
    "df_join_bf = df_join_b2.withColumn(\"filled_dpv\", last(\"dpv\", ignorenulls=True).over(w))\n",
    "df_join_bf.where(\"dpv != filled_dpv\").limit(10).display()\n"
   ]
  },
  {
   "cell_type": "code",
   "execution_count": 0,
   "metadata": {
    "application/vnd.databricks.v1+cell": {
     "cellMetadata": {
      "byteLimit": 2048000,
      "rowLimit": 10000
     },
     "inputWidgets": {},
     "nuid": "18a1e1c4-3469-4b15-ad08-6f1d09d779f2",
     "showTitle": false,
     "tableResultSettingsMap": {},
     "title": ""
    }
   },
   "outputs": [],
   "source": [
    "# 검증\n",
    "df_join_bf.orderBy('mac_addr', 'dim_date_ym', 'date_ym').limit(100).display()"
   ]
  },
  {
   "cell_type": "markdown",
   "metadata": {
    "application/vnd.databricks.v1+cell": {
     "cellMetadata": {},
     "inputWidgets": {},
     "nuid": "5ded83d6-4db1-437e-9583-3b4533b70c04",
     "showTitle": false,
     "tableResultSettingsMap": {},
     "title": ""
    }
   },
   "source": [
    "## 7. 컬럼 추가 조인"
   ]
  },
  {
   "cell_type": "markdown",
   "metadata": {
    "application/vnd.databricks.v1+cell": {
     "cellMetadata": {},
     "inputWidgets": {},
     "nuid": "d961e80d-f714-44ec-9228-fcbe4492d6f9",
     "showTitle": false,
     "tableResultSettingsMap": {},
     "title": ""
    }
   },
   "source": [
    "      - 테이블1) use_mac_user_master : mac_addr, country_code, platform_code, sales_model_code \n",
    "      - 테이블2) 인치 정보\n",
    "      - 하드코딩) platform_version"
   ]
  },
  {
   "cell_type": "code",
   "execution_count": 0,
   "metadata": {
    "application/vnd.databricks.v1+cell": {
     "cellMetadata": {
      "byteLimit": 2048000,
      "rowLimit": 10000
     },
     "inputWidgets": {},
     "nuid": "15f58f73-8f74-442b-911d-1202da9af1da",
     "showTitle": false,
     "tableResultSettingsMap": {},
     "title": ""
    }
   },
   "outputs": [],
   "source": [
    "df_dim_mac = spark.sql(f''' \n",
    "    select distinct mac_addr\n",
    "           , country_code \n",
    "           , platform_code \n",
    "           , sales_model_code \n",
    "    from   eic_data_mart.master_tables.use_mac_user_master\n",
    "    where  country_code = '{p_cn}'\n",
    "''')\n",
    "df_join_c = df_join_bf.join(df_dim_mac, on='mac_addr', how='left_outer')\n",
    "df_join_c.limit(10).display()"
   ]
  },
  {
   "cell_type": "code",
   "execution_count": 0,
   "metadata": {
    "application/vnd.databricks.v1+cell": {
     "cellMetadata": {
      "byteLimit": 2048000,
      "rowLimit": 10000
     },
     "inputWidgets": {},
     "nuid": "bff804a9-c3ca-4835-bc68-0c7072bdb95e",
     "showTitle": false,
     "tableResultSettingsMap": {},
     "title": ""
    }
   },
   "outputs": [],
   "source": [
    "df_tv_model = spark.sql(f'''\n",
    "    -- 인치 정보\n",
    "    select sales_model_code, last(inch) as inch\n",
    "    from   eic_data_dimension.common_tv.tv_model\n",
    "    where  use_yn = 'Y'\n",
    "    group by sales_model_code\n",
    "''')\n",
    "df_join_c2 = df_join_c.join(df_tv_model, on='sales_model_code', how='left_outer')\n",
    "df_join_c2.limit(10).display()\n"
   ]
  },
  {
   "cell_type": "code",
   "execution_count": 0,
   "metadata": {
    "application/vnd.databricks.v1+cell": {
     "cellMetadata": {},
     "inputWidgets": {},
     "nuid": "4c5c63ca-cfd8-4e5b-8093-893b4350c5e3",
     "showTitle": false,
     "tableResultSettingsMap": {},
     "title": ""
    }
   },
   "outputs": [],
   "source": [
    "from pyspark.sql.functions import lit\n",
    "df_join_cf = df_join_c2.withColumn(\"platform_version\", lit(p_pv))"
   ]
  },
  {
   "cell_type": "markdown",
   "metadata": {
    "application/vnd.databricks.v1+cell": {
     "cellMetadata": {},
     "inputWidgets": {},
     "nuid": "42339873-1fcc-41be-8899-fbdb8367bc1d",
     "showTitle": false,
     "tableResultSettingsMap": {},
     "title": ""
    }
   },
   "source": [
    "## 8. 저장 to delta"
   ]
  },
  {
   "cell_type": "code",
   "execution_count": 0,
   "metadata": {
    "application/vnd.databricks.v1+cell": {
     "cellMetadata": {},
     "inputWidgets": {},
     "nuid": "262c34ca-c83b-4933-a8bf-9814e8acf8cd",
     "showTitle": false,
     "tableResultSettingsMap": {},
     "title": ""
    }
   },
   "outputs": [],
   "source": [
    "df_join_cf\\\n",
    "    .write.mode('overwrite')\\\n",
    "    .saveAsTable(f\"sandbox.z_eunmi1_ko.temp_{p_cn}_{p_normal_table}\")"
   ]
  }
 ],
 "metadata": {
  "application/vnd.databricks.v1+notebook": {
   "computePreferences": null,
   "dashboards": [],
   "environmentMetadata": {
    "base_environment": "",
    "environment_version": "2"
   },
   "inputWidgetPreferences": null,
   "language": "python",
   "notebookMetadata": {
    "mostRecentlyExecutedCommandWithImplicitDF": {
     "commandId": 4903015895195186,
     "dataframes": [
      "_sqldf"
     ]
    },
    "pythonIndentUnit": 4
   },
   "notebookName": "940",
   "widgets": {}
  },
  "language_info": {
   "name": "python"
  }
 },
 "nbformat": 4,
 "nbformat_minor": 0
}
