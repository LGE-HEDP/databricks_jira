{
 "cells": [
  {
   "cell_type": "code",
   "execution_count": 0,
   "metadata": {
    "application/vnd.databricks.v1+cell": {
     "cellMetadata": {
      "byteLimit": 10485760,
      "rowLimit": 64000
     },
     "inputWidgets": {},
     "nuid": "efa97bb8-5aad-46f6-a7ca-996bd759d2a0",
     "showTitle": false,
     "tableResultSettingsMap": {},
     "title": ""
    }
   },
   "outputs": [
    {
     "output_type": "display_data",
     "data": {
      "text/plain": [
       "Databricks visualization. Run in Databricks to view."
      ]
     },
     "metadata": {
      "application/vnd.databricks.v1.subcommand+json": {
       "baseErrorDetails": null,
       "bindings": {},
       "collapsed": false,
       "command": "\n\n-- filled_value null 추가 보완 : '24/10 이전 로그 탐색\nwith extension_dpv_webos22 as (\n  \n  -- 마지막 dpv 가져오기 : \n  select mac_addr, X_Device_SDK_VERSION as dpv\n  from   (\n      select mac_addr, row_number() over(partition by mac_addr order by log_create_time desc) as rn, X_Device_SDK_VERSION\n      from   eic_data_ods.tlamp_private.normal_log_webos22\n      where  date_ym >= '2022-03'\n        AND  date_ym <= '2024-09'\n        AND  context_name = 'tvpowerd'\n        AND  message_id   = 'NL_POWER_STATE'\n        AND  mac_addr in (\n          select distinct mac_addr\n          from   sandbox.z_eunmi1_ko.temp_fr_normal_log_webos22\n          where  filled_dpv is null \n      ) \n  ) \n  where rn = 1\n), extension_dpv_webos23 as (\n  \n  -- 마지막 dpv 가져오기 : \n  select mac_addr, X_Device_SDK_VERSION as dpv\n  from   (\n      select mac_addr, row_number() over(partition by mac_addr order by log_create_time desc) as rn, X_Device_SDK_VERSION\n      from   eic_data_ods.tlamp_private.normal_log_webos23\n      where  date_ym >= '2023-03'\n        AND  date_ym <= '2024-09'\n        AND  context_name = 'tvpowerd'\n        AND  message_id   = 'NL_POWER_STATE'\n        AND  mac_addr in (\n          select distinct mac_addr\n          from   sandbox.z_eunmi1_ko.temp_fr_normal_log_webos23\n          where  filled_dpv is null \n      ) \n  ) \n  where rn = 1\n), extension_dpv_webos24 as (\n  \n  -- 마지막 dpv 가져오기 : \n  select mac_addr, X_Device_SDK_VERSION as dpv\n  from   (\n      select mac_addr, row_number() over(partition by mac_addr order by log_create_time desc) as rn, X_Device_SDK_VERSION\n      from   eic_data_ods.tlamp_private.normal_log_webos24\n      where  date_ym >= '2024-03'\n        AND  date_ym <= '2024-09'\n        AND  context_name = 'tvpowerd'\n        AND  message_id   = 'NL_POWER_STATE'\n        AND  mac_addr in (\n          select distinct mac_addr\n          from   sandbox.z_eunmi1_ko.temp_fr_normal_log_webos24\n          where  filled_dpv is null \n      ) \n  ) \n  where rn = 1\n), mart_final_webos22 as (\n  select mart.mac_addr, mart.dim_date_ym, mart.country_code, mart.platform_version, mart.platform_code, mart.sales_model_code, mart.inch\n        , (case when mart.filled_dpv is null then ext.dpv else mart.filled_dpv end) as final_dpv\n  from   sandbox.z_eunmi1_ko.temp_fr_normal_log_webos22 as mart\n  left join extension_dpv_webos22 as ext using (mac_addr)\n), mart_final_webos23 as (\n  select mart.mac_addr, mart.dim_date_ym, mart.country_code, mart.platform_version, mart.platform_code, mart.sales_model_code, mart.inch\n        , (case when mart.filled_dpv is null then ext.dpv else mart.filled_dpv end) as final_dpv\n  from   sandbox.z_eunmi1_ko.temp_fr_normal_log_webos23 as mart\n  left join extension_dpv_webos23 as ext using (mac_addr)\n), mart_final_webos24 as (\n  select mart.mac_addr, mart.dim_date_ym, mart.country_code, mart.platform_version, mart.platform_code, mart.sales_model_code, mart.inch\n        , (case when mart.filled_dpv is null then ext.dpv else mart.filled_dpv end) as final_dpv\n  from   sandbox.z_eunmi1_ko.temp_fr_normal_log_webos24 as mart\n  left join extension_dpv_webos24 as ext using (mac_addr)\n)\n\n-- 지표 결과 2 : 16,722 return\nselect dim_date_ym, country_code, platform_version, platform_code, sales_model_code, inch, final_dpv, count(distinct mac_addr) as cnt_ud\nfrom   mart_final_webos22\ngroup by dim_date_ym, country_code, platform_version, platform_code, sales_model_code, inch, final_dpv\n\nunion all \nselect dim_date_ym, country_code, platform_version, platform_code, sales_model_code, inch, final_dpv, count(distinct mac_addr) as cnt_ud\nfrom   mart_final_webos23\ngroup by dim_date_ym, country_code, platform_version, platform_code, sales_model_code, inch, final_dpv\n\nunion all \nselect dim_date_ym, country_code, platform_version, platform_code, sales_model_code, inch, final_dpv, count(distinct mac_addr) as cnt_ud\nfrom   mart_final_webos24\ngroup by dim_date_ym, country_code, platform_version, platform_code, sales_model_code, inch, final_dpv;\n\n\n\n\n",
       "commandTitle": "Results",
       "commandType": "auto",
       "commandVersion": 0,
       "commentThread": [],
       "commentsVisible": false,
       "contentSha256Hex": null,
       "customPlotOptions": {
        "redashChart": [
         {
          "key": "type",
          "value": "TABLE"
         },
         {
          "key": "options",
          "value": {
           "version": 2
          }
         }
        ]
       },
       "datasetPreviewNameToCmdIdMap": {},
       "diffDeletes": [],
       "diffInserts": [],
       "displayType": "redashChart",
       "error": null,
       "errorDetails": null,
       "errorSummary": null,
       "errorTraceType": null,
       "finishTime": 0,
       "globalVars": {},
       "guid": "",
       "height": "auto",
       "hideCommandCode": false,
       "hideCommandResult": false,
       "iPythonMetadata": null,
       "inputWidgets": {},
       "isLockedInExamMode": false,
       "latestAssumeRoleInfo": null,
       "latestUser": "a user",
       "latestUserId": null,
       "listResultMetadata": null,
       "metadata": {},
       "nuid": "31f4eac5-36ac-4410-b0b0-063745837e8f",
       "origId": 0,
       "parentHierarchy": [],
       "pivotAggregation": null,
       "pivotColumns": null,
       "position": 3.0,
       "resultDbfsErrorMessage": null,
       "resultDbfsStatus": "INLINED_IN_TREE",
       "results": null,
       "showCommandTitle": false,
       "startTime": 0,
       "state": "input",
       "streamStates": {},
       "subcommandOptions": {
        "redashId": "f258f0d2-b243-4304-8a66-80745d86e164",
        "redashLastUpdated": 1754539185000
       },
       "submitTime": 0,
       "subtype": "tableResultSubCmd.visualization",
       "tableResultIndex": 0,
       "tableResultSettingsMap": {},
       "useConsistentColors": false,
       "version": "CommandV1",
       "width": "auto",
       "workflows": null,
       "xColumns": null,
       "yColumns": null
      }
     },
     "output_type": "display_data"
    },
    {
     "output_type": "display_data",
     "data": {
      "text/plain": [
       "Databricks visualization. Run in Databricks to view."
      ]
     },
     "metadata": {
      "application/vnd.databricks.v1.subcommand+json": {
       "baseErrorDetails": null,
       "bindings": {},
       "collapsed": false,
       "command": "%sql WITH q AS (with extension_dpv_webos22 as (\n  \n  \n  select mac_addr, X_Device_SDK_VERSION as dpv\n  from   (\n      select mac_addr, row_number() over(partition by mac_addr order by log_create_time desc) as rn, X_Device_SDK_VERSION\n      from   eic_data_ods.tlamp_private.normal_log_webos22\n      where  date_ym >= '2022-03'\n        AND  date_ym <= '2024-09'\n        AND  context_name = 'tvpowerd'\n        AND  message_id   = 'NL_POWER_STATE'\n        AND  mac_addr in (\n          select distinct mac_addr\n          from   sandbox.z_eunmi1_ko.temp_fr_normal_log_webos22\n          where  filled_dpv is null \n      ) \n  ) \n  where rn = 1\n), extension_dpv_webos23 as (\n  \n  \n  select mac_addr, X_Device_SDK_VERSION as dpv\n  from   (\n      select mac_addr, row_number() over(partition by mac_addr order by log_create_time desc) as rn, X_Device_SDK_VERSION\n      from   eic_data_ods.tlamp_private.normal_log_webos23\n      where  date_ym >= '2023-03'\n        AND  date_ym <= '2024-09'\n        AND  context_name = 'tvpowerd'\n        AND  message_id   = 'NL_POWER_STATE'\n        AND  mac_addr in (\n          select distinct mac_addr\n          from   sandbox.z_eunmi1_ko.temp_fr_normal_log_webos23\n          where  filled_dpv is null \n      ) \n  ) \n  where rn = 1\n), extension_dpv_webos24 as (\n  \n  \n  select mac_addr, X_Device_SDK_VERSION as dpv\n  from   (\n      select mac_addr, row_number() over(partition by mac_addr order by log_create_time desc) as rn, X_Device_SDK_VERSION\n      from   eic_data_ods.tlamp_private.normal_log_webos24\n      where  date_ym >= '2024-03'\n        AND  date_ym <= '2024-09'\n        AND  context_name = 'tvpowerd'\n        AND  message_id   = 'NL_POWER_STATE'\n        AND  mac_addr in (\n          select distinct mac_addr\n          from   sandbox.z_eunmi1_ko.temp_fr_normal_log_webos24\n          where  filled_dpv is null \n      ) \n  ) \n  where rn = 1\n), mart_final_webos22 as (\n  select mart.mac_addr, mart.dim_date_ym, mart.country_code, mart.platform_version, mart.platform_code, mart.sales_model_code, mart.inch\n        , (case when mart.filled_dpv is null then ext.dpv else mart.filled_dpv end) as final_dpv\n  from   sandbox.z_eunmi1_ko.temp_fr_normal_log_webos22 as mart\n  left join extension_dpv_webos22 as ext using (mac_addr)\n), mart_final_webos23 as (\n  select mart.mac_addr, mart.dim_date_ym, mart.country_code, mart.platform_version, mart.platform_code, mart.sales_model_code, mart.inch\n        , (case when mart.filled_dpv is null then ext.dpv else mart.filled_dpv end) as final_dpv\n  from   sandbox.z_eunmi1_ko.temp_fr_normal_log_webos23 as mart\n  left join extension_dpv_webos23 as ext using (mac_addr)\n), mart_final_webos24 as (\n  select mart.mac_addr, mart.dim_date_ym, mart.country_code, mart.platform_version, mart.platform_code, mart.sales_model_code, mart.inch\n        , (case when mart.filled_dpv is null then ext.dpv else mart.filled_dpv end) as final_dpv\n  from   sandbox.z_eunmi1_ko.temp_fr_normal_log_webos24 as mart\n  left join extension_dpv_webos24 as ext using (mac_addr)\n)\n\n\nselect dim_date_ym, country_code, platform_version, platform_code, sales_model_code, inch, final_dpv, count(distinct mac_addr) as cnt_ud\nfrom   mart_final_webos22\ngroup by dim_date_ym, country_code, platform_version, platform_code, sales_model_code, inch, final_dpv\n\nunion all \nselect dim_date_ym, country_code, platform_version, platform_code, sales_model_code, inch, final_dpv, count(distinct mac_addr) as cnt_ud\nfrom   mart_final_webos23\ngroup by dim_date_ym, country_code, platform_version, platform_code, sales_model_code, inch, final_dpv\n\nunion all \nselect dim_date_ym, country_code, platform_version, platform_code, sales_model_code, inch, final_dpv, count(distinct mac_addr) as cnt_ud\nfrom   mart_final_webos24\ngroup by dim_date_ym, country_code, platform_version, platform_code, sales_model_code, inch, final_dpv) SELECT `dim_date_ym`,SUM(`cnt_ud`) `column_1d4519f73557`,`final_dpv` FROM q GROUP BY `dim_date_ym`,`final_dpv`",
       "commandTitle": "Bar 1",
       "commandType": "auto",
       "commandVersion": 0,
       "commentThread": [],
       "commentsVisible": false,
       "contentSha256Hex": null,
       "customPlotOptions": {
        "redashChart": [
         {
          "key": "type",
          "value": "CHART"
         },
         {
          "key": "options",
          "value": {
           "alignYAxesAtZero": true,
           "coefficient": 1,
           "columnConfigurationMap": {
            "series": {
             "column": "final_dpv",
             "id": "column_1d4519f73555"
            },
            "x": {
             "column": "dim_date_ym",
             "id": "column_1d4519f73554"
            },
            "y": [
             {
              "column": "cnt_ud",
              "id": "column_1d4519f73557",
              "transform": "SUM"
             }
            ]
           },
           "dateTimeFormat": "YYYY-MM-DD HH:mm",
           "direction": {
            "type": "counterclockwise"
           },
           "error_y": {
            "type": "data",
            "visible": true
           },
           "globalSeriesType": "column",
           "isAggregationOn": true,
           "legend": {
            "traceorder": "normal"
           },
           "missingValuesAsZero": true,
           "numberFormat": "0,0.[00000]",
           "percentFormat": "0[.]00%",
           "series": {
            "error_y": {
             "type": "data",
             "visible": true
            },
            "stacking": "stack"
           },
           "seriesOptions": {
            "column_1d4519f73557": {
             "type": "column",
             "yAxis": 0
            }
           },
           "showDataLabels": true,
           "sizemode": "diameter",
           "sortX": true,
           "sortY": true,
           "swappedAxes": true,
           "textFormat": "",
           "useAggregationsUi": true,
           "valuesOptions": {},
           "version": 2,
           "xAxis": {
            "labels": {
             "enabled": true
            },
            "type": "-"
           },
           "yAxis": [
            {
             "type": "-"
            },
            {
             "opposite": true,
             "type": "-"
            }
           ]
          }
         }
        ]
       },
       "datasetPreviewNameToCmdIdMap": {},
       "diffDeletes": [],
       "diffInserts": [],
       "displayType": "redashChart",
       "error": null,
       "errorDetails": null,
       "errorSummary": null,
       "errorTraceType": null,
       "finishTime": 0,
       "globalVars": {},
       "guid": "",
       "height": "auto",
       "hideCommandCode": false,
       "hideCommandResult": false,
       "iPythonMetadata": null,
       "inputWidgets": {},
       "isLockedInExamMode": false,
       "latestAssumeRoleInfo": null,
       "latestUser": "a user",
       "latestUserId": null,
       "listResultMetadata": null,
       "metadata": {},
       "nuid": "39d83f93-5c89-4d7c-b6dc-cf93b8b43126",
       "origId": 0,
       "parentHierarchy": [],
       "pivotAggregation": null,
       "pivotColumns": null,
       "position": 2.0,
       "resultDbfsErrorMessage": null,
       "resultDbfsStatus": "INLINED_IN_TREE",
       "results": null,
       "showCommandTitle": false,
       "startTime": 0,
       "state": "input",
       "streamStates": {},
       "subcommandOptions": {
        "queryPlan": {
         "groups": [
          {
           "column": "dim_date_ym",
           "type": "column"
          },
          {
           "column": "final_dpv",
           "type": "column"
          }
         ],
         "selects": [
          {
           "column": "dim_date_ym",
           "type": "column"
          },
          {
           "alias": "column_1d4519f73557",
           "args": [
            {
             "column": "cnt_ud",
             "type": "column"
            }
           ],
           "function": "SUM",
           "type": "function"
          },
          {
           "column": "final_dpv",
           "type": "column"
          }
         ]
        },
        "redashId": "6e97f10b-51ec-40a7-a08e-e05e23b23710",
        "redashLastUpdated": 1754539185000
       },
       "submitTime": 0,
       "subtype": "tableResultSubCmd.visualization",
       "tableResultIndex": 0,
       "tableResultSettingsMap": {},
       "useConsistentColors": false,
       "version": "CommandV1",
       "width": "auto",
       "workflows": null,
       "xColumns": null,
       "yColumns": null
      }
     },
     "output_type": "display_data"
    }
   ],
   "source": [
    "\n",
    "-- filled_value null 추가 보완 : '24/09 이전 로그 탐색\n",
    "with extension_dpv_webos22 as (\n",
    "  \n",
    "  -- 마지막 dpv 가져오기 : \n",
    "  select mac_addr, X_Device_SDK_VERSION as dpv\n",
    "  from   (\n",
    "      select mac_addr, row_number() over(partition by mac_addr order by log_create_time desc) as rn, X_Device_SDK_VERSION\n",
    "      from   eic_data_ods.tlamp_private.normal_log_webos22\n",
    "      where  date_ym >= '2022-03'\n",
    "        AND  date_ym < '2024-09'\n",
    "        AND  context_name = 'tvpowerd'\n",
    "        AND  message_id   = 'NL_POWER_STATE'\n",
    "        AND  mac_addr in (\n",
    "          select distinct mac_addr\n",
    "          from   sandbox.z_eunmi1_ko.temp_normal_log_webos22\n",
    "          where  filled_dpv is null \n",
    "      ) \n",
    "  ) \n",
    "  where rn = 1\n",
    "), extension_dpv_webos23 as (\n",
    "  \n",
    "  -- 마지막 dpv 가져오기 : \n",
    "  select mac_addr, X_Device_SDK_VERSION as dpv\n",
    "  from   (\n",
    "      select mac_addr, row_number() over(partition by mac_addr order by log_create_time desc) as rn, X_Device_SDK_VERSION\n",
    "      from   eic_data_ods.tlamp_private.normal_log_webos23\n",
    "      where  date_ym >= '2023-03'\n",
    "        AND  date_ym < '2024-09'\n",
    "        AND  context_name = 'tvpowerd'\n",
    "        AND  message_id   = 'NL_POWER_STATE'\n",
    "        AND  mac_addr in (\n",
    "          select distinct mac_addr\n",
    "          from   sandbox.z_eunmi1_ko.temp_normal_log_webos23\n",
    "          where  filled_dpv is null \n",
    "      ) \n",
    "  ) \n",
    "  where rn = 1\n",
    "), extension_dpv_webos24 as (\n",
    "  \n",
    "  -- 마지막 dpv 가져오기 : \n",
    "  select mac_addr, X_Device_SDK_VERSION as dpv\n",
    "  from   (\n",
    "      select mac_addr, row_number() over(partition by mac_addr order by log_create_time desc) as rn, X_Device_SDK_VERSION\n",
    "      from   eic_data_ods.tlamp_private.normal_log_webos24\n",
    "      where  date_ym >= '2024-03'\n",
    "        AND  date_ym < '2024-09'\n",
    "        AND  context_name = 'tvpowerd'\n",
    "        AND  message_id   = 'NL_POWER_STATE'\n",
    "        AND  mac_addr in (\n",
    "          select distinct mac_addr\n",
    "          from   sandbox.z_eunmi1_ko.temp_normal_log_webos24\n",
    "          where  filled_dpv is null \n",
    "      ) \n",
    "  ) \n",
    "  where rn = 1\n",
    "), mart_final_webos22 as (\n",
    "  select mart.mac_addr, mart.dim_date_ym, mart.country_code, mart.platform_version, mart.platform_code, mart.sales_model_code, mart.inch\n",
    "        , (case when mart.filled_dpv is null then ext.dpv else mart.filled_dpv end) as final_dpv\n",
    "  from   sandbox.z_eunmi1_ko.temp_normal_log_webos22 as mart\n",
    "  left join extension_dpv_webos22 as ext using (mac_addr)\n",
    "), mart_final_webos23 as (\n",
    "  select mart.mac_addr, mart.dim_date_ym, mart.country_code, mart.platform_version, mart.platform_code, mart.sales_model_code, mart.inch\n",
    "        , (case when mart.filled_dpv is null then ext.dpv else mart.filled_dpv end) as final_dpv\n",
    "  from   sandbox.z_eunmi1_ko.temp_normal_log_webos23 as mart\n",
    "  left join extension_dpv_webos23 as ext using (mac_addr)\n",
    "), mart_final_webos24 as (\n",
    "  select mart.mac_addr, mart.dim_date_ym, mart.country_code, mart.platform_version, mart.platform_code, mart.sales_model_code, mart.inch\n",
    "        , (case when mart.filled_dpv is null then ext.dpv else mart.filled_dpv end) as final_dpv\n",
    "  from   sandbox.z_eunmi1_ko.temp_normal_log_webos24 as mart\n",
    "  left join extension_dpv_webos24 as ext using (mac_addr)\n",
    ")\n",
    "\n",
    "  -- 지표 결과 2 : 16,722 return\n",
    "select tr.*, tc.region\n",
    "from  (\n",
    "  select dim_date_ym, country_code, platform_version, platform_code, sales_model_code, inch, final_dpv, count(distinct mac_addr) as cnt_ud\n",
    "  from   mart_final_webos22\n",
    "  where  final_dpv is not null\n",
    "  group by dim_date_ym, country_code, platform_version, platform_code, sales_model_code, inch, final_dpv\n",
    "\n",
    "  union all \n",
    "  select dim_date_ym, country_code, platform_version, platform_code, sales_model_code, inch, final_dpv, count(distinct mac_addr) as cnt_ud\n",
    "  from   mart_final_webos23\n",
    "  where  final_dpv is not null\n",
    "  group by dim_date_ym, country_code, platform_version, platform_code, sales_model_code, inch, final_dpv\n",
    "\n",
    "  union all \n",
    "  select dim_date_ym, country_code, platform_version, platform_code, sales_model_code, inch, final_dpv, count(distinct mac_addr) as cnt_ud\n",
    "  from   mart_final_webos24\n",
    "  where  final_dpv is not null\n",
    "  group by dim_date_ym, country_code, platform_version, platform_code, sales_model_code, inch, final_dpv\n",
    ") tr\n",
    "left join (\n",
    "  select distinct country_code AS cc, region\n",
    "  from eic_data_dimension.common.country_code\n",
    "  where region = 'EIC'\n",
    ") as tc ON lower(tr.country_code) = lower(tc.cc)\n",
    "where tc.cc is not null and len(replace(final_dpv, ' ', '')) > 1\n",
    "\n",
    "\n",
    "\n"
   ]
  }
 ],
 "metadata": {
  "application/vnd.databricks.v1+notebook": {
   "computePreferences": null,
   "dashboards": [],
   "environmentMetadata": null,
   "inputWidgetPreferences": null,
   "language": "sql",
   "notebookMetadata": {
    "pythonIndentUnit": 4,
    "sqlQueryOptions": {
     "applyAutoLimit": false,
     "catalog": "eic_data_mart",
     "schema": "default"
    }
   },
   "notebookName": "940_결과.dbquery.ipynb",
   "widgets": {}
  },
  "language_info": {
   "name": "sql"
  }
 },
 "nbformat": 4,
 "nbformat_minor": 0
}
