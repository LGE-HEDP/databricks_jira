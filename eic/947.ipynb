{
 "cells": [
  {
   "cell_type": "markdown",
   "metadata": {
    "application/vnd.databricks.v1+cell": {
     "cellMetadata": {},
     "inputWidgets": {},
     "nuid": "5c64f7fd-cb96-4c0a-b1da-3882a0cc3260",
     "showTitle": false,
     "tableResultSettingsMap": {},
     "title": ""
    }
   },
   "source": [
    "\n",
    "- 국가는 **유럽 전체 국가**\n",
    "- context_name = chromium.media\n",
    "- message_id = NL_HBBTV_TA_INFO\n",
    "- key값 중 ta_duration 이 2 이상인 로그만 카운트\n"
   ]
  },
  {
   "cell_type": "markdown",
   "metadata": {
    "application/vnd.databricks.v1+cell": {
     "cellMetadata": {},
     "inputWidgets": {},
     "nuid": "1f00723c-96e3-4e24-aa9e-c95be1cc95e3",
     "showTitle": false,
     "tableResultSettingsMap": {},
     "title": ""
    }
   },
   "source": [
    "### 월별 로그 카운트"
   ]
  },
  {
   "cell_type": "code",
   "execution_count": 0,
   "metadata": {
    "application/vnd.databricks.v1+cell": {
     "cellMetadata": {
      "byteLimit": 2048000,
      "rowLimit": 10000
     },
     "inputWidgets": {},
     "nuid": "df937dbc-5f55-46d4-8235-5216ae000d60",
     "showTitle": false,
     "tableResultSettingsMap": {},
     "title": ""
    }
   },
   "outputs": [],
   "source": [
    "qr = \"\"\"\n",
    "select \n",
    "    date_format(log_create_time,'yyyy-MM') as log_date_ym,\n",
    "    mac_addr,\n",
    "    count(1) as call_count\n",
    "from eic_data_ods.tlamp.normal_log_webos24\n",
    "where 1=1\n",
    "and date_ym between '2024-10' and '2025-07'\n",
    "and context_name = 'chromium.media'\n",
    "and message_id = 'NL_HBBTV_TA_INFO'\n",
    "and cast(normal_log:ta_duration as int)>=2\n",
    "and X_Device_Country in (select country_code from eic_data_dimension.common.country_code where region_name = 'Europe')\n",
    "group by date_format(log_create_time,'yyyy-MM'), mac_addr\n",
    "order by 1\n",
    "\"\"\"\n",
    "\n",
    "df = spark.sql(qr)"
   ]
  },
  {
   "cell_type": "code",
   "execution_count": 0,
   "metadata": {
    "application/vnd.databricks.v1+cell": {
     "cellMetadata": {
      "byteLimit": 2048000,
      "rowLimit": 10000
     },
     "inputWidgets": {},
     "nuid": "7ee61d09-1ad2-4c7a-ab72-c119763bdb83",
     "showTitle": false,
     "tableResultSettingsMap": {},
     "title": ""
    }
   },
   "outputs": [],
   "source": [
    "df.coalesce(1).write.format(\"com.databricks.spark.csv\").mode(\"overwrite\").option(\"header\", \"true\").save('s3://s3-lge-he-inbound-eic-dev/HEDS/HEDS-947')"
   ]
  },
  {
   "cell_type": "markdown",
   "metadata": {
    "application/vnd.databricks.v1+cell": {
     "cellMetadata": {},
     "inputWidgets": {},
     "nuid": "fd04dced-6786-4b7e-9dd5-0a20e75553f5",
     "showTitle": false,
     "tableResultSettingsMap": {},
     "title": ""
    }
   },
   "source": [
    "### 시간대별 UD, 로그 카운트"
   ]
  },
  {
   "cell_type": "code",
   "execution_count": 0,
   "metadata": {
    "application/vnd.databricks.v1+cell": {
     "cellMetadata": {},
     "inputWidgets": {},
     "nuid": "6bc663da-f89d-4500-8966-a2d81e4cf63e",
     "showTitle": false,
     "tableResultSettingsMap": {},
     "title": ""
    }
   },
   "outputs": [],
   "source": [
    "%sql\n",
    "select \n",
    "    date_format(log_create_time,'yyyy-MM') as log_date_ym,\n",
    "    mac_addr,\n",
    "    count(1) as call_count\n",
    "from eic_data_ods.tlamp.normal_log_webos24\n",
    "where 1=1\n",
    "and date_ym between '2024-10' and '2025-07'\n",
    "and context_name = 'chromium.media'\n",
    "and message_id = 'NL_HBBTV_TA_INFO'\n",
    "and cast(normal_log:ta_duration as int)>=2\n",
    "and X_Device_Country in (select country_code from eic_data_dimension.common.country_code where region_name = 'Europe')\n",
    "group by date_format(log_create_time,'yyyy-MM'), mac_addr\n",
    "order by 1"
   ]
  }
 ],
 "metadata": {
  "application/vnd.databricks.v1+notebook": {
   "computePreferences": null,
   "dashboards": [],
   "environmentMetadata": {
    "base_environment": "",
    "environment_version": "2"
   },
   "inputWidgetPreferences": null,
   "language": "python",
   "notebookMetadata": {
    "pythonIndentUnit": 4
   },
   "notebookName": "947",
   "widgets": {}
  },
  "language_info": {
   "name": "python"
  }
 },
 "nbformat": 4,
 "nbformat_minor": 0
}
