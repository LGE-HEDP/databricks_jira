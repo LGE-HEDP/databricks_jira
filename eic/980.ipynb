{
 "cells": [
  {
   "cell_type": "code",
   "execution_count": 0,
   "metadata": {
    "application/vnd.databricks.v1+cell": {
     "cellMetadata": {
      "byteLimit": 2048000,
      "rowLimit": 10000
     },
     "inputWidgets": {},
     "nuid": "56328545-105b-4ea7-92c4-9cbc5fc8b718",
     "showTitle": true,
     "tableResultSettingsMap": {},
     "title": "webos23"
    }
   },
   "outputs": [],
   "source": [
    "%python \n",
    "df_mac_23 = spark.sql(f''' \n",
    "    select mac_addr, mac_addr_hashed, \n",
    "           case when mac_addr = 'F8:01:B4:34:76:07' then '1'\n",
    "                when mac_addr = '64:E4:A5:18:40:30' then '2'\n",
    "                when mac_addr = '7C:64:6C:F3:CA:E0' then '4'\n",
    "                when mac_addr = 'F8:01:B4:09:47:C1' then '5' else '89' end as mac_seq\n",
    "    from   eic_data_private.tlamp.rbt_mac_addr_webos23\n",
    "    where  mac_addr in ('F8:01:B4:34:76:07', \n",
    "                        '64:E4:A5:18:40:30', \n",
    "                        '7C:64:6C:F3:CA:E0', \n",
    "                        'F8:01:B4:09:47:C1')\n",
    "''')\n",
    "\n",
    "str_mac_list_23 = ''\n",
    "for row in df_mac_23.collect() :\n",
    "    if str_mac_list_23 == '':\n",
    "        str_mac_list_23 = f\"'{row.mac_addr_hashed}'\"\n",
    "    else:\n",
    "        str_mac_list_23 = str_mac_list_23 + f\",'{row.mac_addr_hashed}'\"\n",
    "print(str_mac_list_23)"
   ]
  },
  {
   "cell_type": "code",
   "execution_count": 0,
   "metadata": {
    "application/vnd.databricks.v1+cell": {
     "cellMetadata": {
      "byteLimit": 2048000,
      "rowLimit": 10000
     },
     "inputWidgets": {},
     "nuid": "6c552a75-19f1-4390-8e39-a9402fb8b80a",
     "showTitle": true,
     "tableResultSettingsMap": {},
     "title": "webos24"
    }
   },
   "outputs": [],
   "source": [
    "%python \n",
    "df_mac_24 = spark.sql(f''' \n",
    "    select mac_addr,\n",
    "           mac_addr_hashed, \n",
    "           case when mac_addr = '00:A1:59:D9:5D:E0' then '3'\n",
    "                when mac_addr = '00:A1:59:56:14:EF' then '6'\n",
    "                when mac_addr = '00:A1:59:B6:52:D6' then '7' else '99' end as mac_seq\n",
    "    from   eic_data_private.tlamp.rbt_mac_addr_webos24\n",
    "    where  mac_addr in ('00:A1:59:D9:5D:E0', \n",
    "                        '00:A1:59:56:14:EF', \n",
    "                        '00:A1:59:B6:52:D6')\n",
    "''')\n",
    "\n",
    "str_mac_list_24 = ''\n",
    "for row in df_mac_24.collect() :\n",
    "    if str_mac_list_24 == '':\n",
    "        str_mac_list_24 = f\"'{row.mac_addr_hashed}'\"\n",
    "    else:\n",
    "        str_mac_list_24 = str_mac_list_24 + f\",'{row.mac_addr_hashed}'\"\n",
    "print(str_mac_list_24)"
   ]
  },
  {
   "cell_type": "code",
   "execution_count": 0,
   "metadata": {
    "application/vnd.databricks.v1+cell": {
     "cellMetadata": {
      "byteLimit": 2048000,
      "implicitDf": true,
      "rowLimit": 10000
     },
     "inputWidgets": {},
     "nuid": "f4f39126-edf8-4124-82b6-8c5adb53585b",
     "showTitle": true,
     "tableResultSettingsMap": {},
     "title": "AT / webos23"
    }
   },
   "outputs": [],
   "source": [
    "%python\n",
    "list_cc = ['AT', 'FR']\n",
    "\n",
    "df = None\n",
    "for cc in list_cc:\n",
    "    df_t_23 = spark.sql(f''' \n",
    "            SELECT\n",
    "                X_device_platform as `platform_code`,  -- 필수 열\n",
    "                X_device_product as `platform_version`,-- 필수 열\n",
    "                X_Device_Country as `country_code`,    -- 필수/조건 열\n",
    "                log_create_time,                       -- 필수/조건 열\n",
    "                DEVICE_NAME as soc,\n",
    "                mac_addr, \n",
    "                x_device_sales_model as `sales_model_code`, -- 필수 열\n",
    "                context_name,                          -- 필수/조건 열  \n",
    "                message_id,                            -- 필수/조건 열\n",
    "                normal_log:top_10\n",
    "            FROM eic_data_ods.tlamp_private.normal_log_webos23\n",
    "            WHERE 1=1\n",
    "                AND X_device_country = '{cc}' \n",
    "                AND context_name = 'MM'\n",
    "                AND message_id = 'NL_MM_PROCLIST'\n",
    "                AND date_ym >= '2025-04'\n",
    "                AND date_ym <= '2025-08'\n",
    "                AND mac_addr in ({str_mac_list_23})\n",
    "        ''')\n",
    "    \n",
    "    df_t_24 = spark.sql(f''' \n",
    "            SELECT\n",
    "                X_device_platform as `platform_code`,  -- 필수 열\n",
    "                X_device_product as `platform_version`,-- 필수 열\n",
    "                X_Device_Country as `country_code`,    -- 필수/조건 열\n",
    "                log_create_time,                       -- 필수/조건 열\n",
    "                DEVICE_NAME as soc,\n",
    "                mac_addr, \n",
    "                x_device_sales_model as `sales_model_code`, -- 필수 열\n",
    "                context_name,                          -- 필수/조건 열  \n",
    "                message_id,                            -- 필수/조건 열\n",
    "                normal_log:top_10\n",
    "            FROM eic_data_ods.tlamp_private.normal_log_webos24\n",
    "            WHERE 1=1\n",
    "                AND X_device_country = '{cc}' \n",
    "                AND context_name = 'MM'\n",
    "                AND message_id = 'NL_MM_PROCLIST'\n",
    "                AND date_ym >= '2025-04'\n",
    "                AND date_ym <= '2025-08'\n",
    "                AND mac_addr in ({str_mac_list_24})\n",
    "        ''')\n",
    "    \n",
    "    print(cc, df_t_23.count(), df_t_24.count())\n",
    "    \n",
    "    df_t = df_t_23.union(df_t_24)\n",
    "    \n",
    "    if df == None :\n",
    "        df = df_t\n",
    "    else:\n",
    "        df = df.union(df_t)\n",
    "\n",
    "    df_t = None\n",
    "    df_t_23 = None \n",
    "    df_t_24 = None"
   ]
  },
  {
   "cell_type": "code",
   "execution_count": 0,
   "metadata": {
    "application/vnd.databricks.v1+cell": {
     "cellMetadata": {
      "byteLimit": 2048000,
      "rowLimit": 10000
     },
     "inputWidgets": {},
     "nuid": "2269a399-94a5-4320-a13d-047098b10acd",
     "showTitle": false,
     "tableResultSettingsMap": {
      "0": {
       "dataGridStateBlob": "{\"version\":1,\"tableState\":{\"columnPinning\":{\"left\":[\"#row_number#\"],\"right\":[]},\"columnSizing\":{},\"columnVisibility\":{}},\"settings\":{\"columns\":{}},\"syncTimestamp\":1754963040976}",
       "filterBlob": null,
       "queryPlanFiltersBlob": null,
       "tableResultIndex": 0
      }
     },
     "title": ""
    }
   },
   "outputs": [],
   "source": [
    "df_mac = df_mac_23.union(df_mac_24)\n",
    "\n",
    "df_result = df.join(\n",
    "                df_mac,         \n",
    "                df[\"mac_addr\"] == df_mac[\"mac_addr_hashed\"],\n",
    "                how=\"left\")\\\n",
    "              .select(\n",
    "                  # df_mac[\"mac_addr\"],\n",
    "                  df_mac[\"mac_seq\"],\n",
    "                  df[\"platform_code\"],\n",
    "                  df[\"platform_version\"],\n",
    "                  df[\"soc\"],\n",
    "                  df[\"country_code\"],\n",
    "                  df[\"log_create_time\"],\n",
    "                  df[\"sales_model_code\"],\n",
    "                  df[\"context_name\"],\n",
    "                  df[\"message_id\"],\n",
    "                  df[\"top_10\"],\n",
    "              )\n",
    "\n",
    "display(df_result)"
   ]
  },
  {
   "cell_type": "code",
   "execution_count": 0,
   "metadata": {
    "application/vnd.databricks.v1+cell": {
     "cellMetadata": {
      "byteLimit": 2048000,
      "rowLimit": 10000
     },
     "inputWidgets": {},
     "nuid": "cf76c672-a609-4587-b988-8ad2c296327f",
     "showTitle": false,
     "tableResultSettingsMap": {},
     "title": ""
    }
   },
   "outputs": [],
   "source": []
  }
 ],
 "metadata": {
  "application/vnd.databricks.v1+notebook": {
   "computePreferences": null,
   "dashboards": [],
   "environmentMetadata": {
    "base_environment": "",
    "environment_version": "2"
   },
   "inputWidgetPreferences": null,
   "language": "python",
   "notebookMetadata": {
    "mostRecentlyExecutedCommandWithImplicitDF": {
     "commandId": -1,
     "dataframes": [
      "_sqldf"
     ]
    },
    "pythonIndentUnit": 4
   },
   "notebookName": "980",
   "widgets": {}
  },
  "language_info": {
   "name": "python"
  }
 },
 "nbformat": 4,
 "nbformat_minor": 0
}
