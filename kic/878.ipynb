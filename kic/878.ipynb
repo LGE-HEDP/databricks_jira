{
 "cells": [
  {
   "cell_type": "markdown",
   "metadata": {
    "application/vnd.databricks.v1+cell": {
     "cellMetadata": {},
     "inputWidgets": {},
     "nuid": "5afaddc9-56e2-49dc-8b7c-2a71c2061acd",
     "showTitle": false,
     "tableResultSettingsMap": {},
     "title": ""
    }
   },
   "source": [
    "# 데이터 가져오기"
   ]
  },
  {
   "cell_type": "markdown",
   "metadata": {
    "application/vnd.databricks.v1+cell": {
     "cellMetadata": {},
     "inputWidgets": {},
     "nuid": "285bf1a8-a51b-4f93-953a-1360c77500f6",
     "showTitle": false,
     "tableResultSettingsMap": {},
     "title": ""
    }
   },
   "source": [
    "## 스키마 확인"
   ]
  },
  {
   "cell_type": "code",
   "execution_count": 0,
   "metadata": {
    "application/vnd.databricks.v1+cell": {
     "cellMetadata": {
      "byteLimit": 2048000,
      "rowLimit": 10000
     },
     "inputWidgets": {},
     "nuid": "e0eb371b-3315-49b3-8656-0bd2695f5610",
     "showTitle": false,
     "tableResultSettingsMap": {},
     "title": ""
    }
   },
   "outputs": [],
   "source": [
    "bucket_name = 's3-lge-he-inbound-kic-prd'\n",
    "prefix_name = 'adhoc/hedataplfm-878/' # 작업 완료 후, 삭제\n",
    "parquet_files = [\n",
    "    '0000_part_00.parquet', \n",
    "    '0001_part_00.parquet', \n",
    "    '0002_part_00.parquet', \n",
    "    '0003_part_00.parquet', \n",
    "    '0004_part_00.parquet', \n",
    "    '0005_part_00.parquet', \n",
    "    '0006_part_00.parquet', \n",
    "    '0007_part_00.parquet', \n",
    "    '0008_part_00.parquet', \n",
    "    '0009_part_00.parquet'\n",
    "]\n",
    "\n",
    "for parquet_file in parquet_files:\n",
    "    df = spark.read.parquet(f\"s3a://{bucket_name}/{prefix_name}/{parquet_file}\")\n",
    "    print(parquet_file, len(df.columns))"
   ]
  },
  {
   "cell_type": "markdown",
   "metadata": {
    "application/vnd.databricks.v1+cell": {
     "cellMetadata": {},
     "inputWidgets": {},
     "nuid": "d26e8234-c01c-4066-865e-277a607a46e9",
     "showTitle": false,
     "tableResultSettingsMap": {},
     "title": ""
    }
   },
   "source": [
    "## 데이터 읽기"
   ]
  },
  {
   "cell_type": "code",
   "execution_count": 0,
   "metadata": {
    "application/vnd.databricks.v1+cell": {
     "cellMetadata": {
      "byteLimit": 2048000,
      "rowLimit": 10000
     },
     "inputWidgets": {},
     "nuid": "1255aee6-f2e0-47ac-a2f0-3227e86a0b02",
     "showTitle": false,
     "tableResultSettingsMap": {},
     "title": ""
    }
   },
   "outputs": [],
   "source": [
    "df = spark.read.parquet(f\"s3a://{bucket_name}/{prefix_name}/\")"
   ]
  },
  {
   "cell_type": "markdown",
   "metadata": {
    "application/vnd.databricks.v1+cell": {
     "cellMetadata": {},
     "inputWidgets": {},
     "nuid": "f95b5a56-a859-43eb-b96b-c87d77b9a1b0",
     "showTitle": false,
     "tableResultSettingsMap": {},
     "title": ""
    }
   },
   "source": [
    "## 샘플 데이터 확인"
   ]
  },
  {
   "cell_type": "code",
   "execution_count": 0,
   "metadata": {
    "application/vnd.databricks.v1+cell": {
     "cellMetadata": {
      "byteLimit": 2048000,
      "rowLimit": 10000
     },
     "inputWidgets": {},
     "nuid": "0a731fbc-2a65-4708-bb47-0e83914fbc82",
     "showTitle": false,
     "tableResultSettingsMap": {},
     "title": ""
    }
   },
   "outputs": [],
   "source": [
    "display(df.limit(10))"
   ]
  },
  {
   "cell_type": "markdown",
   "metadata": {
    "application/vnd.databricks.v1+cell": {
     "cellMetadata": {},
     "inputWidgets": {},
     "nuid": "f84b2ba6-ea7e-4cf7-ac3c-47208337e740",
     "showTitle": false,
     "tableResultSettingsMap": {},
     "title": ""
    }
   },
   "source": [
    "# 암호화"
   ]
  },
  {
   "cell_type": "code",
   "execution_count": 0,
   "metadata": {
    "application/vnd.databricks.v1+cell": {
     "cellMetadata": {
      "byteLimit": 2048000,
      "rowLimit": 10000
     },
     "inputWidgets": {},
     "nuid": "3b78bb72-8614-40ca-a0eb-914dd370f974",
     "showTitle": false,
     "tableResultSettingsMap": {},
     "title": ""
    }
   },
   "outputs": [],
   "source": [
    "from pyspark.sql.functions import sha2, expr, current_timestamp, col, when, concat, lit, date_format, split, size, substring, to_timestamp\n",
    "\n",
    "# key\n",
    "tv_salt = dbutils.secrets.get(\"admin\", \"salt\")\n",
    "\n",
    "# hash columns\n",
    "df = df.withColumn(\"mac\", \n",
    "            when(col(\"mac\").isNull() | (col(\"mac\") == ''), col(\"mac\"))\\\n",
    "            .otherwise(sha2(concat(col(\"mac\"), lit(tv_salt)), 256)))\n",
    "df = df.withColumn(\"user_number\", \n",
    "            when(col(\"user_number\").isNull() | (col(\"user_number\") == ''), col(\"user_number\"))\\\n",
    "            .otherwise(sha2(concat(col(\"user_number\"), lit(tv_salt)), 256)))"
   ]
  },
  {
   "cell_type": "markdown",
   "metadata": {
    "application/vnd.databricks.v1+cell": {
     "cellMetadata": {},
     "inputWidgets": {},
     "nuid": "0d1fa60d-12ce-4d46-8dbf-8338125577c4",
     "showTitle": false,
     "tableResultSettingsMap": {},
     "title": ""
    }
   },
   "source": [
    "# 테이블 저장"
   ]
  },
  {
   "cell_type": "code",
   "execution_count": 0,
   "metadata": {
    "application/vnd.databricks.v1+cell": {
     "cellMetadata": {
      "byteLimit": 2048000,
      "rowLimit": 10000
     },
     "inputWidgets": {},
     "nuid": "0537d52e-1b82-4a99-adb8-227f4a3a646a",
     "showTitle": false,
     "tableResultSettingsMap": {},
     "title": ""
    }
   },
   "outputs": [],
   "source": [
    "catalog_name = 'sandbox'\n",
    "schema_name = 'z_yookyoung_choi'\n",
    "table_name = 'ucm_log_webos23_kr'\n",
    "\n",
    "df.write.mode(\"overwrite\").saveAsTable(f\"{catalog_name}.{schema_name}.{table_name}\")"
   ]
  },
  {
   "cell_type": "markdown",
   "metadata": {
    "application/vnd.databricks.v1+cell": {
     "cellMetadata": {},
     "inputWidgets": {},
     "nuid": "fdada610-2f73-432c-9a1b-1b13481ad36d",
     "showTitle": false,
     "tableResultSettingsMap": {},
     "title": ""
    }
   },
   "source": [
    "## 테이블 확인"
   ]
  },
  {
   "cell_type": "code",
   "execution_count": 0,
   "metadata": {
    "application/vnd.databricks.v1+cell": {
     "cellMetadata": {
      "byteLimit": 2048000,
      "implicitDf": true,
      "rowLimit": 10000
     },
     "inputWidgets": {},
     "nuid": "5cfb107d-89ef-45db-9817-487250715a78",
     "showTitle": false,
     "tableResultSettingsMap": {},
     "title": ""
    }
   },
   "outputs": [],
   "source": [
    "%python \n",
    "spark.sql(f\"\"\"\n",
    "    select *\n",
    "    from   {catalog_name}.{schema_name}.{table_name}\n",
    "    limit  100\n",
    "\"\"\").display()"
   ]
  },
  {
   "cell_type": "code",
   "execution_count": 0,
   "metadata": {
    "application/vnd.databricks.v1+cell": {
     "cellMetadata": {},
     "inputWidgets": {},
     "nuid": "87d08528-4311-46bb-a6e1-c88bd87796b8",
     "showTitle": false,
     "tableResultSettingsMap": {},
     "title": ""
    }
   },
   "outputs": [],
   "source": []
  }
 ],
 "metadata": {
  "application/vnd.databricks.v1+notebook": {
   "computePreferences": null,
   "dashboards": [],
   "environmentMetadata": {
    "base_environment": "",
    "environment_version": "2"
   },
   "inputWidgetPreferences": null,
   "language": "python",
   "notebookMetadata": {
    "mostRecentlyExecutedCommandWithImplicitDF": {
     "commandId": -1,
     "dataframes": [
      "_sqldf"
     ]
    },
    "pythonIndentUnit": 4
   },
   "notebookName": "878",
   "widgets": {}
  },
  "language_info": {
   "name": "python"
  }
 },
 "nbformat": 4,
 "nbformat_minor": 0
}
