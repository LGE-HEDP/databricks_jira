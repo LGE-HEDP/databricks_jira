{
 "cells": [
  {
   "cell_type": "markdown",
   "metadata": {
    "application/vnd.databricks.v1+cell": {
     "cellMetadata": {},
     "inputWidgets": {},
     "nuid": "1244340b-e070-4e7f-937b-a390c44387a2",
     "showTitle": false,
     "tableResultSettingsMap": {},
     "title": ""
    }
   },
   "source": [
    "# 첨부 가져오기"
   ]
  },
  {
   "cell_type": "code",
   "execution_count": 0,
   "metadata": {
    "application/vnd.databricks.v1+cell": {
     "cellMetadata": {
      "byteLimit": 2048000,
      "rowLimit": 10000
     },
     "inputWidgets": {},
     "nuid": "26dcc8be-e8bf-4cd3-9c43-f794c5aaa35e",
     "showTitle": false,
     "tableResultSettingsMap": {},
     "title": ""
    }
   },
   "outputs": [],
   "source": [
    "import pandas as pd\n",
    "pdf_file = pd.read_csv('./※ 인도 시장_75QNED8_영상깜빡임_250708.csv')[['Set', 'MAC_ADDRESS']]\n",
    "pdf_file['mac_addr_2'] = pdf_file['MAC_ADDRESS'].str[:2]+':'+\\\n",
    "                         pdf_file['MAC_ADDRESS'].str[2:4]+':'+\\\n",
    "                         pdf_file['MAC_ADDRESS'].str[4:6]+':'+\\\n",
    "                         pdf_file['MAC_ADDRESS'].str[6:8]+':'+\\\n",
    "                         pdf_file['MAC_ADDRESS'].str[8:10]+':'+\\\n",
    "                         pdf_file['MAC_ADDRESS'].str[10:12]\n",
    "pdf_file = pdf_file.reset_index(drop=False)\n",
    "pdf_file"
   ]
  },
  {
   "cell_type": "code",
   "execution_count": 0,
   "metadata": {
    "application/vnd.databricks.v1+cell": {
     "cellMetadata": {
      "byteLimit": 2048000,
      "rowLimit": 10000
     },
     "inputWidgets": {},
     "nuid": "afe76d0b-0a3f-4058-9196-aa5193f4553e",
     "showTitle": false,
     "tableResultSettingsMap": {},
     "title": ""
    }
   },
   "outputs": [],
   "source": [
    "# spark dataframe 변환\n",
    "df_file= spark.createDataFrame(pdf_file)\n",
    "df_file.display()"
   ]
  },
  {
   "cell_type": "code",
   "execution_count": 0,
   "metadata": {
    "application/vnd.databricks.v1+cell": {
     "cellMetadata": {
      "byteLimit": 2048000,
      "rowLimit": 10000
     },
     "inputWidgets": {},
     "nuid": "8dc44897-6fb7-45ad-82c6-f4cdd7288e45",
     "showTitle": false,
     "tableResultSettingsMap": {},
     "title": ""
    }
   },
   "outputs": [],
   "source": [
    "# 컬럼 추가\n",
    "from pyspark.sql.functions import sha2, col, when, lit, concat\n",
    "\n",
    "tv_salt = dbutils.secrets.get(\"admin\", \"salt\")\n",
    "\n",
    "df_file = df_file.withColumn(\"Set_hashed\", \n",
    "                               when(col(\"Set\").isNull() | (col(\"Set\") == ''), \n",
    "                                    col(\"Set\"))\\\n",
    "                                .otherwise(sha2(concat(col(\"Set\"), lit(tv_salt)), 256)))\n",
    "df_file = df_file.withColumn(\"MAC_ADDRESS_hashed\", \n",
    "                               when(col(\"mac_addr_2\").isNull() | (col(\"MAC_ADDRESS\") == ''), \n",
    "                                    col(\"mac_addr_2\"))\\\n",
    "                                .otherwise(sha2(concat(col(\"mac_addr_2\"), lit(tv_salt)), 256)))\n",
    "df_file.display() "
   ]
  },
  {
   "cell_type": "markdown",
   "metadata": {
    "application/vnd.databricks.v1+cell": {
     "cellMetadata": {},
     "inputWidgets": {},
     "nuid": "77ef17ae-141d-40ab-b8fe-cf99d10a6370",
     "showTitle": false,
     "tableResultSettingsMap": {},
     "title": ""
    }
   },
   "source": [
    "# 데이터 가져오기"
   ]
  },
  {
   "cell_type": "code",
   "execution_count": 0,
   "metadata": {
    "application/vnd.databricks.v1+cell": {
     "cellMetadata": {
      "byteLimit": 2048000,
      "implicitDf": true,
      "rowLimit": 10000
     },
     "inputWidgets": {},
     "nuid": "ecf17461-5c09-4e44-a268-96636ad4713d",
     "showTitle": false,
     "tableResultSettingsMap": {},
     "title": ""
    }
   },
   "outputs": [],
   "source": [
    "%python \n",
    "df_min = spark.sql(''' \n",
    "    select mac_addr, min(crt_date) as min_crt_date\n",
    "    from   kic_data_ods.tlamp.activation_date\n",
    "    group by mac_addr\n",
    "''')\n",
    "df_min.display()"
   ]
  },
  {
   "cell_type": "markdown",
   "metadata": {
    "application/vnd.databricks.v1+cell": {
     "cellMetadata": {},
     "inputWidgets": {},
     "nuid": "2c98bee7-4147-45bf-9787-8b1f5e247153",
     "showTitle": false,
     "tableResultSettingsMap": {},
     "title": ""
    }
   },
   "source": [
    "# 결합"
   ]
  },
  {
   "cell_type": "code",
   "execution_count": 0,
   "metadata": {
    "application/vnd.databricks.v1+cell": {
     "cellMetadata": {
      "byteLimit": 2048000,
      "rowLimit": 10000
     },
     "inputWidgets": {},
     "nuid": "8caefb31-53ce-4ba6-8085-f0167525933d",
     "showTitle": false,
     "tableResultSettingsMap": {},
     "title": ""
    }
   },
   "outputs": [],
   "source": [
    "df_join = df_file.join(df_min, \n",
    "                       on=[df_min['mac_addr'] == df_file['MAC_ADDRESS_hashed']],\n",
    "                       how='left')"
   ]
  },
  {
   "cell_type": "code",
   "execution_count": 0,
   "metadata": {
    "application/vnd.databricks.v1+cell": {
     "cellMetadata": {
      "byteLimit": 2048000,
      "rowLimit": 10000
     },
     "inputWidgets": {},
     "nuid": "604e8c64-ebcb-4003-9019-48e74a2a3cf3",
     "showTitle": false,
     "tableResultSettingsMap": {},
     "title": ""
    }
   },
   "outputs": [],
   "source": [
    "df_join.columns"
   ]
  },
  {
   "cell_type": "code",
   "execution_count": 0,
   "metadata": {
    "application/vnd.databricks.v1+cell": {
     "cellMetadata": {
      "byteLimit": 2048000,
      "rowLimit": 10000
     },
     "inputWidgets": {},
     "nuid": "8dab73dc-c1cd-4291-8cf0-11eb1418095d",
     "showTitle": false,
     "tableResultSettingsMap": {
      "0": {
       "dataGridStateBlob": "{\"version\":1,\"tableState\":{\"columnPinning\":{\"left\":[\"#row_number#\"],\"right\":[]},\"columnSizing\":{},\"columnVisibility\":{}},\"settings\":{\"columns\":{}},\"syncTimestamp\":1752471024840}",
       "filterBlob": null,
       "queryPlanFiltersBlob": null,
       "tableResultIndex": 0
      }
     },
     "title": ""
    }
   },
   "outputs": [],
   "source": [
    "df_join.select(\"index\", \"Set_hashed\", \"MAC_ADDRESS_hashed\", 'min_crt_date').display()"
   ]
  }
 ],
 "metadata": {
  "application/vnd.databricks.v1+notebook": {
   "computePreferences": null,
   "dashboards": [],
   "environmentMetadata": {
    "base_environment": "",
    "environment_version": "2"
   },
   "inputWidgetPreferences": null,
   "language": "python",
   "notebookMetadata": {
    "mostRecentlyExecutedCommandWithImplicitDF": {
     "commandId": 8817399022393759,
     "dataframes": [
      "_sqldf"
     ]
    },
    "pythonIndentUnit": 4
   },
   "notebookName": "910",
   "widgets": {}
  },
  "language_info": {
   "name": "python"
  }
 },
 "nbformat": 4,
 "nbformat_minor": 0
}
