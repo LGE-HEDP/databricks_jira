{
 "cells": [
  {
   "cell_type": "markdown",
   "metadata": {
    "application/vnd.databricks.v1+cell": {
     "cellMetadata": {},
     "inputWidgets": {},
     "nuid": "9078a73b-d5a4-4acd-a8bc-00af3845dd4e",
     "showTitle": false,
     "tableResultSettingsMap": {},
     "title": ""
    }
   },
   "source": [
    "[link](http://hlm.lge.com/issue/browse/HEDATAPLFM-896?attachmentSortBy=dateTime&attachmentOrder=asc)\n",
    "\n",
    "글로벌 데이터 추출\n"
   ]
  },
  {
   "cell_type": "markdown",
   "metadata": {
    "application/vnd.databricks.v1+cell": {
     "cellMetadata": {},
     "inputWidgets": {},
     "nuid": "ecbdeecb-e3e6-47f9-b786-d1e376328683",
     "showTitle": false,
     "tableResultSettingsMap": {},
     "title": ""
    }
   },
   "source": [
    "- 2개 조건의 로그를 각각 추출하고 (CL0)\n",
    "- mac기준으로 결합하여 제공 (CL1)"
   ]
  },
  {
   "cell_type": "code",
   "execution_count": 0,
   "metadata": {
    "application/vnd.databricks.v1+cell": {
     "cellMetadata": {
      "byteLimit": 2048000,
      "rowLimit": 10000
     },
     "inputWidgets": {},
     "nuid": "6847b3ba-0293-485f-a0d9-f8349d3a10da",
     "showTitle": true,
     "tableResultSettingsMap": {},
     "title": "CL0"
    }
   },
   "outputs": [],
   "source": [
    "\n",
    "CREATE TABLE IF NOT EXISTS adhoc.heds.896_cl0 AS\n",
    "WITH TB0 AS (\n",
    "  SELECT\n",
    "    explode(from_json(normal_log:dvc_list, 'array<struct<name:string, type:string, spec:string, label:string, id:string>>')) AS dvc,\n",
    "    *\n",
    "  FROM kic_data_ods.tlamp.normal_log_webos24\n",
    "  WHERE \n",
    "    date_ym BETWEEN '2024-03' AND '2025-06'\n",
    "    AND context_name = 'com.webos.app.homeconnect'\n",
    "    AND message_id = 'NL_HC_INPUTLIST'\n",
    "    AND normal_log:dvc_list != '[]'\n",
    "),\n",
    "TB1 AS (\n",
    "  SELECT\n",
    "    date_ym,\n",
    "    log_create_time,\n",
    "    X_Device_Sales_Model AS tv_model,\n",
    "    DEVICE_NAME AS soc,\n",
    "    mac_addr,\n",
    "    dvc.type,\n",
    "    dvc.label,\n",
    "    dvc.name,\n",
    "    ROW_NUMBER() OVER (PARTITION BY mac_addr ORDER BY log_create_time DESC) AS rn\n",
    "  FROM TB0\n",
    "  WHERE dvc.type = 'audio'\n",
    ")\n",
    "SELECT\n",
    "  date_ym,\n",
    "  mac_addr,\n",
    "  tv_model,\n",
    "  soc,\n",
    "  TB1.type as sb_type,\n",
    "  TB1.label as sb_label,\n",
    "  TB1.name as sb_name,\n",
    "  log_create_time as NH_HC_INPUTLIST_last_log_dt\n",
    "FROM TB1\n",
    "WHERE rn = 1\n",
    ";\n",
    "-- LIMIT 500\n",
    ";\n",
    "\n",
    "create table if not exists adhoc.heds.896_cl0_2 as\n",
    "with tb0 as (\n",
    "  select \n",
    "    normal_log:changed_value as soundAlive_status,\n",
    "    mac_addr,\n",
    "    log_create_time,\n",
    "    row_number() over (partition by mac_addr order by log_create_time desc) as rn\n",
    "  from kic_data_ods.tlamp.normal_log_webos24\n",
    "  where 1=1\n",
    "    and date_ym BETWEEN '2024-03' AND '2025-06'\n",
    "    and context_name = 'com.palm.app.settings'\n",
    "    and message_id in ('NL_SETTING_CHANGE', 'INPUTLIST')\n",
    "    and normal_log:menu_name ='soundAlive'\n",
    ")\n",
    "select \n",
    "  mac_addr, \n",
    "  log_create_time as soundAlive_last_log_dt,\n",
    "  soundAlive_status as soundAlive_last_status\n",
    "from tb0\n",
    "where rn = 1\n",
    ";"
   ]
  },
  {
   "cell_type": "code",
   "execution_count": 0,
   "metadata": {
    "application/vnd.databricks.v1+cell": {
     "cellMetadata": {
      "byteLimit": 2048000,
      "rowLimit": 10000
     },
     "inputWidgets": {},
     "nuid": "f11d2cb4-413d-4ec9-9519-bc2fe3d8e89a",
     "showTitle": true,
     "tableResultSettingsMap": {},
     "title": "CL1"
    }
   },
   "outputs": [],
   "source": [
    "select \n",
    "  t1.* except (t1.mac_addr), t2.* except (t2.mac_addr)\n",
    "from adhoc.heds.896_cl0 t1\n",
    "left join adhoc.heds.896_cl0_2 t2 using (mac_addr)\n"
   ]
  },
  {
   "cell_type": "code",
   "execution_count": 0,
   "metadata": {
    "application/vnd.databricks.v1+cell": {
     "cellMetadata": {},
     "inputWidgets": {},
     "nuid": "68feb4ea-92b5-4475-824d-a1cd15290495",
     "showTitle": false,
     "tableResultSettingsMap": {},
     "title": ""
    }
   },
   "outputs": [],
   "source": []
  }
 ],
 "metadata": {
  "application/vnd.databricks.v1+notebook": {
   "computePreferences": null,
   "dashboards": [],
   "environmentMetadata": {
    "base_environment": "",
    "environment_version": "2"
   },
   "inputWidgetPreferences": null,
   "language": "sql",
   "notebookMetadata": {
    "pythonIndentUnit": 4
   },
   "notebookName": "896",
   "widgets": {}
  },
  "language_info": {
   "name": "sql"
  }
 },
 "nbformat": 4,
 "nbformat_minor": 0
}
