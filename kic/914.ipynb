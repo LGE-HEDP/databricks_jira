{
 "cells": [
  {
   "cell_type": "markdown",
   "metadata": {
    "application/vnd.databricks.v1+cell": {
     "cellMetadata": {},
     "inputWidgets": {},
     "nuid": "9078a73b-d5a4-4acd-a8bc-00af3845dd4e",
     "showTitle": false,
     "tableResultSettingsMap": {},
     "title": ""
    }
   },
   "source": [
    "[link](http://hlm.lge.com/issue/browse/HEDATAPLFM-914?attachmentSortBy=dateTime&attachmentOrder=asc)\n",
    "\n",
    "- 추출 국가 : 필리핀, 호주, 인도네시아, 말레이시아, 싱가포르, 태국, 베트남, 대만, 홍콩, 일본, 인도\n",
    "- 플랫폼 : webOS22, 23, 24\n",
    "- 추출 기간 : 24.01.01~25.06.30\n",
    "-  추출 조건(CN/MI) : \n",
    "    - EIM(HDMI) / NL_EIM_INPUTLIST(HDMI)\n",
    "    - com.palm.app.settings(BT) /\tNL_SETTING_SPEAKER(BT)\n",
    "\n"
   ]
  },
  {
   "cell_type": "code",
   "execution_count": 0,
   "metadata": {
    "application/vnd.databricks.v1+cell": {
     "cellMetadata": {},
     "inputWidgets": {},
     "nuid": "8b809af4-b02f-402d-8c23-08caf09ed049",
     "showTitle": false,
     "tableResultSettingsMap": {},
     "title": ""
    }
   },
   "outputs": [],
   "source": [
    "%python\n",
    "country_codes = [\n",
    "    \"PH\",  # 필리핀\n",
    "    \"AU\",  # 호주\n",
    "    \"ID\",  # 인도네시아\n",
    "    \"MY\",  # 말레이시아\n",
    "    \"SG\",  # 싱가포르\n",
    "    \"TH\",  # 태국\n",
    "    \"VN\",  # 베트남\n",
    "    \"TW\",  # 대만\n",
    "    \"HK\",  # 홍콩\n",
    "    \"JP\",  # 일본\n",
    "    \"IN\",  # 인도\n",
    "]"
   ]
  },
  {
   "cell_type": "code",
   "execution_count": 0,
   "metadata": {
    "application/vnd.databricks.v1+cell": {
     "cellMetadata": {
      "byteLimit": 2048000,
      "rowLimit": 10000
     },
     "inputWidgets": {},
     "nuid": "5a6da4b4-1949-4d17-a3e3-fe764ba344fa",
     "showTitle": true,
     "tableResultSettingsMap": {
      "0": {
       "dataGridStateBlob": "{\"version\":1,\"tableState\":{\"columnPinning\":{\"left\":[\"#row_number#\"],\"right\":[]},\"columnSizing\":{},\"columnVisibility\":{}},\"settings\":{\"columns\":{}},\"syncTimestamp\":1752718180093}",
       "filterBlob": null,
       "queryPlanFiltersBlob": null,
       "tableResultIndex": 0
      }
     },
     "title": "국가 정보 다있음"
    }
   },
   "outputs": [],
   "source": [
    "%sql\n",
    "select distinct X_Device_Country\n",
    "from kic_data_ods.tlamp.normal_log_webos24\n",
    "where 1=1\n",
    "  and date_ym='2025-06'\n",
    "  and context_name = 'EIM' and message_id = 'NL_EIM_INPUTLIST'\n",
    "  and X_Device_Country IN ('PH', 'AU', 'ID', 'MY', 'SG', 'TH', 'VN', 'TW', 'HK', 'JP', 'IN')"
   ]
  },
  {
   "cell_type": "markdown",
   "metadata": {
    "application/vnd.databricks.v1+cell": {
     "cellMetadata": {},
     "inputWidgets": {},
     "nuid": "d079ac7c-2c2b-457d-aa93-d1aa2b7963d3",
     "showTitle": false,
     "tableResultSettingsMap": {},
     "title": ""
    }
   },
   "source": [
    "## EDA"
   ]
  },
  {
   "cell_type": "code",
   "execution_count": 0,
   "metadata": {
    "application/vnd.databricks.v1+cell": {
     "cellMetadata": {
      "byteLimit": 2048000,
      "rowLimit": 10000
     },
     "inputWidgets": {},
     "nuid": "68feb4ea-92b5-4475-824d-a1cd15290495",
     "showTitle": true,
     "tableResultSettingsMap": {
      "0": {
       "dataGridStateBlob": "{\"version\":1,\"tableState\":{\"columnPinning\":{\"left\":[\"#row_number#\"],\"right\":[]},\"columnSizing\":{\"mac_addr\":175,\"normal_log\":287,\"X_Device_Country\":146},\"columnVisibility\":{}},\"settings\":{\"columns\":{}},\"syncTimestamp\":1752720686668}",
       "filterBlob": null,
       "queryPlanFiltersBlob": null,
       "tableResultIndex": 0
      }
     },
     "title": "1번로그"
    }
   },
   "outputs": [],
   "source": [
    "%sql\n",
    "select \n",
    "  -- date_ym, mac_addr, normal_log, X_Device_Country, X_Device_Sales_Model\n",
    "  date_ym, count(1), count(distinct mac_addr)\n",
    "from kic_data_ods.tlamp.normal_log_webos24\n",
    "where 1=1\n",
    "  and date_ym between '2025-06' and '2025-06'\n",
    "  and context_name = 'EIM' and message_id = 'NL_EIM_INPUTLIST'\n",
    "  and X_Device_Country IN ('PH', 'AU', 'ID', 'MY', 'SG', 'TH', 'VN', 'TW', 'HK', 'JP', 'IN')\n",
    "group by date_ym\n",
    "order by date_ym"
   ]
  },
  {
   "cell_type": "code",
   "execution_count": 0,
   "metadata": {
    "application/vnd.databricks.v1+cell": {
     "cellMetadata": {
      "byteLimit": 2048000,
      "rowLimit": 10000
     },
     "inputWidgets": {},
     "nuid": "a9d300a0-2339-40f5-8c23-555f2dac8ca6",
     "showTitle": true,
     "tableResultSettingsMap": {
      "0": {
       "dataGridStateBlob": "{\"version\":1,\"tableState\":{\"columnPinning\":{\"left\":[\"#row_number#\"],\"right\":[]},\"columnSizing\":{\"mac_addr\":201},\"columnVisibility\":{}},\"settings\":{\"columns\":{}},\"syncTimestamp\":1752720747954}",
       "filterBlob": null,
       "queryPlanFiltersBlob": null,
       "tableResultIndex": 0
      }
     },
     "title": "2번로그"
    }
   },
   "outputs": [],
   "source": [
    "%sql\n",
    "select \n",
    "    -- date_ym, mac_addr, normal_log, X_Device_Country, X_Device_Sales_Model\n",
    "    count(1), count(distinct mac_addr)\n",
    "from kic_data_ods.tlamp.normal_log_webos24\n",
    "where 1=1\n",
    "  and date_ym='2025-06'\n",
    "  and context_name = 'com.palm.app.settings' and message_id = 'NL_SETTING_SPEAKER'\n",
    "  and X_Device_Country IN ('PH', 'AU', 'ID', 'MY', 'SG', 'TH', 'VN', 'TW', 'HK', 'JP', 'IN')"
   ]
  },
  {
   "cell_type": "code",
   "execution_count": 0,
   "metadata": {
    "application/vnd.databricks.v1+cell": {
     "cellMetadata": {
      "byteLimit": 2048000,
      "rowLimit": 10000
     },
     "inputWidgets": {},
     "nuid": "71e44c16-5471-4505-a5f4-a78297db4136",
     "showTitle": true,
     "tableResultSettingsMap": {
      "0": {
       "dataGridStateBlob": "{\"version\":1,\"tableState\":{\"columnPinning\":{\"left\":[\"#row_number#\"],\"right\":[]},\"columnSizing\":{},\"columnVisibility\":{}},\"settings\":{\"columns\":{}},\"syncTimestamp\":1752735349626}",
       "filterBlob": null,
       "queryPlanFiltersBlob": null,
       "tableResultIndex": 0
      }
     },
     "title": "로그결합"
    }
   },
   "outputs": [],
   "source": [
    "%sql\n",
    "create table if not exists sandbox.z_yeswook_kim.heds_914_v1\n",
    "WITH ranked_logs_1 AS (\n",
    "  SELECT \n",
    "    date_ym,\n",
    "    log_create_time AS log_time_inputlist,\n",
    "    mac_addr,\n",
    "    X_Device_Country,\n",
    "    X_Device_Sales_Model,\n",
    "    normal_log AS normal_log_inputlist,\n",
    "    ROW_NUMBER() OVER (PARTITION BY date_ym, mac_addr ORDER BY log_create_time DESC) AS rn\n",
    "  FROM kic_data_ods.tlamp.normal_log_webos25\n",
    "  WHERE 1=1\n",
    "    AND date_ym BETWEEN '2025-06' AND '2025-06'\n",
    "    AND context_name = 'EIM'\n",
    "    AND message_id = 'NL_EIM_INPUTLIST'\n",
    "    AND X_Device_Country IN ('PH', 'AU', 'ID', 'MY', 'SG', 'TH', 'VN', 'TW', 'HK', 'JP', 'IN')\n",
    "),\n",
    "ranked_logs_2 AS (\n",
    "  SELECT \n",
    "    date_ym,\n",
    "    log_create_time AS log_time_speaker,\n",
    "    mac_addr,\n",
    "    X_Device_Country,\n",
    "    X_Device_Sales_Model,\n",
    "    normal_log AS normal_log_speaker,\n",
    "    ROW_NUMBER() OVER (PARTITION BY date_ym, mac_addr ORDER BY log_create_time DESC) AS rn\n",
    "  FROM kic_data_ods.tlamp.normal_log_webos25\n",
    "  WHERE 1=1\n",
    "    AND date_ym BETWEEN '2025-06' AND '2025-06'\n",
    "    AND context_name = 'com.palm.app.settings'\n",
    "    AND message_id = 'NL_SETTING_SPEAKER'\n",
    "    AND X_Device_Country IN ('PH', 'AU', 'ID', 'MY', 'SG', 'TH', 'VN', 'TW', 'HK', 'JP', 'IN')\n",
    ")\n",
    "SELECT \n",
    "  -- count(1),\n",
    "  COALESCE(r1.date_ym, r2.date_ym) AS date_ym,\n",
    "  COALESCE(r1.mac_addr, r2.mac_addr) AS mac_addr,\n",
    "  r1.log_time_inputlist,\n",
    "  r2.log_time_speaker,\n",
    "  COALESCE(r1.X_Device_Country, r2.X_Device_Country) AS X_Device_Country,\n",
    "  COALESCE(r1.X_Device_Sales_Model, r2.X_Device_Sales_Model) AS X_Device_Sales_Model,\n",
    "  r1.normal_log_inputlist,\n",
    "  r2.normal_log_speaker\n",
    "FROM ranked_logs_1 r1\n",
    "FULL OUTER JOIN ranked_logs_2 r2\n",
    "  ON r1.date_ym = r2.date_ym AND r1.mac_addr = r2.mac_addr\n",
    "WHERE r1.rn = 1 OR r2.rn = 1\n"
   ]
  },
  {
   "cell_type": "code",
   "execution_count": 0,
   "metadata": {
    "application/vnd.databricks.v1+cell": {
     "cellMetadata": {},
     "inputWidgets": {},
     "nuid": "ec70062b-c870-46a0-b395-2f16623fee96",
     "showTitle": false,
     "tableResultSettingsMap": {},
     "title": ""
    }
   },
   "outputs": [],
   "source": [
    "%sql\n",
    "create table if not exists sandbox.z_yeswook_kim.heds_914_v2\n",
    "WITH ranked_logs_1 AS (\n",
    "  SELECT \n",
    "    date_ym,\n",
    "    log_create_time AS log_time_inputlist,\n",
    "    mac_addr,\n",
    "    X_Device_Country,\n",
    "    X_Device_Sales_Model,\n",
    "    normal_log AS normal_log_inputlist,\n",
    "    ROW_NUMBER() OVER (PARTITION BY date_ym, mac_addr ORDER BY log_create_time DESC) AS rn1\n",
    "  FROM kic_data_ods.tlamp.normal_log_webos23\n",
    "  WHERE date_ym BETWEEN '2025-06' AND '2025-06'\n",
    "    AND context_name = 'EIM'\n",
    "    AND message_id = 'NL_EIM_INPUTLIST'\n",
    "    AND X_Device_Country IN ('PH', 'AU', 'ID', 'MY', 'SG', 'TH', 'VN', 'TW', 'HK', 'JP', 'IN')\n",
    "),\n",
    "ranked_logs_2 AS (\n",
    "  SELECT \n",
    "    date_ym,\n",
    "    log_create_time AS log_time_speaker,\n",
    "    mac_addr,\n",
    "    X_Device_Country AS X_Device_Country_2,\n",
    "    X_Device_Sales_Model AS X_Device_Sales_Model_2,\n",
    "    normal_log AS normal_log_speaker,\n",
    "    ROW_NUMBER() OVER (PARTITION BY date_ym, mac_addr ORDER BY log_create_time DESC) AS rn2\n",
    "  FROM kic_data_ods.tlamp.normal_log_webos23\n",
    "  WHERE date_ym BETWEEN '2025-06' AND '2025-06'\n",
    "    AND context_name = 'com.palm.app.settings'\n",
    "    AND message_id = 'NL_SETTING_SPEAKER'\n",
    "    AND X_Device_Country IN ('PH', 'AU', 'ID', 'MY', 'SG', 'TH', 'VN', 'TW', 'HK', 'JP', 'IN')\n",
    ")\n",
    "\n",
    "SELECT\n",
    "  COALESCE(r1.date_ym, r2.date_ym) AS date_ym,\n",
    "  COALESCE(r1.mac_addr, r2.mac_addr) AS mac_addr,\n",
    "  COALESCE(r1.X_Device_Country, r2.X_Device_Country_2) AS X_Device_Country,\n",
    "  COALESCE(r1.X_Device_Sales_Model, r2.X_Device_Sales_Model_2) AS X_Device_Sales_Model,\n",
    "  r1.log_time_inputlist,\n",
    "  r1.normal_log_inputlist,\n",
    "  r2.log_time_speaker,\n",
    "  r2.normal_log_speaker\n",
    "FROM ranked_logs_1 r1\n",
    "FULL OUTER JOIN ranked_logs_2 r2\n",
    "  ON r1.date_ym = r2.date_ym AND r1.mac_addr = r2.mac_addr\n",
    "WHERE\n",
    "  (r1.rn1 = 1 AND r2.rn2 IS NULL) OR  -- r1만 있는 경우\n",
    "  (r2.rn2 = 1 AND r1.rn1 IS NULL) OR  -- r2만 있는 경우\n",
    "  (r1.rn1 = 1 AND r2.rn2 = 1)         -- 둘 다 있는 경우\n"
   ]
  },
  {
   "cell_type": "code",
   "execution_count": 0,
   "metadata": {
    "application/vnd.databricks.v1+cell": {
     "cellMetadata": {
      "byteLimit": 2048000,
      "rowLimit": 10000
     },
     "inputWidgets": {},
     "nuid": "7198174c-d19f-4d1a-8237-4f8cf76319f9",
     "showTitle": false,
     "tableResultSettingsMap": {},
     "title": ""
    }
   },
   "outputs": [],
   "source": [
    "%sql\n",
    "create table if not exists sandbox.z_yeswook_kim.heds_914_v2\n",
    "WITH ranked_logs_1 AS (\n",
    "  SELECT \n",
    "    date_ym,\n",
    "    log_create_time AS log_time_inputlist,\n",
    "    mac_addr,\n",
    "    X_Device_Country,\n",
    "    X_Device_Sales_Model,\n",
    "    normal_log AS normal_log_inputlist,\n",
    "    ROW_NUMBER() OVER (PARTITION BY date_ym, mac_addr ORDER BY log_create_time DESC) AS rn1\n",
    "  FROM kic_data_ods.tlamp.normal_log_webos23\n",
    "  WHERE date_ym BETWEEN '2025-06' AND '2025-06'\n",
    "    AND context_name = 'EIM'\n",
    "    AND message_id = 'NL_EIM_INPUTLIST'\n",
    "    AND X_Device_Country IN ('PH', 'AU', 'ID', 'MY', 'SG', 'TH', 'VN', 'TW', 'HK', 'JP', 'IN')\n",
    "),\n",
    "ranked_logs_2 AS (\n",
    "  SELECT \n",
    "    date_ym,\n",
    "    log_create_time AS log_time_speaker,\n",
    "    mac_addr,\n",
    "    X_Device_Country AS X_Device_Country_2,\n",
    "    X_Device_Sales_Model AS X_Device_Sales_Model_2,\n",
    "    normal_log AS normal_log_speaker,\n",
    "    ROW_NUMBER() OVER (PARTITION BY date_ym, mac_addr ORDER BY log_create_time DESC) AS rn2\n",
    "  FROM kic_data_ods.tlamp.normal_log_webos23\n",
    "  WHERE date_ym BETWEEN '2025-06' AND '2025-06'\n",
    "    AND context_name = 'com.palm.app.settings'\n",
    "    AND message_id = 'NL_SETTING_SPEAKER'\n",
    "    AND X_Device_Country IN ('PH', 'AU', 'ID', 'MY', 'SG', 'TH', 'VN', 'TW', 'HK', 'JP', 'IN')\n",
    ")\n",
    "\n",
    "SELECT\n",
    "  COALESCE(r1.date_ym, r2.date_ym) AS date_ym,\n",
    "  COALESCE(r1.mac_addr, r2.mac_addr) AS mac_addr,\n",
    "  COALESCE(r1.X_Device_Country, r2.X_Device_Country_2) AS X_Device_Country,\n",
    "  COALESCE(r1.X_Device_Sales_Model, r2.X_Device_Sales_Model_2) AS X_Device_Sales_Model,\n",
    "  r1.log_time_inputlist,\n",
    "  r1.normal_log_inputlist,\n",
    "  r2.log_time_speaker,\n",
    "  r2.normal_log_speaker\n",
    "FROM ranked_logs_1 r1\n",
    "FULL OUTER JOIN ranked_logs_2 r2\n",
    "  ON r1.date_ym = r2.date_ym AND r1.mac_addr = r2.mac_addr\n",
    "WHERE\n",
    "  (r1.rn1 = 1 AND r2.rn2 IS NULL) OR  -- r1만 있는 경우\n",
    "  (r2.rn2 = 1 AND r1.rn1 IS NULL) OR  -- r2만 있는 경우\n",
    "  (r1.rn1 = 1 AND r2.rn2 = 1)         -- 둘 다 있는 경우\n"
   ]
  },
  {
   "cell_type": "code",
   "execution_count": 0,
   "metadata": {
    "application/vnd.databricks.v1+cell": {
     "cellMetadata": {
      "byteLimit": 2048000,
      "rowLimit": 10000
     },
     "inputWidgets": {},
     "nuid": "5a16951a-d7f9-4a41-bb28-ae52e185a909",
     "showTitle": false,
     "tableResultSettingsMap": {},
     "title": ""
    }
   },
   "outputs": [],
   "source": [
    "%sql\n",
    "create table if not exists sandbox.z_yeswook_kim.heds_914_v3\n",
    "WITH ranked_logs_1 AS (\n",
    "  SELECT \n",
    "    date_ym,\n",
    "    log_create_time AS log_time_inputlist,\n",
    "    mac_addr,\n",
    "    X_Device_Country,\n",
    "    X_Device_Sales_Model,\n",
    "    normal_log AS normal_log_inputlist,\n",
    "    ROW_NUMBER() OVER (PARTITION BY mac_addr ORDER BY log_create_time DESC) AS rn1\n",
    "  FROM kic_data_ods.tlamp.normal_log_webos23\n",
    "  WHERE date_ym BETWEEN '2025-06' AND '2025-06'\n",
    "    AND context_name = 'EIM'\n",
    "    AND message_id = 'NL_EIM_INPUTLIST'\n",
    "    AND X_Device_Country IN ('PH', 'AU', 'ID', 'MY', 'SG', 'TH', 'VN', 'TW', 'HK', 'JP', 'IN')\n",
    "),\n",
    "ranked_logs_2 AS (\n",
    "  SELECT \n",
    "    date_ym,\n",
    "    log_create_time AS log_time_speaker,\n",
    "    mac_addr,\n",
    "    normal_log AS normal_log_speaker,\n",
    "    ROW_NUMBER() OVER (PARTITION BY mac_addr ORDER BY log_create_time DESC) AS rn2\n",
    "  FROM kic_data_ods.tlamp.normal_log_webos23\n",
    "  WHERE date_ym BETWEEN '2025-06' AND '2025-06'\n",
    "    AND context_name = 'com.palm.app.settings'\n",
    "    AND message_id = 'NL_SETTING_SPEAKER'\n",
    "    AND X_Device_Country IN ('PH', 'AU', 'ID', 'MY', 'SG', 'TH', 'VN', 'TW', 'HK', 'JP', 'IN')\n",
    ")\n",
    "\n",
    "SELECT\n",
    "  COALESCE(r1.mac_addr, r2.mac_addr) AS mac_addr,\n",
    "  r1.date_ym AS date_ym_inputlist,\n",
    "  r2.date_ym AS date_ym_speaker,\n",
    "  r1.log_time_inputlist,\n",
    "  r2.log_time_speaker,\n",
    "  r1.normal_log_inputlist,\n",
    "  r2.normal_log_speaker,\n",
    "  CASE\n",
    "    WHEN r1.mac_addr IS NOT NULL AND r2.mac_addr IS NOT NULL THEN 'both'\n",
    "    WHEN r1.mac_addr IS NOT NULL THEN 'only_inputlist'\n",
    "    WHEN r2.mac_addr IS NOT NULL THEN 'only_speaker'\n",
    "  END AS source_type\n",
    "FROM ranked_logs_1 r1\n",
    "FULL OUTER JOIN ranked_logs_2 r2\n",
    "  ON r1.mac_addr = r2.mac_addr\n",
    "WHERE (r1.rn1 = 1 OR r1.rn1 IS NULL)\n",
    "  AND (r2.rn2 = 1 OR r2.rn2 IS NULL)\n"
   ]
  },
  {
   "cell_type": "code",
   "execution_count": 0,
   "metadata": {
    "application/vnd.databricks.v1+cell": {
     "cellMetadata": {
      "byteLimit": 2048000,
      "rowLimit": 10000
     },
     "inputWidgets": {},
     "nuid": "bd836091-e48d-40cb-a701-67524b0a48b8",
     "showTitle": false,
     "tableResultSettingsMap": {},
     "title": ""
    }
   },
   "outputs": [],
   "source": [
    "%sql\n",
    "  SELECT \n",
    "    count(distinct mac_addr)\n",
    "  FROM (\n",
    "    SELECT *,\n",
    "           ROW_NUMBER() OVER (PARTITION BY date_ym, mac_addr ORDER BY log_create_time DESC) AS rk\n",
    "    FROM kic_data_ods.tlamp.normal_log_webos23\n",
    "    WHERE date_ym BETWEEN '2025-06' AND '2025-06'\n",
    "      AND context_name = 'EIM'\n",
    "      AND message_id = 'NL_EIM_INPUTLIST'\n",
    "      AND X_Device_Country IN ('PH', 'AU', 'ID', 'MY', 'SG', 'TH', 'VN', 'TW', 'HK', 'JP', 'IN')\n",
    "  ) sub\n",
    "  WHERE rk = 1"
   ]
  },
  {
   "cell_type": "code",
   "execution_count": 0,
   "metadata": {
    "application/vnd.databricks.v1+cell": {
     "cellMetadata": {
      "byteLimit": 2048000,
      "implicitDf": true,
      "rowLimit": 10000
     },
     "inputWidgets": {},
     "nuid": "197284c1-2de0-47eb-b8dd-7d887ea91fcf",
     "showTitle": false,
     "tableResultSettingsMap": {},
     "title": ""
    }
   },
   "outputs": [],
   "source": [
    "%sql\n",
    "drop table if exists sandbox.z_yeswook_kim.heds_914_v4;\n",
    "\n",
    "create table if not exists sandbox.z_yeswook_kim.heds_914_v4\n",
    "WITH rk1_inputlist AS (\n",
    "  SELECT \n",
    "    date_ym,\n",
    "    log_create_time AS log_time_inputlist,\n",
    "    mac_addr,\n",
    "    X_Device_Country,\n",
    "    X_Device_Sales_Model,\n",
    "    normal_log AS normal_log_inputlist\n",
    "  FROM (\n",
    "    SELECT *,\n",
    "           ROW_NUMBER() OVER (PARTITION BY date_ym, mac_addr ORDER BY log_create_time DESC) AS rk\n",
    "    FROM kic_data_ods.tlamp.normal_log_webos24\n",
    "    WHERE date_ym BETWEEN '2025-06' AND '2025-06'\n",
    "      AND context_name = 'EIM'\n",
    "      AND message_id = 'NL_EIM_INPUTLIST'\n",
    "      AND X_Device_Country IN ('PH', 'AU', 'ID', 'MY', 'SG', 'TH', 'VN', 'TW', 'HK', 'JP', 'IN')\n",
    "  ) sub\n",
    "  WHERE rk = 1\n",
    "),\n",
    "rk1_speaker AS (\n",
    "  SELECT \n",
    "    date_ym,\n",
    "    log_create_time AS log_time_speaker,\n",
    "    mac_addr,\n",
    "    X_Device_Country AS X_Device_Country_speaker,\n",
    "    X_Device_Sales_Model AS X_Device_Sales_Model_speaker,\n",
    "    normal_log AS normal_log_speaker\n",
    "  FROM (\n",
    "    SELECT *,\n",
    "           ROW_NUMBER() OVER (PARTITION BY date_ym, mac_addr ORDER BY log_create_time DESC) AS rk\n",
    "    FROM kic_data_ods.tlamp.normal_log_webos24\n",
    "    WHERE date_ym BETWEEN '2025-06' AND '2025-06'\n",
    "      AND context_name = 'com.palm.app.settings'\n",
    "      AND message_id = 'NL_SETTING_SPEAKER'\n",
    "      AND X_Device_Country IN ('PH', 'AU', 'ID', 'MY', 'SG', 'TH', 'VN', 'TW', 'HK', 'JP', 'IN')\n",
    "  ) sub\n",
    "  WHERE rk = 1\n",
    ")\n",
    "\n",
    "SELECT\n",
    "  COALESCE(i.date_ym, s.date_ym) AS date_ym,\n",
    "  COALESCE(i.mac_addr, s.mac_addr) AS mac_addr,\n",
    "  COALESCE(i.X_Device_Country, s.X_Device_Country_speaker) AS X_Device_Country,\n",
    "  COALESCE(i.X_Device_Sales_Model, s.X_Device_Sales_Model_speaker) AS X_Device_Sales_Model,\n",
    "  i.log_time_inputlist,\n",
    "  i.normal_log_inputlist,\n",
    "  s.log_time_speaker,\n",
    "  s.normal_log_speaker,\n",
    "  CASE\n",
    "    WHEN i.mac_addr IS NOT NULL AND s.mac_addr IS NOT NULL THEN 'both'\n",
    "    WHEN i.mac_addr IS NOT NULL THEN 'only_inputlist'\n",
    "    WHEN s.mac_addr IS NOT NULL THEN 'only_speaker'\n",
    "  END AS source_type\n",
    "FROM rk1_inputlist i\n",
    "FULL OUTER JOIN rk1_speaker s\n",
    "  ON i.date_ym = s.date_ym AND i.mac_addr = s.mac_addr\n"
   ]
  },
  {
   "cell_type": "code",
   "execution_count": 0,
   "metadata": {
    "application/vnd.databricks.v1+cell": {
     "cellMetadata": {
      "byteLimit": 2048000,
      "implicitDf": true,
      "rowLimit": 10000
     },
     "inputWidgets": {},
     "nuid": "0e4a6f62-7220-4df5-a3e2-fa2b0b71d53e",
     "showTitle": false,
     "tableResultSettingsMap": {},
     "title": ""
    }
   },
   "outputs": [],
   "source": [
    "%python\n",
    "sdf = spark.sql(\"\"\"\n",
    "    select \n",
    "        *\n",
    "    from sandbox.z_yeswook_kim.heds_914_v4\n",
    "\"\"\")"
   ]
  },
  {
   "cell_type": "code",
   "execution_count": 0,
   "metadata": {
    "application/vnd.databricks.v1+cell": {
     "cellMetadata": {
      "byteLimit": 2048000,
      "rowLimit": 10000
     },
     "inputWidgets": {},
     "nuid": "360e7ac0-0027-4fb5-92d2-ddc8b5f8c76d",
     "showTitle": false,
     "tableResultSettingsMap": {},
     "title": ""
    }
   },
   "outputs": [],
   "source": [
    "def mk_flatten_df(df):\n",
    "    from pyspark.sql.functions import regexp_extract, from_json, col\n",
    "    from pyspark.sql.types import StructType, StructField, StringType, ArrayType\n",
    "\n",
    "    # dev_list 스키마 정의\n",
    "    inputlist_schema = StructType([\n",
    "        StructField(\"dev_list\", ArrayType(StructType([\n",
    "            StructField(\"name\", StringType()),\n",
    "            StructField(\"type\", StringType()),\n",
    "            StructField(\"label\", StringType()),\n",
    "            StructField(\"spec\", StringType()),\n",
    "            StructField(\"id\", StringType())\n",
    "        ])))\n",
    "    ])\n",
    "\n",
    "    # speaker용 JSON 스키마 정의\n",
    "    speaker_schema = StructType([\n",
    "        StructField(\"type\", StringType()),\n",
    "        StructField(\"device_name\", StringType())\n",
    "    ])\n",
    "\n",
    "    # 1. 앞의 빈 JSON 제거 (두 번째 JSON 객체 추출)\n",
    "    df_cleaned = sdf.withColumn(\n",
    "        \"cleaned_inputlist\",\n",
    "        regexp_extract(\"normal_log_inputlist\", r\"(\\{.*\\}\\s*){1}(\\{.*\\})\", 2)\n",
    "    )\n",
    "\n",
    "    # 2. JSON 파싱\n",
    "    df_parsed = df_cleaned.withColumn(\"parsed_inputlist\", from_json(col(\"cleaned_inputlist\"), inputlist_schema))\\\n",
    "                        .withColumn(\"parsed_speaker\", from_json(col(\"normal_log_speaker\"), speaker_schema))\n",
    "\n",
    "\n",
    "    # 3. 평탄화\n",
    "    df_flattened = df_parsed.select(\n",
    "        \"date_ym\", \"mac_addr\", \"X_Device_Country\", \"X_Device_Sales_Model\",\n",
    "        \"source_type\",\n",
    "        \"log_time_inputlist\",\n",
    "        col(\"parsed_inputlist.dev_list\")[0].getItem(\"name\").alias(\"input_name\"),\n",
    "        col(\"parsed_inputlist.dev_list\")[0].getItem(\"type\").alias(\"input_type\"),\n",
    "        col(\"parsed_inputlist.dev_list\")[0].getItem(\"label\").alias(\"input_label\"),\n",
    "        col(\"parsed_inputlist.dev_list\")[0].getItem(\"spec\").alias(\"input_spec\"),\n",
    "        col(\"parsed_inputlist.dev_list\")[0].getItem(\"id\").alias(\"input_id\"),\n",
    "        \n",
    "        \"log_time_speaker\",\n",
    "        col(\"parsed_speaker.type\").alias(\"speaker_type\"),\n",
    "        col(\"parsed_speaker.device_name\").alias(\"speaker_device_name\")\n",
    "    )\n",
    "\n",
    "    return df_flattened\n"
   ]
  },
  {
   "cell_type": "code",
   "execution_count": 0,
   "metadata": {
    "application/vnd.databricks.v1+cell": {
     "cellMetadata": {
      "byteLimit": 2048000,
      "rowLimit": 10000
     },
     "inputWidgets": {},
     "nuid": "697e6c0c-3f8f-49a3-a35e-945635b318aa",
     "showTitle": false,
     "tableResultSettingsMap": {},
     "title": ""
    }
   },
   "outputs": [],
   "source": [
    "display(df_flattened)"
   ]
  },
  {
   "cell_type": "code",
   "execution_count": 0,
   "metadata": {
    "application/vnd.databricks.v1+cell": {
     "cellMetadata": {
      "byteLimit": 2048000,
      "rowLimit": 10000
     },
     "inputWidgets": {},
     "nuid": "9cc91eeb-be43-49fc-9b72-414e433438c2",
     "showTitle": true,
     "tableResultSettingsMap": {},
     "title": "로그1 파싱예시"
    }
   },
   "outputs": [],
   "source": [
    "%sql\n",
    "SELECT \n",
    "  date_ym,\n",
    "  mac_addr,\n",
    "  X_Device_Country,\n",
    "  X_Device_Sales_Model,\n",
    "  dev.name AS device_name,\n",
    "  dev.type AS device_type,\n",
    "  dev.spec AS device_spec,\n",
    "  dev.id AS device_id\n",
    "FROM (\n",
    "  SELECT \n",
    "    date_ym,\n",
    "    mac_addr,\n",
    "    X_Device_Country,\n",
    "    X_Device_Sales_Model,\n",
    "    EXPLODE(\n",
    "      FROM_JSON(\n",
    "        REGEXP_EXTRACT(normal_log, '\\\\{.*\\\\}\\\\s+(\\\\{.*\\\\})', 1),\n",
    "        'STRUCT<dev_list:ARRAY<STRUCT<name:STRING, type:STRING, label:STRING, spec:STRING, id:STRING>>>'\n",
    "      ).dev_list\n",
    "    ) AS dev\n",
    "  FROM kic_data_ods.tlamp.normal_log_webos23\n",
    "  WHERE 1=1\n",
    "    AND date_ym BETWEEN '2025-06' AND '2025-06'\n",
    "    AND context_name = 'EIM'\n",
    "    AND message_id = 'NL_EIM_INPUTLIST'\n",
    "    AND X_Device_Country IN ('PH', 'AU', 'ID', 'MY', 'SG', 'TH', 'VN', 'TW', 'HK', 'JP', 'IN')\n",
    ")\n"
   ]
  },
  {
   "cell_type": "code",
   "execution_count": 0,
   "metadata": {
    "application/vnd.databricks.v1+cell": {
     "cellMetadata": {},
     "inputWidgets": {},
     "nuid": "cb7d02b8-8d22-4fb0-8c01-abdc2dd6e37d",
     "showTitle": false,
     "tableResultSettingsMap": {},
     "title": ""
    }
   },
   "outputs": [],
   "source": []
  },
  {
   "cell_type": "code",
   "execution_count": 0,
   "metadata": {
    "application/vnd.databricks.v1+cell": {
     "cellMetadata": {},
     "inputWidgets": {},
     "nuid": "2f187927-4a97-4c62-a60a-c4795ef9a210",
     "showTitle": false,
     "tableResultSettingsMap": {},
     "title": ""
    }
   },
   "outputs": [],
   "source": [
    "%python\n",
    "create table if not exists sandbox.z_yeswook_kim.heds_914_v4\n",
    "WITH rk1_inputlist AS (\n",
    "  SELECT \n",
    "    date_ym,\n",
    "    log_create_time AS log_time_inputlist,\n",
    "    mac_addr,\n",
    "    X_Device_Country,\n",
    "    X_Device_Sales_Model,\n",
    "    normal_log AS normal_log_inputlist\n",
    "  FROM (\n",
    "    SELECT *,\n",
    "           ROW_NUMBER() OVER (PARTITION BY date_ym, mac_addr ORDER BY log_create_time DESC) AS rk\n",
    "    FROM kic_data_ods.tlamp.normal_log_webos24\n",
    "    WHERE date_ym BETWEEN '2025-06' AND '2025-06'\n",
    "      AND context_name = 'EIM'\n",
    "      AND message_id = 'NL_EIM_INPUTLIST'\n",
    "      AND X_Device_Country IN ('PH', 'AU', 'ID', 'MY', 'SG', 'TH', 'VN', 'TW', 'HK', 'JP', 'IN')\n",
    "  ) sub\n",
    "  WHERE rk = 1\n",
    "),\n",
    "rk1_speaker AS (\n",
    "  SELECT \n",
    "    date_ym,\n",
    "    log_create_time AS log_time_speaker,\n",
    "    mac_addr,\n",
    "    X_Device_Country AS X_Device_Country_speaker,\n",
    "    X_Device_Sales_Model AS X_Device_Sales_Model_speaker,\n",
    "    normal_log AS normal_log_speaker\n",
    "  FROM (\n",
    "    SELECT *,\n",
    "           ROW_NUMBER() OVER (PARTITION BY date_ym, mac_addr ORDER BY log_create_time DESC) AS rk\n",
    "    FROM kic_data_ods.tlamp.normal_log_webos24\n",
    "    WHERE date_ym BETWEEN '2025-06' AND '2025-06'\n",
    "      AND context_name = 'com.palm.app.settings'\n",
    "      AND message_id = 'NL_SETTING_SPEAKER'\n",
    "      AND X_Device_Country IN ('PH', 'AU', 'ID', 'MY', 'SG', 'TH', 'VN', 'TW', 'HK', 'JP', 'IN')\n",
    "  ) sub\n",
    "  WHERE rk = 1\n",
    ")\n",
    "\n",
    "SELECT\n",
    "  COALESCE(i.date_ym, s.date_ym) AS date_ym,\n",
    "  COALESCE(i.mac_addr, s.mac_addr) AS mac_addr,\n",
    "  COALESCE(i.X_Device_Country, s.X_Device_Country_speaker) AS X_Device_Country,\n",
    "  COALESCE(i.X_Device_Sales_Model, s.X_Device_Sales_Model_speaker) AS X_Device_Sales_Model,\n",
    "  i.log_time_inputlist,\n",
    "  i.normal_log_inputlist,\n",
    "  s.log_time_speaker,\n",
    "  s.normal_log_speaker,\n",
    "  CASE\n",
    "    WHEN i.mac_addr IS NOT NULL AND s.mac_addr IS NOT NULL THEN 'both'\n",
    "    WHEN i.mac_addr IS NOT NULL THEN 'only_inputlist'\n",
    "    WHEN s.mac_addr IS NOT NULL THEN 'only_speaker'\n",
    "  END AS source_type\n",
    "FROM rk1_inputlist i\n",
    "FULL OUTER JOIN rk1_speaker s\n",
    "  ON i.date_ym = s.date_ym AND i.mac_addr = s.mac_addr"
   ]
  },
  {
   "cell_type": "markdown",
   "metadata": {
    "application/vnd.databricks.v1+cell": {
     "cellMetadata": {},
     "inputWidgets": {},
     "nuid": "c6d47b93-4331-48a1-8c4c-3935c4edd209",
     "showTitle": true,
     "tableResultSettingsMap": {},
     "title": "S3에 데이터 내리기"
    }
   },
   "source": [
    "# 데이터 추출"
   ]
  },
  {
   "cell_type": "code",
   "execution_count": 0,
   "metadata": {
    "application/vnd.databricks.v1+cell": {
     "cellMetadata": {
      "byteLimit": 2048000,
      "rowLimit": 10000
     },
     "inputWidgets": {},
     "nuid": "bd220610-ab13-4de0-b099-6793791e83f1",
     "showTitle": false,
     "tableResultSettingsMap": {},
     "title": ""
    }
   },
   "outputs": [],
   "source": [
    "%python\n",
    "from datetime import datetime, timedelta\n",
    "\n",
    "# 시작 월과 종료 월 지정\n",
    "start_month = \"2024-01\"\n",
    "end_month = \"2025-06\"\n",
    "\n",
    "# 월 리스트 생성\n",
    "date_ym_list = []\n",
    "current = datetime.strptime(start_month, \"%Y-%m\")\n",
    "end = datetime.strptime(end_month, \"%Y-%m\")\n",
    "\n",
    "while current <= end:\n",
    "    date_ym_list.append(current.strftime(\"%Y-%m\"))\n",
    "    # 다음 달로 이동\n",
    "    current += timedelta(days=32)\n",
    "    current = current.replace(day=1)\n"
   ]
  },
  {
   "cell_type": "code",
   "execution_count": 0,
   "metadata": {
    "application/vnd.databricks.v1+cell": {
     "cellMetadata": {
      "byteLimit": 2048000,
      "rowLimit": 10000
     },
     "inputWidgets": {},
     "nuid": "809bd66e-2080-4ff8-b534-0147122f51da",
     "showTitle": false,
     "tableResultSettingsMap": {},
     "title": ""
    }
   },
   "outputs": [],
   "source": [
    "def mk_flatten_df(df):\n",
    "    from pyspark.sql.functions import regexp_extract, from_json, col\n",
    "    from pyspark.sql.types import StructType, StructField, StringType, ArrayType\n",
    "\n",
    "    # dev_list 스키마 정의\n",
    "    inputlist_schema = StructType([\n",
    "        StructField(\"dev_list\", ArrayType(StructType([\n",
    "            StructField(\"name\", StringType()),\n",
    "            StructField(\"type\", StringType()),\n",
    "            StructField(\"label\", StringType()),\n",
    "            StructField(\"spec\", StringType()),\n",
    "            StructField(\"id\", StringType())\n",
    "        ])))\n",
    "    ])\n",
    "\n",
    "    # speaker용 JSON 스키마 정의\n",
    "    speaker_schema = StructType([\n",
    "        StructField(\"type\", StringType()),\n",
    "        StructField(\"device_name\", StringType())\n",
    "    ])\n",
    "\n",
    "    # 1. 앞의 빈 JSON 제거 (두 번째 JSON 객체 추출)\n",
    "    df_cleaned = df.withColumn(\n",
    "        \"cleaned_inputlist\",\n",
    "        regexp_extract(\"normal_log_inputlist\", r\"(\\{.*\\}\\s*){1}(\\{.*\\})\", 2)\n",
    "    )\n",
    "\n",
    "    # 2. JSON 파싱\n",
    "    df_parsed = df_cleaned.withColumn(\"parsed_inputlist\", from_json(col(\"cleaned_inputlist\"), inputlist_schema))\\\n",
    "                        .withColumn(\"parsed_speaker\", from_json(col(\"normal_log_speaker\"), speaker_schema))\n",
    "\n",
    "\n",
    "    # 3. 평탄화\n",
    "    df_flattened = df_parsed.select(\n",
    "        \"date_ym\", \"mac_addr\", \"X_Device_Country\", \"X_Device_Sales_Model\",\n",
    "        \"source_type\",\n",
    "        \"log_time_inputlist\",\n",
    "        col(\"parsed_inputlist.dev_list\")[0].getItem(\"name\").alias(\"input_name\"),\n",
    "        col(\"parsed_inputlist.dev_list\")[0].getItem(\"type\").alias(\"input_type\"),\n",
    "        col(\"parsed_inputlist.dev_list\")[0].getItem(\"label\").alias(\"input_label\"),\n",
    "        col(\"parsed_inputlist.dev_list\")[0].getItem(\"spec\").alias(\"input_spec\"),\n",
    "        col(\"parsed_inputlist.dev_list\")[0].getItem(\"id\").alias(\"input_id\"),\n",
    "        \n",
    "        \"log_time_speaker\",\n",
    "        col(\"parsed_speaker.type\").alias(\"speaker_type\"),\n",
    "        col(\"parsed_speaker.device_name\").alias(\"speaker_device_name\")\n",
    "    )\n",
    "\n",
    "    return df_flattened\n"
   ]
  },
  {
   "cell_type": "code",
   "execution_count": 0,
   "metadata": {
    "application/vnd.databricks.v1+cell": {
     "cellMetadata": {
      "byteLimit": 2048000,
      "rowLimit": 10000
     },
     "inputWidgets": {},
     "nuid": "719f4080-5b6f-446a-a488-84fb74e448a2",
     "showTitle": true,
     "tableResultSettingsMap": {},
     "title": "추출쿼리"
    }
   },
   "outputs": [],
   "source": [
    "%python\n",
    "# 테이블을 DataFrame으로 로드\n",
    "for webos_version in ['webos22','webos23','webos24'][::]:\n",
    "  for date_ym in date_ym_list[::]:\n",
    "    print(webos_version, date_ym,'started')\n",
    "    df = spark.sql(f\"\"\"\n",
    "            SELECT\n",
    "              COALESCE(i.date_ym, s.date_ym) AS date_ym,\n",
    "              COALESCE(i.mac_addr, s.mac_addr) AS mac_addr,\n",
    "              COALESCE(i.X_Device_Country, s.X_Device_Country_speaker) AS X_Device_Country,\n",
    "              COALESCE(i.X_Device_Sales_Model, s.X_Device_Sales_Model_speaker) AS X_Device_Sales_Model,\n",
    "              i.log_time_inputlist,\n",
    "              i.normal_log_inputlist,\n",
    "              s.log_time_speaker,\n",
    "              s.normal_log_speaker,\n",
    "              CASE\n",
    "                WHEN i.mac_addr IS NOT NULL AND s.mac_addr IS NOT NULL THEN 'both'\n",
    "                WHEN i.mac_addr IS NOT NULL THEN 'only_inputlist'\n",
    "                WHEN s.mac_addr IS NOT NULL THEN 'only_speaker'\n",
    "              END AS source_type\n",
    "            FROM (\n",
    "              SELECT \n",
    "                date_ym,\n",
    "                log_create_time AS log_time_inputlist,\n",
    "                mac_addr,\n",
    "                X_Device_Country,\n",
    "                X_Device_Sales_Model,\n",
    "                normal_log AS normal_log_inputlist\n",
    "              FROM (\n",
    "                SELECT *,\n",
    "                      ROW_NUMBER() OVER (PARTITION BY date_ym, mac_addr ORDER BY log_create_time DESC) AS rk\n",
    "                FROM kic_data_ods.tlamp.normal_log_{webos_version}\n",
    "                WHERE date_ym BETWEEN '{date_ym}' AND '{date_ym}'\n",
    "                  AND context_name = 'EIM'\n",
    "                  AND message_id = 'NL_EIM_INPUTLIST'\n",
    "                  AND X_Device_Country IN ('PH', 'AU', 'ID', 'MY', 'SG', 'TH', 'VN', 'TW', 'HK', 'JP', 'IN')\n",
    "              ) sub\n",
    "              WHERE rk = 1\n",
    "            ) i\n",
    "            FULL OUTER JOIN (\n",
    "              SELECT \n",
    "                date_ym,\n",
    "                log_create_time AS log_time_speaker,\n",
    "                mac_addr,\n",
    "                X_Device_Country AS X_Device_Country_speaker,\n",
    "                X_Device_Sales_Model AS X_Device_Sales_Model_speaker,\n",
    "                normal_log AS normal_log_speaker\n",
    "              FROM (\n",
    "                SELECT *,\n",
    "                      ROW_NUMBER() OVER (PARTITION BY date_ym, mac_addr ORDER BY log_create_time DESC) AS rk\n",
    "                FROM kic_data_ods.tlamp.normal_log_{webos_version}\n",
    "                WHERE date_ym BETWEEN '{date_ym}' AND '{date_ym}'\n",
    "                  AND context_name = 'com.palm.app.settings'\n",
    "                  AND message_id = 'NL_SETTING_SPEAKER'\n",
    "                  AND X_Device_Country IN ('PH', 'AU', 'ID', 'MY', 'SG', 'TH', 'VN', 'TW', 'HK', 'JP', 'IN')\n",
    "              ) sub\n",
    "              WHERE rk = 1\n",
    "            ) s\n",
    "            ON i.date_ym = s.date_ym AND i.mac_addr = s.mac_addr\n",
    "          \"\"\")\n",
    "\n",
    "    # 평탄화하기 \n",
    "    flatten_df = mk_flatten_df(df)    \n",
    "    # display(df)\n",
    "    # 단일 CSV 파일로 저장 (볼륨 경로 지정)\n",
    "    flatten_df.coalesce(1).write.mode(\"overwrite\").option(\"header\", \"true\").csv(f\"/Volumes/sandbox/z_yeswook_kim/v_yeswook_kim/heds/{webos_version}_{date_ym}_heds_914_csv\")\n",
    "    print(webos_version, date_ym,'ended')\n",
    "    \n",
    "    # del df\n",
    "    # del flatten_df"
   ]
  },
  {
   "cell_type": "code",
   "execution_count": 0,
   "metadata": {
    "application/vnd.databricks.v1+cell": {
     "cellMetadata": {
      "byteLimit": 2048000,
      "rowLimit": 10000
     },
     "inputWidgets": {},
     "nuid": "73f8926f-5b76-44bf-8bda-63868691b66f",
     "showTitle": true,
     "tableResultSettingsMap": {},
     "title": "로컬에서 처리한 코드 -> csv 파일명 변경 및 인코딩처리"
    }
   },
   "outputs": [],
   "source": [
    "import boto3\n",
    "import os\n",
    "\n",
    "import botocore\n",
    "from datetime import datetime, timedelta\n",
    "import urllib3\n",
    "\n",
    "# AWS S3 클라이언트 생성\n",
    "s3 = boto3.client(\n",
    "    's3'\n",
    "    # , aws_access_key_id=aws_personal_access_key['aws_access_key_id']\n",
    "    # , aws_secret_access_key=aws_personal_access_key['aws_secret_access_key']\n",
    ")\n",
    "\n",
    "s3 = boto3.client('s3', config=botocore.client.Config(signature_version='s3v4'), verify=False)\n",
    "urllib3.disable_warnings(urllib3.exceptions.InsecureRequestWarning)\n",
    "\n",
    "\n",
    "\n",
    "\n",
    "# 시작 월과 종료 월 지정\n",
    "start_month = \"2024-01\"\n",
    "end_month = \"2025-06\"\n",
    "\n",
    "# 월 리스트 생성\n",
    "date_ym_list = []\n",
    "current = datetime.strptime(start_month, \"%Y-%m\")\n",
    "end = datetime.strptime(end_month, \"%Y-%m\")\n",
    "\n",
    "while current <= end:\n",
    "    date_ym_list.append(current.strftime(\"%Y-%m\"))\n",
    "    # 다음 달로 이동\n",
    "    current += timedelta(days=32)\n",
    "    current = current.replace(day=1)\n",
    "\n",
    "\n",
    "# 반복 대상\n",
    "webos_versions = ['webos22', 'webos23', 'webos24']\n",
    "# date_ym_list = ['2024-01', '2024-02', '2024-03', '2024-04', '2024-05', '2025-06']\n",
    "\n",
    "# S3 기본 정보\n",
    "bucket = 's3-lge-he-sandbox-kic'\n",
    "base_prefix = '__unitystorage/schemas/06a06837-4731-481a-80d3-140da5d8f193/volumes/64b39521-99cf-4829-bc2a-55313147ba19/heds'\n",
    "\n",
    "# 로컬 저장 경로\n",
    "local_dir = './downloaded_csvs'\n",
    "os.makedirs(local_dir, exist_ok=True)\n",
    "\n",
    "for webos_version in webos_versions[:]:\n",
    "    for date_ym in date_ym_list[:]:\n",
    "        prefix = f\"{base_prefix}/{webos_version}_{date_ym}_heds_914_csv/\"\n",
    "        response = s3.list_objects_v2(Bucket=bucket, Prefix=prefix)\n",
    "\n",
    "        if 'Contents' not in response:\n",
    "            print(f\"No file found for {webos_version} {date_ym}\")\n",
    "            continue\n",
    "\n",
    "        for obj in response['Contents']:\n",
    "            key = obj['Key']\n",
    "            if key.endswith('.csv') or 'part-' in key:\n",
    "                local_filename = f\"{webos_version}_{date_ym}_heds_914.csv\"\n",
    "                temp_filename = f\"{webos_version}_{date_ym}_temp.csv\"\n",
    "                temp_path = os.path.join(local_dir, temp_filename)\n",
    "                final_path = os.path.join(local_dir, local_filename)\n",
    "\n",
    "                print(f\"Downloading {key} to {temp_path}\")\n",
    "                s3.download_file(bucket, key, temp_path)\n",
    "\n",
    "                # BOM 추가하여 저장\n",
    "                with open(temp_path, 'r', encoding='utf-8') as f_in:\n",
    "                    content = f_in.read()\n",
    "                with open(final_path, 'w', encoding='utf-8-sig') as f_out:\n",
    "                    f_out.write(content)\n",
    "\n",
    "                os.remove(temp_path)\n",
    "                print(f\"{webos_version} {date_ym} 저장 완료 (BOM 포함)\")\n",
    "                break\n",
    "        \n",
    "\n"
   ]
  },
  {
   "cell_type": "code",
   "execution_count": 0,
   "metadata": {
    "application/vnd.databricks.v1+cell": {
     "cellMetadata": {},
     "inputWidgets": {},
     "nuid": "d08ed62c-a93c-4d18-84e1-945c159c5bd5",
     "showTitle": false,
     "tableResultSettingsMap": {},
     "title": ""
    }
   },
   "outputs": [],
   "source": []
  },
  {
   "cell_type": "code",
   "execution_count": 0,
   "metadata": {
    "application/vnd.databricks.v1+cell": {
     "cellMetadata": {},
     "inputWidgets": {},
     "nuid": "3c421969-d3f6-4ad1-bc70-97ca66315ef7",
     "showTitle": false,
     "tableResultSettingsMap": {},
     "title": ""
    }
   },
   "outputs": [],
   "source": []
  },
  {
   "cell_type": "code",
   "execution_count": 0,
   "metadata": {
    "application/vnd.databricks.v1+cell": {
     "cellMetadata": {},
     "inputWidgets": {},
     "nuid": "47f06259-22c3-46aa-af7a-eb1e4b3a6bd0",
     "showTitle": false,
     "tableResultSettingsMap": {},
     "title": ""
    }
   },
   "outputs": [],
   "source": []
  },
  {
   "cell_type": "code",
   "execution_count": 0,
   "metadata": {
    "application/vnd.databricks.v1+cell": {
     "cellMetadata": {},
     "inputWidgets": {},
     "nuid": "96dacf43-9d31-4387-995a-7558c8d5f846",
     "showTitle": false,
     "tableResultSettingsMap": {},
     "title": ""
    }
   },
   "outputs": [],
   "source": [
    "%sql\n",
    "SELECT\n",
    "  'webos23' AS webos_version,  -- webOS 버전 추가\n",
    "  COALESCE(i.date_ym, s.date_ym) AS date_ym,\n",
    "  COALESCE(i.mac_addr, s.mac_addr) AS mac_addr,\n",
    "  COALESCE(i.X_Device_Country, s.X_Device_Country_speaker) AS X_Device_Country,\n",
    "  COALESCE(i.X_Device_Sales_Model, s.X_Device_Sales_Model_speaker) AS X_Device_Sales_Model,\n",
    "  i.log_time_inputlist,\n",
    "  i.normal_log_inputlist,\n",
    "  s.log_time_speaker,\n",
    "  s.normal_log_speaker,\n",
    "  CASE\n",
    "    WHEN i.mac_addr IS NOT NULL AND s.mac_addr IS NOT NULL THEN 'both'\n",
    "    WHEN i.mac_addr IS NOT NULL THEN 'only_inputlist'\n",
    "    WHEN s.mac_addr IS NOT NULL THEN 'only_speaker'\n",
    "  END AS source_type\n",
    "FROM (\n",
    "  SELECT \n",
    "    date_ym,\n",
    "    log_create_time AS log_time_inputlist,\n",
    "    mac_addr,\n",
    "    X_Device_Country,\n",
    "    X_Device_Sales_Model,\n",
    "    normal_log AS normal_log_inputlist\n",
    "  FROM (\n",
    "    SELECT *,\n",
    "          ROW_NUMBER() OVER (PARTITION BY date_ym, mac_addr ORDER BY log_create_time DESC) AS rk\n",
    "    FROM kic_data_ods.tlamp.normal_log_webos23\n",
    "    WHERE date_ym BETWEEN '{date_ym}' AND '{date_ym}'\n",
    "      AND context_name = 'EIM'\n",
    "      AND message_id = 'NL_EIM_INPUTLIST'\n",
    "      AND X_Device_Country IN ('PH', 'AU', 'ID', 'MY', 'SG', 'TH', 'VN', 'TW', 'HK', 'JP', 'IN')\n",
    "  ) sub\n",
    "  WHERE rk = 1\n",
    ") i\n",
    "FULL OUTER JOIN (\n",
    "  SELECT \n",
    "    date_ym,\n",
    "    log_create_time AS log_time_speaker,\n",
    "    mac_addr,\n",
    "    X_Device_Country AS X_Device_Country_speaker,\n",
    "    X_Device_Sales_Model AS X_Device_Sales_Model_speaker,\n",
    "    normal_log AS normal_log_speaker\n",
    "  FROM (\n",
    "    SELECT *,\n",
    "          ROW_NUMBER() OVER (PARTITION BY date_ym, mac_addr ORDER BY log_create_time DESC) AS rk\n",
    "    FROM kic_data_ods.tlamp.normal_log_webos23\n",
    "    WHERE date_ym BETWEEN {date_ym} AND {date_ym}\n",
    "      AND context_name = 'com.palm.app.settings'\n",
    "      AND message_id = 'NL_SETTING_SPEAKER'\n",
    "      AND X_Device_Country IN ('PH', 'AU', 'ID', 'MY', 'SG', 'TH', 'VN', 'TW', 'HK', 'JP', 'IN')\n",
    "  ) sub\n",
    "  WHERE rk = 1\n",
    ") s\n",
    "ON i.date_ym = s.date_ym AND i.mac_addr = s.mac_addr\n"
   ]
  }
 ],
 "metadata": {
  "application/vnd.databricks.v1+notebook": {
   "computePreferences": null,
   "dashboards": [],
   "environmentMetadata": {
    "base_environment": "",
    "environment_version": "2"
   },
   "inputWidgetPreferences": null,
   "language": "python",
   "notebookMetadata": {
    "mostRecentlyExecutedCommandWithImplicitDF": {
     "commandId": -1,
     "dataframes": [
      "_sqldf"
     ]
    },
    "pythonIndentUnit": 4
   },
   "notebookName": "914",
   "widgets": {}
  },
  "language_info": {
   "name": "python"
  }
 },
 "nbformat": 4,
 "nbformat_minor": 0
}
