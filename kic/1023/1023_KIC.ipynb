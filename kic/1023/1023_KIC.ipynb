{
 "cells": [
  {
   "cell_type": "markdown",
   "metadata": {
    "application/vnd.databricks.v1+cell": {
     "cellMetadata": {},
     "inputWidgets": {},
     "nuid": "a96b1eb9-4602-4197-9754-3fe5373df564",
     "showTitle": false,
     "tableResultSettingsMap": {},
     "title": ""
    }
   },
   "source": [
    "http://jira.lge.com/issue/browse/HEDATAPLFM-1023?attachmentSortBy=dateTime&attachmentOrder=asc"
   ]
  },
  {
   "cell_type": "code",
   "execution_count": 0,
   "metadata": {
    "application/vnd.databricks.v1+cell": {
     "cellMetadata": {
      "byteLimit": 2048000,
      "implicitDf": true,
      "rowLimit": 10000
     },
     "inputWidgets": {},
     "nuid": "1efa5b1b-7694-4ae2-a584-852311d1ea25",
     "showTitle": false,
     "tableResultSettingsMap": {},
     "title": ""
    }
   },
   "outputs": [],
   "source": [
    "%sql\n",
    "-- KIC 추출쿼리 (358행)\n",
    "select 'KIC' as ric_nm, country_code, platform_code, login_complete, launch_type\n",
    "        , UD_mac as UD, min_ym, max_ym, etl_dt\n",
    "from sandbox.z_sam351_kim.a0909_deletion_impact_2_login_method_ud\n",
    "where 1=1\n",
    "    and substr(platform_code, 1, 1) IN ('W', 'C', 'N')\n",
    "    and substr(platform_code, 2, 2) IN ('24')\n",
    "order by country_code, platform_code, login_complete, launch_type\n"
   ]
  }
 ],
 "metadata": {
  "application/vnd.databricks.v1+notebook": {
   "computePreferences": null,
   "dashboards": [],
   "environmentMetadata": {
    "base_environment": "",
    "environment_version": "3"
   },
   "inputWidgetPreferences": null,
   "language": "python",
   "notebookMetadata": {
    "mostRecentlyExecutedCommandWithImplicitDF": {
     "commandId": 7545915183540339,
     "dataframes": [
      "_sqldf"
     ]
    },
    "pythonIndentUnit": 4
   },
   "notebookName": "1023_KIC",
   "widgets": {}
  },
  "language_info": {
   "name": "python"
  }
 },
 "nbformat": 4,
 "nbformat_minor": 0
}
