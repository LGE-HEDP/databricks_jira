{
 "cells": [
  {
   "cell_type": "markdown",
   "metadata": {
    "application/vnd.databricks.v1+cell": {
     "cellMetadata": {},
     "inputWidgets": {},
     "nuid": "38c663a8-2094-4d38-b1b7-087438f1d2a1",
     "showTitle": false,
     "tableResultSettingsMap": {},
     "title": ""
    }
   },
   "source": [
    "\n",
    "http://jira.lge.com/issue/browse/HEDATAPLFM-999?attachmentSortBy=dateTime&attachmentOrder=asc"
   ]
  },
  {
   "cell_type": "code",
   "execution_count": 0,
   "metadata": {
    "application/vnd.databricks.v1+cell": {
     "cellMetadata": {
      "byteLimit": 2048000,
      "rowLimit": 10000
     },
     "inputWidgets": {},
     "nuid": "c79b2f75-85bf-4735-87cc-750ba25e47a0",
     "showTitle": true,
     "tableResultSettingsMap": {
      "0": {
       "dataGridStateBlob": "{\"version\":1,\"tableState\":{\"columnPinning\":{\"left\":[\"#row_number#\"],\"right\":[]},\"columnSizing\":{\"log_create_time\":215},\"columnVisibility\":{}},\"settings\":{\"columns\":{}},\"syncTimestamp\":1757660429108}",
       "filterBlob": null,
       "queryPlanFiltersBlob": null,
       "tableResultIndex": 0
      }
     },
     "title": "기본조회"
    }
   },
   "outputs": [],
   "source": [
    "%sql\n",
    "SELECT \n",
    "  date_ym, \n",
    "  log_create_time, \n",
    "  mac_addr,\n",
    "  X_User_Number,\n",
    "  get_json_object(normal_log, '$.old') as old_state,\n",
    "  get_json_object(normal_log, '$.new') as new_state,\n",
    "  CASE \n",
    "    WHEN (get_json_object(normal_log, '$.old') IN ('Init', 'Active Standby', 'Always Ready', 'Suspend') \n",
    "          AND get_json_object(normal_log, '$.new') IN ('Active'))\n",
    "    THEN 'TV_ON'\n",
    "    WHEN (get_json_object(normal_log, '$.old') IN ('Active', 'Screen Saver', 'Screen Off') \n",
    "          AND get_json_object(normal_log, '$.new') IN ('Active Standby', 'Always Ready', 'Suspend', 'Power Off', 'Reboot'))\n",
    "    THEN 'TV_OFF'\n",
    "    ELSE ''\n",
    "  END AS tv_onoff_event\n",
    "FROM kic_data_ods.tlamp.normal_log_webos25\n",
    "WHERE 1=1\n",
    "  AND date_ym = '2025-06'\n",
    "  AND context_name = 'tvpowerd'\n",
    "  AND message_id = 'NL_POWER_STATE'\n",
    "  AND log_create_time >= to_date(concat(date_ym, '-01'))\n",
    "ORDER BY mac_addr, X_User_Number, log_create_time\n"
   ]
  },
  {
   "cell_type": "code",
   "execution_count": 0,
   "metadata": {
    "application/vnd.databricks.v1+cell": {
     "cellMetadata": {
      "byteLimit": 2048000,
      "rowLimit": 10000
     },
     "inputWidgets": {},
     "nuid": "da9d9aee-9b5f-4fe6-88e6-cf63b7b48061",
     "showTitle": false,
     "tableResultSettingsMap": {
      "0": {
       "dataGridStateBlob": "{\"version\":1,\"tableState\":{\"columnPinning\":{\"left\":[\"#row_number#\"],\"right\":[]},\"columnSizing\":{},\"columnVisibility\":{}},\"settings\":{\"columns\":{}},\"syncTimestamp\":1757739086408}",
       "filterBlob": null,
       "queryPlanFiltersBlob": null,
       "tableResultIndex": 0
      }
     },
     "title": ""
    }
   },
   "outputs": [],
   "source": [
    "%sql\n",
    "WITH ev AS (\n",
    "  SELECT\n",
    "    date_ym,\n",
    "    CAST(log_create_time AS TIMESTAMP) AS ts,\n",
    "    mac_addr,\n",
    "    X_User_Number,\n",
    "    CASE \n",
    "      WHEN get_json_object(normal_log, '$.old') IN ('Init','Active Standby','Always Ready','Suspend')\n",
    "           AND get_json_object(normal_log, '$.new') IN ('Active') THEN 'TV_ON'\n",
    "      WHEN get_json_object(normal_log, '$.old') IN ('Active','Screen Saver','Screen Off')\n",
    "           AND get_json_object(normal_log, '$.new') IN ('Active Standby','Always Ready','Suspend','Power Off','Reboot') THEN 'TV_OFF'\n",
    "    END AS ev\n",
    "  FROM kic_data_ods.tlamp.normal_log_webos25\n",
    "  WHERE date_ym = '2025-06'\n",
    "    AND context_name = 'tvpowerd'\n",
    "    AND message_id = 'NL_POWER_STATE'\n",
    "    AND log_create_time >= to_date(concat(date_ym, '-01'))\n",
    "),\n",
    "ev_only AS (\n",
    "  SELECT * FROM ev WHERE ev IN ('TV_ON','TV_OFF')\n",
    "),\n",
    "paired AS (\n",
    "  SELECT\n",
    "    date_ym, ts, mac_addr, X_User_Number, ev,\n",
    "    LAG(ev) OVER (PARTITION BY mac_addr, X_User_Number ORDER BY ts) AS prev_ev,\n",
    "    LEAD(IF(ev='TV_OFF', ts, NULL), 1) IGNORE NULLS\n",
    "      OVER (PARTITION BY mac_addr, X_User_Number ORDER BY ts) AS next_off_time\n",
    "  FROM ev_only\n",
    "),\n",
    "watch_spans AS (\n",
    "  SELECT\n",
    "    mac_addr,\n",
    "    X_User_Number,\n",
    "    ts AS on_time,\n",
    "    next_off_time,\n",
    "    TIMESTAMPDIFF(SECOND, ts, next_off_time) AS duration_sec\n",
    "  FROM paired\n",
    "  WHERE ev = 'TV_ON'\n",
    "    AND (prev_ev IS NULL OR prev_ev <> 'TV_ON')        -- 연속 ON 중 첫 ON만\n",
    "    AND next_off_time IS NOT NULL                      -- 다음 OFF가 있는 경우만\n",
    ")\n",
    "SELECT\n",
    "  mac_addr,\n",
    "  X_User_Number,\n",
    "  SUM(CASE WHEN duration_sec > 0 THEN duration_sec END) AS watch_seconds,\n",
    "  ROUND(SUM(CASE WHEN duration_sec > 0 THEN duration_sec END)/3600.0, 3) AS watch_hours\n",
    "FROM watch_spans\n",
    "GROUP BY mac_addr, X_User_Number\n",
    "ORDER BY mac_addr, X_User_Number;\n"
   ]
  },
  {
   "cell_type": "code",
   "execution_count": 0,
   "metadata": {
    "application/vnd.databricks.v1+cell": {
     "cellMetadata": {
      "byteLimit": 2048000,
      "rowLimit": 10000
     },
     "inputWidgets": {},
     "nuid": "39320dd5-2276-4929-810e-ba80e81a61b3",
     "showTitle": false,
     "tableResultSettingsMap": {},
     "title": ""
    }
   },
   "outputs": [],
   "source": [
    "%sql\n",
    "WITH ev AS (\n",
    "  SELECT\n",
    "    date_ym,\n",
    "    CAST(log_create_time AS TIMESTAMP) AS ts,\n",
    "    mac_addr,\n",
    "    X_User_Number,\n",
    "    CASE \n",
    "      WHEN get_json_object(normal_log, '$.old') IN ('Init','Active Standby','Always Ready','Suspend')\n",
    "           AND get_json_object(normal_log, '$.new') IN ('Active') THEN 'TV_ON'\n",
    "      WHEN get_json_object(normal_log, '$.old') IN ('Active','Screen Saver','Screen Off')\n",
    "           AND get_json_object(normal_log, '$.new') IN ('Active Standby','Always Ready','Suspend','Power Off','Reboot') THEN 'TV_OFF'\n",
    "    END AS ev\n",
    "  FROM kic_data_ods.tlamp.normal_log_webos25\n",
    "  WHERE date_ym = '2025-06'\n",
    "    AND context_name = 'tvpowerd'\n",
    "    AND message_id = 'NL_POWER_STATE'\n",
    "    AND log_create_time >= to_date(concat(date_ym, '-01'))\n",
    "),\n",
    "ev_only AS (\n",
    "  SELECT * FROM ev WHERE ev IN ('TV_ON','TV_OFF')\n",
    "),\n",
    "paired AS (\n",
    "  SELECT\n",
    "    date_ym, ts, mac_addr, X_User_Number, ev,\n",
    "    LAG(ev) OVER (PARTITION BY mac_addr, X_User_Number ORDER BY ts) AS prev_ev,\n",
    "    LEAD(IF(ev='TV_OFF', ts, NULL), 1) IGNORE NULLS\n",
    "      OVER (PARTITION BY mac_addr, X_User_Number ORDER BY ts) AS next_off_time\n",
    "  FROM ev_only\n",
    "),\n",
    "watch_spans AS (\n",
    "  SELECT\n",
    "    mac_addr,\n",
    "    X_User_Number,\n",
    "    ts AS on_time,\n",
    "    next_off_time,\n",
    "    TIMESTAMPDIFF(SECOND, ts, next_off_time) AS duration_sec\n",
    "  FROM paired\n",
    "  WHERE ev = 'TV_ON'\n",
    "    AND (prev_ev IS NULL OR prev_ev <> 'TV_ON')        -- 연속 ON 중 첫 ON만\n",
    "    AND next_off_time IS NOT NULL                      -- 다음 OFF가 있는 경우만\n",
    ")\n",
    "SELECT\n",
    "  date(on_time) AS dt,\n",
    "  mac_addr,\n",
    "  X_User_Number,\n",
    "  SUM(CASE WHEN duration_sec > 0 THEN duration_sec END) AS watch_seconds,\n",
    "  ROUND(SUM(CASE WHEN duration_sec > 0 THEN duration_sec END)/3600.0, 3) AS watch_hours\n",
    "FROM watch_spans\n",
    "GROUP BY date(on_time), mac_addr, X_User_Number\n",
    "ORDER BY dt, mac_addr, X_User_Number;\n"
   ]
  },
  {
   "cell_type": "code",
   "execution_count": 0,
   "metadata": {
    "application/vnd.databricks.v1+cell": {
     "cellMetadata": {
      "byteLimit": 2048000,
      "rowLimit": 10000
     },
     "inputWidgets": {},
     "nuid": "e12a77a3-ee86-4e9f-95dc-6f5f65115370",
     "showTitle": false,
     "tableResultSettingsMap": {
      "0": {
       "dataGridStateBlob": "{\"version\":1,\"tableState\":{\"columnPinning\":{\"left\":[\"#row_number#\"],\"right\":[]},\"columnSizing\":{\"next_off_time\":212},\"columnVisibility\":{}},\"settings\":{\"columns\":{}},\"syncTimestamp\":1757739176963}",
       "filterBlob": null,
       "queryPlanFiltersBlob": null,
       "tableResultIndex": 0
      }
     },
     "title": ""
    }
   },
   "outputs": [],
   "source": [
    "%sql\n",
    "-- 1) 원본 + 이벤트만 정제\n",
    "WITH events AS (\n",
    "  SELECT\n",
    "    date_ym,\n",
    "    CAST(log_create_time AS TIMESTAMP)         AS ts,\n",
    "    mac_addr,\n",
    "    X_User_Number,\n",
    "    CASE \n",
    "      WHEN (get_json_object(normal_log, '$.old') IN ('Init','Active Standby','Always Ready','Suspend')\n",
    "            AND get_json_object(normal_log, '$.new') IN ('Active')) THEN 'TV_ON'\n",
    "      WHEN (get_json_object(normal_log, '$.old') IN ('Active','Screen Saver','Screen Off')\n",
    "            AND get_json_object(normal_log, '$.new') IN ('Active Standby','Always Ready','Suspend','Power Off','Reboot')) THEN 'TV_OFF'\n",
    "      ELSE NULL\n",
    "    END AS tv_onoff_event\n",
    "  FROM kic_data_ods.tlamp.normal_log_webos25\n",
    "  WHERE date_ym = '2025-06'\n",
    "    AND context_name = 'tvpowerd'\n",
    "    AND message_id = 'NL_POWER_STATE'\n",
    "    AND log_create_time >= to_date(concat(date_ym, '-01'))\n",
    "),\n",
    "ev_only AS (\n",
    "  SELECT *\n",
    "  FROM events\n",
    "  WHERE tv_onoff_event IN ('TV_ON','TV_OFF')\n",
    "),\n",
    "-- 2) 다음 OFF 시간 채우기(같은 기기/유저 파티션에서 다음으로 등장하는 OFF)\n",
    "paired AS (\n",
    "  SELECT\n",
    "    date_ym,\n",
    "    ts,\n",
    "    mac_addr,\n",
    "    X_User_Number,\n",
    "    tv_onoff_event,\n",
    "    -- TV_OFF인 경우에만 ts를 채우고, 그 외는 NULL\n",
    "    CASE WHEN tv_onoff_event = 'TV_OFF' THEN ts END AS off_time,\n",
    "    -- NULL을 건너뛰고 다음으로 나타나는 off_time을 가져옴\n",
    "    LEAD(CASE WHEN tv_onoff_event = 'TV_OFF' THEN ts END, 1) IGNORE NULLS\n",
    "      OVER (PARTITION BY mac_addr, X_User_Number ORDER BY ts) AS next_off_time\n",
    "  FROM ev_only\n",
    "),\n",
    "-- 3) TV_ON인 순간에 대해 다음 OFF까지 시청 시간 계산\n",
    "watch_spans AS (\n",
    "  SELECT\n",
    "    date_ym,\n",
    "    mac_addr,\n",
    "    X_User_Number,\n",
    "    ts AS on_time,\n",
    "    next_off_time,\n",
    "    -- 초 단위 시청 시간\n",
    "    TIMESTAMPDIFF(SECOND, ts, next_off_time) AS duration_sec\n",
    "  FROM paired\n",
    "  WHERE tv_onoff_event = 'TV_ON'\n",
    ")\n",
    "select *\n",
    "from watch_spans\n",
    "where 1=1\n",
    "  and mac_addr = '0005c60dad06e469a228353fcf9f08bb4cedaf3aa5475c9c64818fe69e139141'"
   ]
  },
  {
   "cell_type": "code",
   "execution_count": 0,
   "metadata": {
    "application/vnd.databricks.v1+cell": {
     "cellMetadata": {
      "byteLimit": 2048000,
      "rowLimit": 10000
     },
     "inputWidgets": {},
     "nuid": "180c58aa-5970-457f-b0ee-d1507dcdbd42",
     "showTitle": false,
     "tableResultSettingsMap": {},
     "title": ""
    }
   },
   "outputs": [],
   "source": [
    "%sql\n",
    "  SELECT\n",
    "    date_ym,\n",
    "    CAST(log_create_time AS TIMESTAMP)         AS ts,\n",
    "    mac_addr,\n",
    "    X_User_Number,\n",
    "    CASE \n",
    "      WHEN (get_json_object(normal_log, '$.old') IN ('Init','Active Standby','Always Ready','Suspend')\n",
    "            AND get_json_object(normal_log, '$.new') IN ('Active')) THEN 'TV_ON'\n",
    "      WHEN (get_json_object(normal_log, '$.old') IN ('Active','Screen Saver','Screen Off')\n",
    "            AND get_json_object(normal_log, '$.new') IN ('Active Standby','Always Ready','Suspend','Power Off','Reboot')) THEN 'TV_OFF'\n",
    "      ELSE NULL\n",
    "    END AS tv_onoff_event\n",
    "  FROM kic_data_ods.tlamp.normal_log_webos25\n",
    "  WHERE date_ym = '2025-06'\n",
    "    AND context_name = 'tvpowerd'\n",
    "    AND message_id = 'NL_POWER_STATE'\n",
    "    AND log_create_time >= to_date(concat(date_ym, '-01'))\n",
    "    and mac_addr = '0005c60dad06e469a228353fcf9f08bb4cedaf3aa5475c9c64818fe69e139141'\n",
    "  order by ts"
   ]
  },
  {
   "cell_type": "code",
   "execution_count": 0,
   "metadata": {
    "application/vnd.databricks.v1+cell": {
     "cellMetadata": {
      "byteLimit": 2048000,
      "rowLimit": 10000
     },
     "inputWidgets": {},
     "nuid": "972fcf98-b124-4752-8cd7-1e8c94bb7029",
     "showTitle": false,
     "tableResultSettingsMap": {
      "0": {
       "dataGridStateBlob": "{\"version\":1,\"tableState\":{\"columnPinning\":{\"left\":[\"#row_number#\"],\"right\":[]},\"columnSizing\":{},\"columnVisibility\":{}},\"settings\":{\"columns\":{}},\"syncTimestamp\":1757739474151}",
       "filterBlob": null,
       "queryPlanFiltersBlob": null,
       "tableResultIndex": 0
      }
     },
     "title": ""
    }
   },
   "outputs": [],
   "source": [
    "\n",
    "WITH ev AS (\n",
    "  SELECT\n",
    "    date_ym,\n",
    "    CAST(log_create_time AS TIMESTAMP) AS ts,\n",
    "    mac_addr,\n",
    "    X_User_Number,\n",
    "    CASE \n",
    "      WHEN get_json_object(normal_log, '$.old') IN ('Init','Active Standby','Always Ready','Suspend')\n",
    "           AND get_json_object(normal_log, '$.new') IN ('Active') THEN 'TV_ON'\n",
    "      WHEN get_json_object(normal_log, '$.old') IN ('Active','Screen Saver','Screen Off')\n",
    "           AND get_json_object(normal_log, '$.new') IN ('Active Standby','Always Ready','Suspend','Power Off','Reboot') THEN 'TV_OFF'\n",
    "    END AS ev\n",
    "  FROM kic_data_ods.tlamp.normal_log_webos25\n",
    "  WHERE date_ym = '2025-06'\n",
    "    AND context_name = 'tvpowerd'\n",
    "    AND message_id = 'NL_POWER_STATE'\n",
    "    AND log_create_time >= to_date(concat(date_ym, '-01'))\n",
    "      and mac_addr = '0005c60dad06e469a228353fcf9f08bb4cedaf3aa5475c9c64818fe69e139141'\n",
    "),\n",
    "ev_only AS (\n",
    "  SELECT * FROM ev WHERE ev IN ('TV_ON','TV_OFF')\n",
    "),\n",
    "paired AS (\n",
    "  SELECT\n",
    "    date_ym, ts, mac_addr, X_User_Number, ev,\n",
    "    LAG(ev) OVER (PARTITION BY mac_addr, X_User_Number ORDER BY ts) AS prev_ev,\n",
    "    LEAD(IF(ev='TV_OFF', ts, NULL), 1) IGNORE NULLS\n",
    "      OVER (PARTITION BY mac_addr, X_User_Number ORDER BY ts) AS next_off_time\n",
    "  FROM ev_only\n",
    "),\n",
    "watch_spans AS (\n",
    "  SELECT\n",
    "    mac_addr,\n",
    "    X_User_Number,\n",
    "    ts AS on_time,\n",
    "    next_off_time,\n",
    "    TIMESTAMPDIFF(SECOND, ts, next_off_time) AS duration_sec\n",
    "  FROM paired\n",
    "  WHERE ev = 'TV_ON'\n",
    "    AND (prev_ev IS NULL OR prev_ev <> 'TV_ON')        -- 연속 ON 중 첫 ON만\n",
    "    AND next_off_time IS NOT NULL                      -- 다음 OFF가 있는 경우만\n",
    ")\n",
    "\n",
    "select *\n",
    "from ev_only"
   ]
  },
  {
   "cell_type": "code",
   "execution_count": 0,
   "metadata": {
    "application/vnd.databricks.v1+cell": {
     "cellMetadata": {},
     "inputWidgets": {},
     "nuid": "ff9f7bec-1c8f-4c39-afee-914c76fc3ef5",
     "showTitle": false,
     "tableResultSettingsMap": {},
     "title": ""
    }
   },
   "outputs": [],
   "source": []
  },
  {
   "cell_type": "code",
   "execution_count": 0,
   "metadata": {
    "application/vnd.databricks.v1+cell": {
     "cellMetadata": {
      "byteLimit": 2048000,
      "rowLimit": 10000
     },
     "inputWidgets": {},
     "nuid": "895b2db1-2a57-4f32-ab60-ef58adad1532",
     "showTitle": true,
     "tableResultSettingsMap": {
      "0": {
       "dataGridStateBlob": "{\"version\":1,\"tableState\":{\"columnPinning\":{\"left\":[\"#row_number#\"],\"right\":[]},\"columnSizing\":{\"mac_addr\":131,\"X_User_Number\":155,\"watch_seconds\":143},\"columnVisibility\":{}},\"settings\":{\"columns\":{}},\"syncTimestamp\":1757740535854}",
       "filterBlob": null,
       "queryPlanFiltersBlob": null,
       "tableResultIndex": 0
      }
     },
     "title": "추출로직 v1_ 예시제공"
    }
   },
   "outputs": [],
   "source": [
    "WITH ev AS (\n",
    "  SELECT\n",
    "    date_ym,\n",
    "    CAST(log_create_time AS TIMESTAMP) AS ts,\n",
    "    mac_addr,\n",
    "    X_User_Number,\n",
    "    CASE \n",
    "      WHEN get_json_object(normal_log, '$.old') IN ('Init','Active Standby','Always Ready','Suspend')\n",
    "           AND get_json_object(normal_log, '$.new') IN ('Active') THEN 'TV_ON'\n",
    "      WHEN get_json_object(normal_log, '$.old') IN ('Active','Screen Saver','Screen Off')\n",
    "           AND get_json_object(normal_log, '$.new') IN ('Active Standby','Always Ready','Suspend','Power Off','Reboot') THEN 'TV_OFF'\n",
    "    END AS ev\n",
    "  FROM kic_data_ods.tlamp.normal_log_webos25\n",
    "  WHERE date_ym = '2025-06'\n",
    "    AND context_name = 'tvpowerd'\n",
    "    AND message_id = 'NL_POWER_STATE'\n",
    "    AND log_create_time >= to_date(concat(date_ym, '-01'))\n",
    "      -- and mac_addr = '0005c60dad06e469a228353fcf9f08bb4cedaf3aa5475c9c64818fe69e139141'\n",
    "),\n",
    "ev_only AS (\n",
    "  SELECT\n",
    "    date_ym,\n",
    "    CAST(ts AS TIMESTAMP) AS ts,              -- 이미 ts가 있으면 캐스팅만\n",
    "    mac_addr,\n",
    "    X_User_Number,\n",
    "    ev\n",
    "  FROM ev \n",
    "  WHERE ev IN ('TV_ON','TV_OFF')\n",
    "),\n",
    "with_prev AS (\n",
    "  SELECT\n",
    "    date_ym, ts, mac_addr, X_User_Number, ev,\n",
    "    LAG(ev) OVER (PARTITION BY mac_addr, X_User_Number ORDER BY ts) AS prev_ev,\n",
    "    LAG(IF(ev='TV_ON', ts, NULL), 1) IGNORE NULLS\n",
    "      OVER (PARTITION BY mac_addr, X_User_Number ORDER BY ts) AS prev_on_time\n",
    "  FROM ev_only\n",
    "),\n",
    "off_spans AS (\n",
    "  SELECT\n",
    "    mac_addr,\n",
    "    X_User_Number,\n",
    "    prev_on_time AS on_time,\n",
    "    ts           AS off_time,\n",
    "    TIMESTAMPDIFF(SECOND, prev_on_time, ts) AS duration_sec\n",
    "  FROM with_prev\n",
    "  WHERE ev = 'TV_OFF'\n",
    "    AND prev_on_time IS NOT NULL           -- 직전 ON이 있는 OFF만\n",
    "    AND (prev_ev IS NULL OR prev_ev <> 'TV_OFF') -- 연속 OFF 제거\n",
    "    AND ts > prev_on_time                  -- 음수 방지\n",
    ")\n",
    "-- SELECT\n",
    "--   mac_addr,\n",
    "--   X_User_Number,\n",
    "--   SUM(duration_sec) AS watch_seconds,\n",
    "--   ROUND(SUM(duration_sec)/3600.0, 3) AS watch_hours\n",
    "-- FROM off_spans\n",
    "-- GROUP BY mac_addr, X_User_Number\n",
    "-- ORDER BY mac_addr, X_User_Number;\n",
    "SELECT\n",
    "  date(on_time) AS dt,\n",
    "  mac_addr,\n",
    "  X_User_Number,\n",
    "  SUM(CASE WHEN duration_sec > 0 THEN duration_sec END) AS watch_seconds,\n",
    "  ROUND(SUM(CASE WHEN duration_sec > 0 THEN duration_sec END)/3600.0, 3) AS watch_hours\n",
    "FROM off_spans\n",
    "GROUP BY date(on_time), mac_addr, X_User_Number\n",
    "ORDER BY dt, mac_addr, X_User_Number\n",
    ";\n"
   ]
  },
  {
   "cell_type": "code",
   "execution_count": 0,
   "metadata": {
    "application/vnd.databricks.v1+cell": {
     "cellMetadata": {
      "byteLimit": 2048000,
      "rowLimit": 10000
     },
     "inputWidgets": {},
     "nuid": "875829e2-2214-48b2-9f5c-29c753d9d137",
     "showTitle": true,
     "tableResultSettingsMap": {
      "0": {
       "dataGridStateBlob": "{\"version\":1,\"tableState\":{\"columnPinning\":{\"left\":[\"#row_number#\"],\"right\":[]},\"columnSizing\":{\"mac_addr\":154,\"X_User_Number\":179},\"columnVisibility\":{}},\"settings\":{\"columns\":{}},\"syncTimestamp\":1757740626834}",
       "filterBlob": null,
       "queryPlanFiltersBlob": null,
       "tableResultIndex": 0
      }
     },
     "title": "예시"
    }
   },
   "outputs": [],
   "source": [
    "  SELECT\n",
    "    date_ym,\n",
    "    CAST(log_create_time AS TIMESTAMP) AS ts,\n",
    "    mac_addr,\n",
    "    X_User_Number,\n",
    "    CASE \n",
    "      WHEN get_json_object(normal_log, '$.old') IN ('Init','Active Standby','Always Ready','Suspend')\n",
    "           AND get_json_object(normal_log, '$.new') IN ('Active') THEN 'TV_ON'\n",
    "      WHEN get_json_object(normal_log, '$.old') IN ('Active','Screen Saver','Screen Off')\n",
    "           AND get_json_object(normal_log, '$.new') IN ('Active Standby','Always Ready','Suspend','Power Off','Reboot') THEN 'TV_OFF'\n",
    "    END AS ev\n",
    "  FROM kic_data_ods.tlamp.normal_log_webos25\n",
    "  WHERE date_ym = '2025-06'\n",
    "    AND context_name = 'tvpowerd'\n",
    "    AND message_id = 'NL_POWER_STATE'\n",
    "    AND log_create_time >= to_date(concat(date_ym, '-01'))\n",
    "    and mac_addr ='0481637383f5035b5a38d1dd2e50d3d5a1f0db42c368622e6a85f35b1fbb3b19' --='0357615b77d65d34c64bc57f602fe30bc06a49265e445fc7c114bffcde787f2e'"
   ]
  },
  {
   "cell_type": "code",
   "execution_count": 0,
   "metadata": {
    "application/vnd.databricks.v1+cell": {
     "cellMetadata": {
      "byteLimit": 2048000,
      "rowLimit": 10000
     },
     "inputWidgets": {},
     "nuid": "6f778bac-c0cd-4d7e-b0e9-ea87cca73eb1",
     "showTitle": true,
     "tableResultSettingsMap": {
      "0": {
       "dataGridStateBlob": "{\"version\":1,\"tableState\":{\"columnPinning\":{\"left\":[\"#row_number#\"],\"right\":[]},\"columnSizing\":{\"mbr_no\":253},\"columnVisibility\":{}},\"settings\":{\"columns\":{}},\"syncTimestamp\":1757999498625}",
       "filterBlob": null,
       "queryPlanFiltersBlob": null,
       "tableResultIndex": 0
      }
     },
     "title": "추출로직 v2"
    }
   },
   "outputs": [],
   "source": [
    "WITH ev AS (\n",
    "  SELECT\n",
    "    date_ym,\n",
    "    CAST(log_create_time AS TIMESTAMP) AS ts,\n",
    "    -- mac_addr,\n",
    "    X_User_Number,\n",
    "    CASE \n",
    "      WHEN get_json_object(normal_log, '$.old') IN ('Init','Active Standby','Always Ready','Suspend')\n",
    "           AND get_json_object(normal_log, '$.new') IN ('Active') THEN 'TV_ON'\n",
    "      WHEN get_json_object(normal_log, '$.old') IN ('Active','Screen Saver','Screen Off')\n",
    "           AND get_json_object(normal_log, '$.new') IN ('Active Standby','Always Ready','Suspend','Power Off','Reboot') THEN 'TV_OFF'\n",
    "    END AS ev\n",
    "  FROM kic_data_ods.tlamp.normal_log_webos25\n",
    "  WHERE date_ym BETWEEN '2025-06' and '2025-08'\n",
    "    AND context_name = 'tvpowerd'\n",
    "    AND message_id = 'NL_POWER_STATE'\n",
    "    AND log_create_time >= to_date(concat(date_ym, '-01'))\n",
    "    AND X_User_Number != ''\n",
    "    AND X_Device_Country = 'KR'\n",
    "),\n",
    "ev_only AS (\n",
    "  SELECT\n",
    "    date_ym,\n",
    "    CAST(ts AS TIMESTAMP) AS ts,              -- 이미 ts가 있으면 캐스팅만\n",
    "    -- mac_addr,\n",
    "    X_User_Number,\n",
    "    ev\n",
    "  FROM ev \n",
    "  WHERE ev IN ('TV_ON','TV_OFF')\n",
    "),\n",
    "with_prev AS (\n",
    "  SELECT\n",
    "    date_ym, ts, \n",
    "    -- mac_addr, \n",
    "    X_User_Number, ev,\n",
    "    LAG(ev) OVER (PARTITION BY X_User_Number ORDER BY ts) AS prev_ev, -- mac_addr,\n",
    "    LAG(IF(ev='TV_ON', ts, NULL), 1) IGNORE NULLS\n",
    "      OVER (PARTITION BY  X_User_Number ORDER BY ts) AS prev_on_time -- mac_addr,\n",
    "  FROM ev_only\n",
    "),\n",
    "off_spans AS (\n",
    "  SELECT\n",
    "    -- mac_addr,\n",
    "    X_User_Number,\n",
    "    prev_on_time AS on_time,\n",
    "    ts           AS off_time,\n",
    "    TIMESTAMPDIFF(SECOND, prev_on_time, ts) AS duration_sec\n",
    "  FROM with_prev\n",
    "  WHERE ev = 'TV_OFF'\n",
    "    AND prev_on_time IS NOT NULL           -- 직전 ON이 있는 OFF만\n",
    "    AND (prev_ev IS NULL OR prev_ev <> 'TV_OFF') -- 연속 OFF 제거\n",
    "    AND ts > prev_on_time                  -- 음수 방지\n",
    "), user_num_dimension AS ( \n",
    "  select X_User_Number as mbr_no, X_User_Number_hashed as X_User_Number\n",
    "  from kic_data_private.tlamp.rbt_x_user_number_webos22\n",
    "  union all\n",
    "  select X_User_Number as mbr_no, X_User_Number_hashed as X_User_Number\n",
    "  from kic_data_private.tlamp.rbt_x_user_number_webos23\n",
    "  union all\n",
    "  select X_User_Number as mbr_no, X_User_Number_hashed as X_User_Number\n",
    "  from kic_data_private.tlamp.rbt_x_user_number_webos24\n",
    "  union all\n",
    "  select X_User_Number as mbr_no, X_User_Number_hashed as X_User_Number\n",
    "  from kic_data_private.tlamp.rbt_x_user_number_webos25\n",
    "  union all\n",
    "  select X_User_Number as mbr_no, X_User_Number_hashed as X_User_Number\n",
    "  from kic_data_private.tlamp.rbt_x_user_number_webos60\n",
    "), distinct_user_num_dimension AS (\n",
    "  select distinct mbr_no, X_User_Number\n",
    "  from user_num_dimension\n",
    ")\n",
    "SELECT\n",
    "  date(on_time) AS dt,\n",
    "  mbr_no,\n",
    "  SUM(CASE WHEN duration_sec > 0 THEN duration_sec END) AS watch_seconds,\n",
    "  ROUND(SUM(CASE WHEN duration_sec > 0 THEN duration_sec END)/3600.0, 2) AS watch_hours,\n",
    "  ROUND(SUM(CASE WHEN duration_sec > 0 THEN duration_sec END)/3600.0/24, 2) AS watch_days\n",
    "FROM off_spans\n",
    "LEFT JOIN distinct_user_num_dimension \n",
    "  using (X_User_Number)\n",
    "GROUP BY date(on_time), mbr_no\n",
    "ORDER BY dt, mbr_no\n",
    ";\n"
   ]
  },
  {
   "cell_type": "code",
   "execution_count": 0,
   "metadata": {
    "application/vnd.databricks.v1+cell": {
     "cellMetadata": {
      "byteLimit": 2048000,
      "rowLimit": 10000
     },
     "inputWidgets": {},
     "nuid": "b0a08c7f-4cdd-4303-9186-61c8876551ef",
     "showTitle": false,
     "tableResultSettingsMap": {},
     "title": ""
    }
   },
   "outputs": [],
   "source": [
    "select mac_dimension as (\n",
    "  select \n",
    "    X_User_Number as mbr_no, X_User_Number_hashed as X_User_Number\n",
    "  from kic_data_private.tlamp.rbt_x_user_number_webos22\n",
    "  X_User_Number_hashed\n",
    "  union all\n",
    "  select *\n",
    "  from kic_data_private.tlamp.rbt_x_user_number_webos23\n",
    "  union all\n",
    "  select *\n",
    "  from kic_data_private.tlamp.rbt_x_user_number_webos24\n",
    "  union all\n",
    "  select *\n",
    "  from kic_data_private.tlamp.rbt_x_user_number_webos25\n",
    "  union all\n",
    "  select *\n",
    "  from kic_data_private.tlamp.rbt_x_user_number_webos60\n",
    ")\n"
   ]
  },
  {
   "cell_type": "code",
   "execution_count": 0,
   "metadata": {
    "application/vnd.databricks.v1+cell": {
     "cellMetadata": {},
     "inputWidgets": {},
     "nuid": "5e02005b-29b1-40ff-a4c8-c968c56b64bb",
     "showTitle": false,
     "tableResultSettingsMap": {},
     "title": ""
    }
   },
   "outputs": [],
   "source": []
  }
 ],
 "metadata": {
  "application/vnd.databricks.v1+notebook": {
   "computePreferences": null,
   "dashboards": [],
   "environmentMetadata": {
    "base_environment": "",
    "environment_version": "3"
   },
   "inputWidgetPreferences": null,
   "language": "sql",
   "notebookMetadata": {
    "mostRecentlyExecutedCommandWithImplicitDF": {
     "commandId": -1,
     "dataframes": [
      "_sqldf"
     ]
    },
    "pythonIndentUnit": 4
   },
   "notebookName": "999",
   "widgets": {}
  },
  "language_info": {
   "name": "sql"
  }
 },
 "nbformat": 4,
 "nbformat_minor": 0
}
